{
 "cells": [
  {
   "cell_type": "code",
   "execution_count": 1,
   "metadata": {
    "ExecuteTime": {
     "end_time": "2022-11-28T06:51:17.797296Z",
     "start_time": "2022-11-28T06:51:17.677674Z"
    },
    "execution": {
     "iopub.execute_input": "2022-11-28T06:25:12.143203Z",
     "iopub.status.busy": "2022-11-28T06:25:12.142428Z",
     "iopub.status.idle": "2022-11-28T06:25:12.215032Z",
     "shell.execute_reply": "2022-11-28T06:25:12.214049Z",
     "shell.execute_reply.started": "2022-11-28T06:25:12.143163Z"
    }
   },
   "outputs": [],
   "source": [
    "import os\n",
    "from glob import glob\n",
    "\n",
    "from pyspark.sql import SparkSession\n",
    "\n",
    "import pyspark.sql.functions as F\n",
    "\n",
    "from pyspark.sql.types import (\n",
    "    ArrayType,\n",
    "    IntegerType,\n",
    "    MapType,\n",
    "    StringType,\n",
    "    StructField,\n",
    "    StructType,\n",
    "    FloatType,\n",
    "    TimestampType,\n",
    "    BooleanType,\n",
    "    DateType\n",
    ")"
   ]
  },
  {
   "cell_type": "code",
   "execution_count": 3,
   "metadata": {
    "ExecuteTime": {
     "end_time": "2022-11-28T06:51:42.924745Z",
     "start_time": "2022-11-28T06:51:42.914233Z"
    }
   },
   "outputs": [],
   "source": [
    "%%capture\n",
    "spark = SparkSession.builder.appName('BDP').getOrCreate()"
   ]
  },
  {
   "cell_type": "code",
   "execution_count": 4,
   "metadata": {
    "execution": {
     "iopub.execute_input": "2022-11-28T06:25:18.735505Z",
     "iopub.status.busy": "2022-11-28T06:25:18.735058Z",
     "iopub.status.idle": "2022-11-28T06:25:18.750542Z",
     "shell.execute_reply": "2022-11-28T06:25:18.749052Z",
     "shell.execute_reply.started": "2022-11-28T06:25:18.735459Z"
    }
   },
   "outputs": [],
   "source": [
    "def generate_schema():\n",
    "    \"\"\"\n",
    "    JSON schema went through a few modifications across different versions of the dataset.\n",
    "    In this work, we're finalizing the dataset version 111 and using its schema as final.\n",
    "    The schema provided along with the dataset acts as a reference point however there were\n",
    "    a few falsely nested structures in it which has been corrected by us. Further, there are\n",
    "    quite a lot of fields but we'll extract only the ones we need for our project.\n",
    "    \n",
    "    Original schema:\n",
    "    https://ai2-semanticscholar-cord-19.s3-us-west-2.amazonaws.com/2020-03-13/json_schema.txt\n",
    "    \"\"\"\n",
    "    \n",
    "    # Extract author information, although not needed for modelling but good to have for data analysis\n",
    "    authors_schema = ArrayType(\n",
    "        StructType(\n",
    "            [\n",
    "                StructField(\"first\", StringType()),\n",
    "                StructField(\"middle\", ArrayType(StringType())),\n",
    "                StructField(\"last\", StringType()),\n",
    "                StructField(\"suffix\", StringType())\n",
    "            ]\n",
    "        )\n",
    "    )\n",
    "    \n",
    "    # Extract different sections such as abstract and body text\n",
    "    section_schema = ArrayType(\n",
    "        StructType(\n",
    "            [\n",
    "                StructField(\"text\", StringType()),\n",
    "                StructField(\"section\", StringType())\n",
    "            ]\n",
    "        )\n",
    "    )\n",
    "\n",
    "    schema = StructType(\n",
    "        [\n",
    "            StructField(\"paper_id\", StringType()),\n",
    "            StructField(\n",
    "                \"metadata\",\n",
    "                StructType(\n",
    "                    [\n",
    "                        StructField(\"title\", StringType()),\n",
    "                        StructField(\"authors\", authors_schema)\n",
    "                    ]\n",
    "                ),\n",
    "                True,\n",
    "            ),\n",
    "            StructField(\"abstract\", section_schema),\n",
    "            StructField(\"body_text\", section_schema),\n",
    "        ]\n",
    "    )\n",
    "    \n",
    "    return schema\n",
    "\n",
    "\n",
    "def jsons_to_df(spark, paths, schema):\n",
    "    return spark.read.json(paths, schema=schema, multiLine=True)"
   ]
  },
  {
   "cell_type": "code",
   "execution_count": 5,
   "metadata": {
    "_cell_guid": "b1076dfc-b9ad-4769-8c92-a6c4dae69d19",
    "_uuid": "8f2839f25d086af736a60e9eeb907d3b93b6e0e5",
    "execution": {
     "iopub.execute_input": "2022-11-28T06:25:18.753333Z",
     "iopub.status.busy": "2022-11-28T06:25:18.752191Z",
     "iopub.status.idle": "2022-11-28T06:25:28.332910Z",
     "shell.execute_reply": "2022-11-28T06:25:28.331769Z",
     "shell.execute_reply.started": "2022-11-28T06:25:18.753297Z"
    }
   },
   "outputs": [
    {
     "name": "stdout",
     "output_type": "stream",
     "text": [
      "Total number of papers: 716956\n"
     ]
    }
   ],
   "source": [
    "DATA_PATH = \"gs://bdp_group6_bckt_2/data/\"\n",
    "SAVE_PATH = \"gs://bdp_group6_bckt_2/data/processed_data\"\n",
    "\n",
    "filepaths = glob(os.path.join(DATA_PATH, \"document_parses\", \"**\", \"*.json\"))\n",
    "print(\"Total number of papers:\", len(filepaths))"
   ]
  },
  {
   "cell_type": "code",
   "execution_count": 6,
   "metadata": {
    "execution": {
     "iopub.execute_input": "2022-11-28T06:25:28.337064Z",
     "iopub.status.busy": "2022-11-28T06:25:28.336668Z",
     "iopub.status.idle": "2022-11-28T06:25:37.814249Z",
     "shell.execute_reply": "2022-11-28T06:25:37.813077Z",
     "shell.execute_reply.started": "2022-11-28T06:25:28.337029Z"
    }
   },
   "outputs": [
    {
     "name": "stderr",
     "output_type": "stream",
     "text": [
      "                                                                                \r"
     ]
    },
    {
     "name": "stdout",
     "output_type": "stream",
     "text": [
      "--- Schema before processing ---\n",
      "root\n",
      " |-- paper_id: string (nullable = true)\n",
      " |-- metadata: struct (nullable = true)\n",
      " |    |-- title: string (nullable = true)\n",
      " |    |-- authors: array (nullable = true)\n",
      " |    |    |-- element: struct (containsNull = true)\n",
      " |    |    |    |-- first: string (nullable = true)\n",
      " |    |    |    |-- middle: array (nullable = true)\n",
      " |    |    |    |    |-- element: string (containsNull = true)\n",
      " |    |    |    |-- last: string (nullable = true)\n",
      " |    |    |    |-- suffix: string (nullable = true)\n",
      " |-- abstract: array (nullable = true)\n",
      " |    |-- element: struct (containsNull = true)\n",
      " |    |    |-- text: string (nullable = true)\n",
      " |    |    |-- section: string (nullable = true)\n",
      " |-- body_text: array (nullable = true)\n",
      " |    |-- element: struct (containsNull = true)\n",
      " |    |    |-- text: string (nullable = true)\n",
      " |    |    |-- section: string (nullable = true)\n",
      "\n",
      "\n",
      "--- Schema after processing ---\n",
      "root\n",
      " |-- paper_id: string (nullable = true)\n",
      " |-- body_text: string (nullable = false)\n",
      " |-- json_title: string (nullable = true)\n",
      " |-- json_authors: string (nullable = true)\n",
      " |-- json_abstract: string (nullable = false)\n",
      "\n"
     ]
    }
   ],
   "source": [
    "schema = generate_schema()\n",
    "df = jsons_to_df(spark, paths=filepaths, schema=schema)\n",
    "\n",
    "print(\"--- Schema before processing ---\")\n",
    "df.printSchema()\n",
    "\n",
    "# Get title\n",
    "df = df.withColumn('json_title', F.col('metadata.title'))\n",
    "\n",
    "# Get authors\n",
    "df = df.withColumn('firstnames', F.col('metadata.authors.first'))  # First name\n",
    "df = df.withColumn('middlenames', F.col('metadata.authors.middle'))  # Middle name\n",
    "\n",
    "# Middle names are list of list. Convert it to a list of strings\n",
    "@F.udf(returnType=ArrayType(StringType()))\n",
    "def parse_middlenames(array):\n",
    "    return [\" \".join(w).strip() for w in array]\n",
    "\n",
    "df = df.withColumn('middlenames', parse_middlenames(\"middlenames\"))\n",
    "df = df.withColumn('lastnames', F.col('metadata.authors.last'))  # Last name\n",
    "df = df.withColumn('suffixes', F.col('metadata.authors.suffix'))  # Suffix name\n",
    "\n",
    "# Concat the first, middle, last and suffix names for each author\n",
    "df = df.withColumn(\"json_authors\", F.expr(\n",
    "    \"transform(firstnames, (x, i) -> concat(x, ' ', middlenames[i], ' ', lastnames[i], ' ', suffixes[i]))\"))\n",
    "\n",
    "# Concat the list of authors into one \"; \" separated string\n",
    "df = df.withColumn('json_authors', F.concat_ws(\"; \", F.expr(\"transform(json_authors, x -> trim(x))\")))\n",
    "\n",
    "# Remove additional empty spaces from the names\n",
    "@F.udf()\n",
    "def parse_authors(array):\n",
    "    return \" \".join([x for x in array.split() if x.strip()])\n",
    "\n",
    "df = df.withColumn('json_authors', F.concat(parse_authors(\"json_authors\")))\n",
    "\n",
    "# Get abstract\n",
    "df = df.withColumn('json_abstract', F.col('abstract.text'))\n",
    "df = df.withColumn('json_abstract', F.concat_ws(\". \", 'json_abstract'))\n",
    "\n",
    "# Get body text\n",
    "df = df.withColumn('body_text', F.col('body_text.text'))\n",
    "df = df.withColumn('body_text', F.concat_ws(\". \", 'body_text'))\n",
    "\n",
    "df = df.drop(*[\"metadata\", \"abstract\", \"firstnames\", \"middlenames\", \"lastnames\", \"suffixes\"])\n",
    "\n",
    "print()\n",
    "print(\"--- Schema after processing ---\")\n",
    "df.printSchema()"
   ]
  },
  {
   "cell_type": "code",
   "execution_count": 7,
   "metadata": {
    "ExecuteTime": {
     "end_time": "2022-11-28T06:53:32.519965Z",
     "start_time": "2022-11-28T06:52:39.116866Z"
    },
    "execution": {
     "iopub.execute_input": "2022-11-28T06:26:10.269936Z",
     "iopub.status.busy": "2022-11-28T06:26:10.269547Z",
     "iopub.status.idle": "2022-11-28T06:26:58.770635Z",
     "shell.execute_reply": "2022-11-28T06:26:58.769392Z",
     "shell.execute_reply.started": "2022-11-28T06:26:10.269889Z"
    }
   },
   "outputs": [
    {
     "name": "stderr",
     "output_type": "stream",
     "text": [
      "[Stage 2:>                                                          (0 + 1) / 1]\r"
     ]
    },
    {
     "name": "stdout",
     "output_type": "stream",
     "text": [
      "Total number of metadata papers: 1056660\n"
     ]
    },
    {
     "name": "stderr",
     "output_type": "stream",
     "text": [
      "\r",
      "                                                                                \r"
     ]
    }
   ],
   "source": [
    "# Load the metadata\n",
    "metadata = spark.read.csv(os.path.join(INPUT_PATH, \"metadata.csv\"), inferSchema=True, header=True, multiLine=True)\n",
    "print(\"Total number of metadata papers:\", metadata.count())"
   ]
  },
  {
   "cell_type": "code",
   "execution_count": 8,
   "metadata": {
    "ExecuteTime": {
     "end_time": "2022-11-28T06:53:35.920947Z",
     "start_time": "2022-11-28T06:53:35.912435Z"
    }
   },
   "outputs": [
    {
     "name": "stdout",
     "output_type": "stream",
     "text": [
      "root\n",
      " |-- cord_uid: string (nullable = true)\n",
      " |-- sha: string (nullable = true)\n",
      " |-- source_x: string (nullable = true)\n",
      " |-- title: string (nullable = true)\n",
      " |-- doi: string (nullable = true)\n",
      " |-- pmcid: string (nullable = true)\n",
      " |-- pubmed_id: string (nullable = true)\n",
      " |-- license: string (nullable = true)\n",
      " |-- abstract: string (nullable = true)\n",
      " |-- publish_time: string (nullable = true)\n",
      " |-- authors: string (nullable = true)\n",
      " |-- journal: string (nullable = true)\n",
      " |-- mag_id: string (nullable = true)\n",
      " |-- who_covidence_id: string (nullable = true)\n",
      " |-- arxiv_id: string (nullable = true)\n",
      " |-- pdf_json_files: string (nullable = true)\n",
      " |-- pmc_json_files: string (nullable = true)\n",
      " |-- url: string (nullable = true)\n",
      " |-- s2_id: string (nullable = true)\n",
      "\n"
     ]
    }
   ],
   "source": [
    "metadata.printSchema()"
   ]
  },
  {
   "cell_type": "code",
   "execution_count": 9,
   "metadata": {
    "execution": {
     "iopub.execute_input": "2022-11-28T06:27:38.936139Z",
     "iopub.status.busy": "2022-11-28T06:27:38.934743Z",
     "iopub.status.idle": "2022-11-28T06:27:39.012035Z",
     "shell.execute_reply": "2022-11-28T06:27:39.010836Z",
     "shell.execute_reply.started": "2022-11-28T06:27:38.936094Z"
    }
   },
   "outputs": [],
   "source": [
    "# Rename a few columns\n",
    "metadata = metadata.withColumnRenamed(\"authors\", \"metadata_authors\")\n",
    "metadata = metadata.withColumnRenamed(\"abstract\", \"metadata_abstract\")\n",
    "metadata = metadata.withColumnRenamed(\"title\", \"metadata_title\")"
   ]
  },
  {
   "cell_type": "code",
   "execution_count": 11,
   "metadata": {
    "execution": {
     "iopub.execute_input": "2022-11-28T06:32:30.447672Z",
     "iopub.status.busy": "2022-11-28T06:32:30.447278Z",
     "iopub.status.idle": "2022-11-28T06:32:30.489392Z",
     "shell.execute_reply": "2022-11-28T06:32:30.488056Z",
     "shell.execute_reply.started": "2022-11-28T06:32:30.447641Z"
    }
   },
   "outputs": [],
   "source": [
    "@F.udf()\n",
    "def split_path(s):\n",
    "    if s:\n",
    "        return s.split(\"/\")[-1].split(\".json\")[0].split(\".xml\")[0]\n",
    "    return s\n",
    "\n",
    "metadata = metadata.withColumn(\"pdf_json_files\", split_path(\"pdf_json_files\"))\n",
    "metadata = metadata.withColumn(\"pmc_json_files\", split_path(\"pmc_json_files\"))\n",
    "\n",
    "metadata = metadata.drop(*[\"sha\", \"license\", \"mag_id\", \"who_covidence_id\", \"url\", \"s2_id\",\n",
    "                           \"arxiv_id\", \"doi\", \"pmcid\", \"pubmed_id\"])"
   ]
  },
  {
   "cell_type": "code",
   "execution_count": 12,
   "metadata": {
    "execution": {
     "iopub.execute_input": "2022-11-28T06:32:44.000327Z",
     "iopub.status.busy": "2022-11-28T06:32:43.999877Z",
     "iopub.status.idle": "2022-11-28T06:32:44.007840Z",
     "shell.execute_reply": "2022-11-28T06:32:44.006669Z",
     "shell.execute_reply.started": "2022-11-28T06:32:44.000291Z"
    }
   },
   "outputs": [
    {
     "name": "stdout",
     "output_type": "stream",
     "text": [
      "root\n",
      " |-- cord_uid: string (nullable = true)\n",
      " |-- source_x: string (nullable = true)\n",
      " |-- metadata_title: string (nullable = true)\n",
      " |-- metadata_abstract: string (nullable = true)\n",
      " |-- publish_time: string (nullable = true)\n",
      " |-- metadata_authors: string (nullable = true)\n",
      " |-- journal: string (nullable = true)\n",
      " |-- pdf_json_files: string (nullable = true)\n",
      " |-- pmc_json_files: string (nullable = true)\n",
      "\n"
     ]
    }
   ],
   "source": [
    "metadata.printSchema()"
   ]
  },
  {
   "cell_type": "code",
   "execution_count": 16,
   "metadata": {
    "execution": {
     "iopub.execute_input": "2022-11-28T06:33:35.740952Z",
     "iopub.status.busy": "2022-11-28T06:33:35.740528Z",
     "iopub.status.idle": "2022-11-28T06:33:35.745818Z",
     "shell.execute_reply": "2022-11-28T06:33:35.744882Z",
     "shell.execute_reply.started": "2022-11-28T06:33:35.740911Z"
    }
   },
   "outputs": [],
   "source": [
    "# Create a paper_id column consistent with the JSON files\n",
    "metadata = metadata.withColumn(\"paper_id\", F.when(F.col(\"pmc_json_files\").isNull() | F.isnan(\"pmc_json_files\"),\n",
    "                                                 metadata.pdf_json_files).otherwise(metadata.pmc_json_files))"
   ]
  },
  {
   "cell_type": "code",
   "execution_count": 17,
   "metadata": {
    "execution": {
     "iopub.execute_input": "2022-11-28T06:33:42.484873Z",
     "iopub.status.busy": "2022-11-28T06:33:42.484459Z",
     "iopub.status.idle": "2022-11-28T06:33:42.697274Z",
     "shell.execute_reply": "2022-11-28T06:33:42.695796Z",
     "shell.execute_reply.started": "2022-11-28T06:33:42.484838Z"
    }
   },
   "outputs": [],
   "source": [
    "# Merge the JSON data and metadata files on the paper_id column\n",
    "merged = metadata.join(df, on=\"paper_id\", how=\"inner\")\n",
    "\n",
    "# Decide on which title, abstract, and authors column to trust\n",
    "merged = merged.withColumn(\"title\",\n",
    "                            F.when(F.isnan(\"metadata_title\") | F.col(\"metadata_title\").isNull(),\n",
    "                                   merged.json_title).otherwise(merged.metadata_title))\n",
    "merged = merged.withColumn(\"abstract\",\n",
    "                            F.when(F.isnan(\"metadata_abstract\") | F.col(\"metadata_abstract\").isNull(),\n",
    "                                   merged.json_abstract).otherwise(merged.metadata_abstract))\n",
    "merged = merged.withColumn(\"authors\",\n",
    "                            F.when(F.isnan(\"metadata_authors\") | F.col(\"metadata_authors\").isNull(),\n",
    "                                   merged.json_authors).otherwise(merged.metadata_authors))\n",
    "\n",
    "# Delete redundant columns\n",
    "merged = merged.drop(*[\"metadata_title\", \"json_title\", \"metadata_abstract\", \"json_abstract\",\n",
    "                       \"metadata_authors\", \"json_authors\", \"pdf_json_files\", \"pmc_json_files\"])"
   ]
  },
  {
   "cell_type": "code",
   "execution_count": 18,
   "metadata": {
    "execution": {
     "iopub.execute_input": "2022-11-28T06:33:56.552855Z",
     "iopub.status.busy": "2022-11-28T06:33:56.552458Z",
     "iopub.status.idle": "2022-11-28T06:33:56.560040Z",
     "shell.execute_reply": "2022-11-28T06:33:56.559029Z",
     "shell.execute_reply.started": "2022-11-28T06:33:56.552822Z"
    }
   },
   "outputs": [
    {
     "name": "stdout",
     "output_type": "stream",
     "text": [
      "root\n",
      " |-- paper_id: string (nullable = true)\n",
      " |-- cord_uid: string (nullable = true)\n",
      " |-- source_x: string (nullable = true)\n",
      " |-- publish_time: string (nullable = true)\n",
      " |-- journal: string (nullable = true)\n",
      " |-- body_text: string (nullable = false)\n",
      " |-- title: string (nullable = true)\n",
      " |-- abstract: string (nullable = true)\n",
      " |-- authors: string (nullable = true)\n",
      "\n"
     ]
    }
   ],
   "source": [
    "merged.printSchema()"
   ]
  },
  {
   "cell_type": "code",
   "execution_count": 19,
   "metadata": {
    "execution": {
     "iopub.execute_input": "2022-11-28T06:34:04.428831Z",
     "iopub.status.busy": "2022-11-28T06:34:04.428449Z",
     "iopub.status.idle": "2022-11-28T06:34:36.542716Z",
     "shell.execute_reply": "2022-11-28T06:34:36.541636Z",
     "shell.execute_reply.started": "2022-11-28T06:34:04.428802Z"
    }
   },
   "outputs": [
    {
     "name": "stderr",
     "output_type": "stream",
     "text": [
      "[Stage 10:==============================================>           (4 + 1) / 5]\r"
     ]
    },
    {
     "name": "stdout",
     "output_type": "stream",
     "text": [
      "+--------+--------+--------+------------+-------+---------+-----+--------+-------+\n",
      "|paper_id|cord_uid|source_x|publish_time|journal|body_text|title|abstract|authors|\n",
      "+--------+--------+--------+------------+-------+---------+-----+--------+-------+\n",
      "|       0|       0|       0|           0|      0|        0|    0|       0|      0|\n",
      "+--------+--------+--------+------------+-------+---------+-----+--------+-------+\n",
      "\n"
     ]
    },
    {
     "name": "stderr",
     "output_type": "stream",
     "text": [
      "                                                                                \r"
     ]
    }
   ],
   "source": [
    "# Check for missing values anywhere\n",
    "merged.select([F.count(F.when(F.isnan(c) | F.col(c).isNull(), c)).alias(c) for c in merged.columns]).show()"
   ]
  },
  {
   "cell_type": "code",
   "execution_count": 21,
   "metadata": {
    "execution": {
     "iopub.execute_input": "2022-11-28T06:37:19.921709Z",
     "iopub.status.busy": "2022-11-28T06:37:19.920883Z",
     "iopub.status.idle": "2022-11-28T06:37:19.927688Z",
     "shell.execute_reply": "2022-11-28T06:37:19.926493Z",
     "shell.execute_reply.started": "2022-11-28T06:37:19.921670Z"
    }
   },
   "outputs": [
    {
     "name": "stdout",
     "output_type": "stream",
     "text": [
      "Final number of papers: 598169\n"
     ]
    }
   ],
   "source": [
    "print(\"Final number of papers:\", merged.count())"
   ]
  },
  {
   "cell_type": "code",
   "execution_count": 20,
   "metadata": {
    "execution": {
     "iopub.execute_input": "2022-11-28T06:34:36.544751Z",
     "iopub.status.busy": "2022-11-28T06:34:36.544347Z",
     "iopub.status.idle": "2022-11-28T06:34:36.550727Z",
     "shell.execute_reply": "2022-11-28T06:34:36.549564Z",
     "shell.execute_reply.started": "2022-11-28T06:34:36.544712Z"
    }
   },
   "outputs": [],
   "source": [
    "# Save data in parquet format\n",
    "merged.write.parquet(os.path.join(SAVE_PATH, \"processed_data.parquet\"), mode=\"overwrite\")"
   ]
  },
  {
   "cell_type": "code",
   "execution_count": null,
   "metadata": {},
   "outputs": [],
   "source": []
  }
 ],
 "metadata": {
  "kernelspec": {
   "display_name": "Python 3 (ipykernel)",
   "language": "python",
   "name": "python3"
  },
  "language_info": {
   "codemirror_mode": {
    "name": "ipython",
    "version": 3
   },
   "file_extension": ".py",
   "mimetype": "text/x-python",
   "name": "python",
   "nbconvert_exporter": "python",
   "pygments_lexer": "ipython3",
   "version": "3.9.13"
  },
  "varInspector": {
   "cols": {
    "lenName": 16,
    "lenType": 16,
    "lenVar": 40
   },
   "kernels_config": {
    "python": {
     "delete_cmd_postfix": "",
     "delete_cmd_prefix": "del ",
     "library": "var_list.py",
     "varRefreshCmd": "print(var_dic_list())"
    },
    "r": {
     "delete_cmd_postfix": ") ",
     "delete_cmd_prefix": "rm(",
     "library": "var_list.r",
     "varRefreshCmd": "cat(var_dic_list()) "
    }
   },
   "types_to_exclude": [
    "module",
    "function",
    "builtin_function_or_method",
    "instance",
    "_Feature"
   ],
   "window_display": false
  }
 },
 "nbformat": 4,
 "nbformat_minor": 4
}
