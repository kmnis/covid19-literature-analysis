{
 "cells": [
  {
   "cell_type": "code",
   "execution_count": 1,
   "metadata": {
    "ExecuteTime": {
     "end_time": "2022-11-30T09:47:10.409386Z",
     "start_time": "2022-11-30T09:47:10.401592Z"
    },
    "colab": {
     "base_uri": "https://localhost:8080/",
     "height": 259
    },
    "execution": {
     "iopub.execute_input": "2022-11-30T08:15:44.087039Z",
     "iopub.status.busy": "2022-11-30T08:15:44.086607Z",
     "iopub.status.idle": "2022-11-30T08:16:22.633439Z",
     "shell.execute_reply": "2022-11-30T08:16:22.632223Z",
     "shell.execute_reply.started": "2022-11-30T08:15:44.086999Z"
    },
    "id": "LEW2ZjZj7T1Q",
    "outputId": "3dbb2a8e-c587-4d6f-832f-61da1eff237d"
   },
   "outputs": [],
   "source": [
    "%%capture\n",
    "import sparknlp\n",
    "from sparknlp.base import *\n",
    "from sparknlp.annotator import *\n",
    "from pyspark.sql.types import StringType, IntegerType\n",
    "\n",
    "from pyspark.ml.feature import *\n",
    "from pyspark.ml import Pipeline\n",
    "\n",
    "spark = sparknlp.start()"
   ]
  },
  {
   "cell_type": "code",
   "execution_count": 14,
   "metadata": {
    "execution": {
     "iopub.execute_input": "2022-11-30T09:04:47.690325Z",
     "iopub.status.busy": "2022-11-30T09:04:47.689792Z",
     "iopub.status.idle": "2022-11-30T09:04:48.910899Z",
     "shell.execute_reply": "2022-11-30T09:04:48.909653Z",
     "shell.execute_reply.started": "2022-11-30T09:04:47.690273Z"
    }
   },
   "outputs": [
    {
     "name": "stderr",
     "output_type": "stream",
     "text": [
      "[Stage 10:>                                                         (0 + 1) / 1]\r"
     ]
    },
    {
     "name": "stdout",
     "output_type": "stream",
     "text": [
      "root\n",
      " |-- paper_id: string (nullable = true)\n",
      " |-- cord_uid: string (nullable = true)\n",
      " |-- source_x: string (nullable = true)\n",
      " |-- publish_time: string (nullable = true)\n",
      " |-- journal: string (nullable = true)\n",
      " |-- body_text: string (nullable = false)\n",
      " |-- title: string (nullable = true)\n",
      " |-- abstract: string (nullable = true)\n",
      " |-- authors: string (nullable = true)\n",
      "\n"
     ]
    },
    {
     "name": "stderr",
     "output_type": "stream",
     "text": [
      "                                                                                \r"
     ]
    }
   ],
   "source": [
    "df = spark.read.csv(\"gs://bdp_group6_bckt_2/data/processed_data/processed_data.parquet\",\n",
    "                    inferSchema=True, header=True,\n",
    "                    multiLine=True, quote='\\\"', escape='\\\"')\n",
    "df.printSchema()"
   ]
  },
  {
   "cell_type": "code",
   "execution_count": 15,
   "metadata": {
    "execution": {
     "iopub.execute_input": "2022-11-30T09:04:52.918815Z",
     "iopub.status.busy": "2022-11-30T09:04:52.918292Z",
     "iopub.status.idle": "2022-11-30T09:04:53.204475Z",
     "shell.execute_reply": "2022-11-30T09:04:53.203205Z",
     "shell.execute_reply.started": "2022-11-30T09:04:52.918772Z"
    }
   },
   "outputs": [
    {
     "name": "stdout",
     "output_type": "stream",
     "text": [
      "+--------+--------------------+--------------------+\n",
      "|paper_id|               title|           body_text|\n",
      "+--------+--------------------+--------------------+\n",
      "|PMC35282|Clinical features...|Mycoplasma pneumo...|\n",
      "|PMC59543|Nitric oxide: a p...|Since its discove...|\n",
      "|PMC59549|Surfactant protei...|Surfactant protei...|\n",
      "|PMC59574|Role of endotheli...|ET-1, ET-2, and E...|\n",
      "|PMC59580|Gene expression i...|RSV and PVM are v...|\n",
      "+--------+--------------------+--------------------+\n",
      "only showing top 5 rows\n",
      "\n"
     ]
    }
   ],
   "source": [
    "df = df.drop(*[\"authors\", \"publish_time\", \"journal\", \"abstract\"])\n",
    "\n",
    "df.show(5)"
   ]
  },
  {
   "cell_type": "code",
   "execution_count": 24,
   "metadata": {
    "execution": {
     "iopub.execute_input": "2022-11-30T09:28:03.152590Z",
     "iopub.status.busy": "2022-11-30T09:28:03.152204Z",
     "iopub.status.idle": "2022-11-30T09:28:03.498818Z",
     "shell.execute_reply": "2022-11-30T09:28:03.497756Z",
     "shell.execute_reply.started": "2022-11-30T09:28:03.152558Z"
    },
    "id": "ZY2qL3MERJBI"
   },
   "outputs": [],
   "source": [
    "# Pick first 5 papers as context and hand-pick a few questions\n",
    "context_samples = df.limit(5).toPandas().body_text.tolist()\n",
    "\n",
    "# Create a dataframe for testing\n",
    "sample_texts = [\n",
    "    [\"What is the most common cause of atypical pneumonia?\", context_samples[0]],\n",
    "    [\"What is the main reason why NO production is regulated?\", context_samples[1]],\n",
    "    [\"What is the name of the molecule that binds to a pulmonary pathogen?\", context_samples[2]],\n",
    "    [\"What factors can cause the development of pulmonary fibrosis?\", context_samples[3]],\n",
    "    [\"How does pneumoviruses enter respiratory epithelial cells?\", context_samples[4]]\n",
    "]\n",
    "qa_df = spark.createDataFrame(sample_texts).toDF(\"question\", \"context\")\n",
    "qa_df.show(truncate=50)"
   ]
  },
  {
   "cell_type": "code",
   "execution_count": 27,
   "metadata": {
    "execution": {
     "iopub.execute_input": "2022-11-30T09:35:46.525970Z",
     "iopub.status.busy": "2022-11-30T09:35:46.525392Z",
     "iopub.status.idle": "2022-11-30T09:35:46.534383Z",
     "shell.execute_reply": "2022-11-30T09:35:46.533227Z",
     "shell.execute_reply.started": "2022-11-30T09:35:46.525929Z"
    },
    "id": "5F_TwxBvTGYS"
   },
   "outputs": [],
   "source": [
    "# Define a pipeline to test several models\n",
    "def create_pipeline(model, model_name):\n",
    "    document_assembler = MultiDocumentAssembler() \\\n",
    "        .setInputCols([\"question\", \"context\"]) \\\n",
    "        .setOutputCols([\"document_question\", \"document_context\"])\n",
    "    \n",
    "    qa_model = model.pretrained(name=model_name)\\\n",
    "        .setInputCols([\"document_question\", \"document_context\"])\\\n",
    "        .setOutputCol(\"answer\") \\\n",
    "        .setCaseSensitive(False)\n",
    "    \n",
    "    pipeline = Pipeline().setStages([\n",
    "        document_assembler,\n",
    "        qa_model\n",
    "    ])\n",
    "    \n",
    "    return pipeline"
   ]
  },
  {
   "cell_type": "markdown",
   "metadata": {},
   "source": [
    "### English BertForQuestionAnswering Cased model (from Callmenicky) [[Model Details](https://nlp.johnsnowlabs.com/2022/07/07/bert_qa_callmenicky_finetuned_squad_en_3_0.html)]"
   ]
  },
  {
   "cell_type": "code",
   "execution_count": 28,
   "metadata": {
    "execution": {
     "iopub.execute_input": "2022-11-30T09:36:02.211314Z",
     "iopub.status.busy": "2022-11-30T09:36:02.210870Z",
     "iopub.status.idle": "2022-11-30T09:36:53.852670Z",
     "shell.execute_reply": "2022-11-30T09:36:53.847206Z",
     "shell.execute_reply.started": "2022-11-30T09:36:02.211281Z"
    }
   },
   "outputs": [
    {
     "name": "stdout",
     "output_type": "stream",
     "text": [
      "bert_qa_callmenicky_finetuned_squad download started this may take some time.\n",
      "Approximate size to download 385.6 MB\n",
      "[ | ]bert_qa_callmenicky_finetuned_squad download started this may take some time.\n",
      "Approximate size to download 385.6 MB\n",
      "[ — ]Download done! Loading the resource.\n",
      "[OK!]\n"
     ]
    },
    {
     "name": "stderr",
     "output_type": "stream",
     "text": [
      "[Stage 28:======================================>                   (2 + 1) / 3]\r"
     ]
    },
    {
     "name": "stdout",
     "output_type": "stream",
     "text": [
      "+--------------------------------------------------------------------+-----------------------+\n",
      "|question                                                            |result                 |\n",
      "+--------------------------------------------------------------------+-----------------------+\n",
      "|What is the most common cause of atypical pneumonia?                |[Mycoplasma pneumoniae]|\n",
      "|What is the main reason why NO production is regulated?             |[]                     |\n",
      "|What is the name of the molecule that binds to a pulmonary pathogen?|[]                     |\n",
      "|What factors can cause the development of pulmonary fibrosis?       |[]                     |\n",
      "|How does pneumoviruses enter respiratory epithelial cells?          |[]                     |\n",
      "+--------------------------------------------------------------------+-----------------------+\n",
      "\n"
     ]
    },
    {
     "name": "stderr",
     "output_type": "stream",
     "text": [
      "                                                                                \r"
     ]
    }
   ],
   "source": [
    "pipeline1 = create_pipeline(BertForQuestionAnswering,\n",
    "                            \"bert_qa_callmenicky_finetuned_squad\")\n",
    "model1 = pipeline1.fit(qa_df).transform(qa_df)\n",
    "model1.select(\"question\", \"answer.result\").show(truncate=False)"
   ]
  },
  {
   "cell_type": "markdown",
   "metadata": {},
   "source": [
    "### English DebertaForQuestionAnswering model (from nbroad) [[Model Details](https://nlp.johnsnowlabs.com/2022/06/15/deberta_v3_xsmall_qa_squad2_en_3_0.html)]"
   ]
  },
  {
   "cell_type": "code",
   "execution_count": 30,
   "metadata": {
    "execution": {
     "iopub.execute_input": "2022-11-30T09:37:50.521915Z",
     "iopub.status.busy": "2022-11-30T09:37:50.520480Z",
     "iopub.status.idle": "2022-11-30T09:38:47.580001Z",
     "shell.execute_reply": "2022-11-30T09:38:47.578743Z",
     "shell.execute_reply.started": "2022-11-30T09:37:50.521851Z"
    }
   },
   "outputs": [
    {
     "name": "stdout",
     "output_type": "stream",
     "text": [
      "deberta_v3_xsmall_qa_squad2 download started this may take some time.\n",
      "Approximate size to download 240.6 MB\n",
      "[ | ]deberta_v3_xsmall_qa_squad2 download started this may take some time.\n",
      "Approximate size to download 240.6 MB\n",
      "[ — ]Download done! Loading the resource.\n",
      "[OK!]\n"
     ]
    },
    {
     "name": "stderr",
     "output_type": "stream",
     "text": [
      "[Stage 34:======================================>                   (2 + 1) / 3]\r"
     ]
    },
    {
     "name": "stdout",
     "output_type": "stream",
     "text": [
      "+--------------------------------------------------------------------+-----------------------+\n",
      "|question                                                            |result                 |\n",
      "+--------------------------------------------------------------------+-----------------------+\n",
      "|What is the most common cause of atypical pneumonia?                |[mycoplasma pneumoniae]|\n",
      "|What is the main reason why NO production is regulated?             |[]                     |\n",
      "|What is the name of the molecule that binds to a pulmonary pathogen?|[]                     |\n",
      "|What factors can cause the development of pulmonary fibrosis?       |[endothelins]          |\n",
      "|How does pneumoviruses enter respiratory epithelial cells?          |[]                     |\n",
      "+--------------------------------------------------------------------+-----------------------+\n",
      "\n"
     ]
    },
    {
     "name": "stderr",
     "output_type": "stream",
     "text": [
      "                                                                                \r"
     ]
    }
   ],
   "source": [
    "pipeline2 = create_pipeline(DeBertaForQuestionAnswering,\n",
    "                            \"deberta_v3_xsmall_qa_squad2\")\n",
    "model2 = pipeline2.fit(qa_df).transform(qa_df)\n",
    "model2.select(\"question\", \"answer.result\").show(truncate=False)"
   ]
  },
  {
   "cell_type": "markdown",
   "metadata": {},
   "source": [
    "### English LongformerForQuestionAnswering model (from allenai) [[Model Details](https://nlp.johnsnowlabs.com/2022/06/26/longformer_qa_large_4096_finetuned_triviaqa_en_3_0.html)]"
   ]
  },
  {
   "cell_type": "code",
   "execution_count": 31,
   "metadata": {
    "execution": {
     "iopub.execute_input": "2022-11-30T09:39:35.705970Z",
     "iopub.status.busy": "2022-11-30T09:39:35.705359Z",
     "iopub.status.idle": "2022-11-30T09:44:13.452172Z",
     "shell.execute_reply": "2022-11-30T09:44:13.450670Z",
     "shell.execute_reply.started": "2022-11-30T09:39:35.705926Z"
    }
   },
   "outputs": [
    {
     "name": "stdout",
     "output_type": "stream",
     "text": [
      "longformer_qa_large_4096_finetuned_triviaqa download started this may take some time.\n",
      "Approximate size to download 1.5 GB\n",
      "[ | ]longformer_qa_large_4096_finetuned_triviaqa download started this may take some time.\n",
      "Approximate size to download 1.5 GB\n",
      "[ / ]Download done! Loading the resource.\n",
      "[OK!]\n"
     ]
    },
    {
     "name": "stderr",
     "output_type": "stream",
     "text": [
      "[Stage 40:======================================>                   (2 + 1) / 3]\r"
     ]
    },
    {
     "name": "stdout",
     "output_type": "stream",
     "text": [
      "+--------------------------------------------------------------------+-------------------------------------------------------------------------------------------------------------------------------------------------------------------------------------------------------------------------------------------------------------------------------------------------------------------------------------------------------------------------------------------------------------------------------------------------------------+\n",
      "|question                                                            |result                                                                                                                                                                                                                                                                                                                                                                                                                                                       |\n",
      "+--------------------------------------------------------------------+-------------------------------------------------------------------------------------------------------------------------------------------------------------------------------------------------------------------------------------------------------------------------------------------------------------------------------------------------------------------------------------------------------------------------------------------------------------+\n",
      "|What is the most common cause of atypical pneumonia?                |[mycoplasma pneumoniae]                                                                                                                                                                                                                                                                                                                                                                                                                                      |\n",
      "|What is the main reason why NO production is regulated?             |[nitric oxide]                                                                                                                                                                                                                                                                                                                                                                                                                                               |\n",
      "|What is the name of the molecule that binds to a pulmonary pathogen?|[surfactant]                                                                                                                                                                                                                                                                                                                                                                                                                                                 |\n",
      "|What factors can cause the development of pulmonary fibrosis?       |[vasoconstrictor secreted from endothelial cells [ 1 , 2 , 3 ] that was subsequently isolated , sequenced , cloned , and named by yanagisawa in 1988 [ 4 ]. the many diverse and overlapping functions of these peptides have since implicated endothelins in both homeostatic mechanisms as well as diseases of the lungs . this review will focus on the role of endothelins ( particularly et - 1 ), emphasizing the need to better understand endothelin]|\n",
      "|How does pneumoviruses enter respiratory epithelial cells?          |[tumor necrosis factor]                                                                                                                                                                                                                                                                                                                                                                                                                                      |\n",
      "+--------------------------------------------------------------------+-------------------------------------------------------------------------------------------------------------------------------------------------------------------------------------------------------------------------------------------------------------------------------------------------------------------------------------------------------------------------------------------------------------------------------------------------------------+\n",
      "\n"
     ]
    },
    {
     "name": "stderr",
     "output_type": "stream",
     "text": [
      "                                                                                \r"
     ]
    }
   ],
   "source": [
    "pipeline3 = create_pipeline(LongformerForQuestionAnswering,\n",
    "                            \"longformer_qa_large_4096_finetuned_triviaqa\")\n",
    "model3 = pipeline3.fit(qa_df).transform(qa_df)\n",
    "model3.select(\"question\", \"answer.result\").show(truncate=False)"
   ]
  },
  {
   "cell_type": "markdown",
   "metadata": {},
   "source": [
    "### English RobertaForQuestionAnswering (from deepset) [[Model Details](https://nlp.johnsnowlabs.com/2022/06/20/roberta_qa_roberta_base_squad2_covid_en_3_0.html)]"
   ]
  },
  {
   "cell_type": "code",
   "execution_count": 34,
   "metadata": {
    "execution": {
     "iopub.execute_input": "2022-11-30T09:44:55.856000Z",
     "iopub.status.busy": "2022-11-30T09:44:55.855426Z",
     "iopub.status.idle": "2022-11-30T09:45:07.296049Z",
     "shell.execute_reply": "2022-11-30T09:45:07.294649Z",
     "shell.execute_reply.started": "2022-11-30T09:44:55.855960Z"
    }
   },
   "outputs": [
    {
     "name": "stdout",
     "output_type": "stream",
     "text": [
      "roberta_qa_roberta_base_squad2_covid download started this may take some time.\n",
      "Approximate size to download 442.8 MB\n",
      "[OK!]\n"
     ]
    },
    {
     "name": "stderr",
     "output_type": "stream",
     "text": [
      "[Stage 42:======================================>                   (2 + 1) / 3]\r"
     ]
    },
    {
     "name": "stdout",
     "output_type": "stream",
     "text": [
      "+--------------------------------------------------------------------+---------------------------------------------------------------------------------------------------------------------------------------------------------------------------------------------------------------------------------------------------------------------------------------------------------------------------------------------------------------------------------------------------------------------------------------------------------------------------------------------------------------------------------------------------------------------------------------------------------------------------------------------------------------------------------------------------------------------------------------------------------------------------------------------------------------------------------------------------------------------------------------------------------------------------------------------------------------------------------------------------------------------------------------------------------------------------------------------------------------------------------------------------------------------------------------------------------------------------------------------------------------------------------------------------------------------------------------------------------------------------------------------------------------------------------------------------------------------------------------------------------------------+\n",
      "|question                                                            |result                                                                                                                                                                                                                                                                                                                                                                                                                                                                                                                                                                                                                                                                                                                                                                                                                                                                                                                                                                                                                                                                                                                                                                                                                                                                                                                                                                                                                                                                                                               |\n",
      "+--------------------------------------------------------------------+---------------------------------------------------------------------------------------------------------------------------------------------------------------------------------------------------------------------------------------------------------------------------------------------------------------------------------------------------------------------------------------------------------------------------------------------------------------------------------------------------------------------------------------------------------------------------------------------------------------------------------------------------------------------------------------------------------------------------------------------------------------------------------------------------------------------------------------------------------------------------------------------------------------------------------------------------------------------------------------------------------------------------------------------------------------------------------------------------------------------------------------------------------------------------------------------------------------------------------------------------------------------------------------------------------------------------------------------------------------------------------------------------------------------------------------------------------------------------------------------------------------------+\n",
      "|What is the most common cause of atypical pneumonia?                |[mycoplasma pneumoniae is a common cause of upper and lower respiratory tract infections . it remains one of the most frequent causes of atypical pneumonia particularly among young adults]                                                                                                                                                                                                                                                                                                                                                                                                                                                                                                                                                                                                                                                                                                                                                                                                                                                                                                                                                                                                                                                                                                                                                                                                                                                                                                                         |\n",
      "|What is the main reason why NO production is regulated?             |[the formation of such rns is thought to be the prime reason why no • can in many cases contribute to the etiology of inflammatory lung disease]                                                                                                                                                                                                                                                                                                                                                                                                                                                                                                                                                                                                                                                                                                                                                                                                                                                                                                                                                                                                                                                                                                                                                                                                                                                                                                                                                                     |\n",
      "|What is the name of the molecule that binds to a pulmonary pathogen?|[]                                                                                                                                                                                                                                                                                                                                                                                                                                                                                                                                                                                                                                                                                                                                                                                                                                                                                                                                                                                                                                                                                                                                                                                                                                                                                                                                                                                                                                                                                                                   |\n",
      "|What factors can cause the development of pulmonary fibrosis?       |[]                                                                                                                                                                                                                                                                                                                                                                                                                                                                                                                                                                                                                                                                                                                                                                                                                                                                                                                                                                                                                                                                                                                                                                                                                                                                                                                                                                                                                                                                                                                   |\n",
      "|How does pneumoviruses enter respiratory epithelial cells?          |[as the infection is confined to the respiratory epithelium , the responses of these cells are clearly of primary importance in determining the nature and extent of the resulting inflammatory process .  most of our understanding of responses to pneumovirus infection has emerged from studies of rsv infection of human epithelial target cells in vitro ; a list of genes and / or gene products produced by epithelial cells in response to rsv infection in vitro is provided in table 1 . at the cellular level , epithelial cells initially respond to rsv infection by reducing their ciliary beat frequency . production and release of chemoattractant cytokines ( chemokines ) can be observed as early as 12 h after infection , leading to the recruitment of specific leukocyte subsets to the lung tissue . rsv - infected epithelial cells become resistant to tumor necrosis factor ( tnf )- α - induced apoptosis , but later fuse to form giant - cell syncytia and die by cellular necrosis . we review the molecular bases ( to the extent that they are understood ) of these specific responses , and discuss several novel strategies that may permit us to study the responses to rsv and pvm infection in a more coherent and systematic manner .  tristram et al [ 1 ] observed that explanted respiratory epithelial cells slow their ciliary beat frequency almost immediately after exposure to rsv , with complete ciliostasis seen as early as 6 h after the initial infection .]|\n",
      "+--------------------------------------------------------------------+---------------------------------------------------------------------------------------------------------------------------------------------------------------------------------------------------------------------------------------------------------------------------------------------------------------------------------------------------------------------------------------------------------------------------------------------------------------------------------------------------------------------------------------------------------------------------------------------------------------------------------------------------------------------------------------------------------------------------------------------------------------------------------------------------------------------------------------------------------------------------------------------------------------------------------------------------------------------------------------------------------------------------------------------------------------------------------------------------------------------------------------------------------------------------------------------------------------------------------------------------------------------------------------------------------------------------------------------------------------------------------------------------------------------------------------------------------------------------------------------------------------------+\n",
      "\n"
     ]
    },
    {
     "name": "stderr",
     "output_type": "stream",
     "text": [
      "                                                                                \r"
     ]
    }
   ],
   "source": [
    "pipeline4 = create_pipeline(RoBertaForQuestionAnswering,\n",
    "                            \"roberta_qa_roberta_base_squad2_covid\")\n",
    "model4 = pipeline4.fit(qa_df).transform(qa_df)\n",
    "model4.select(\"question\", \"answer.result\").show(truncate=False)"
   ]
  }
 ],
 "metadata": {
  "accelerator": "TPU",
  "colab": {
   "machine_shape": "hm",
   "provenance": []
  },
  "gpuClass": "standard",
  "kernelspec": {
   "display_name": "Python 3 (ipykernel)",
   "language": "python",
   "name": "python3"
  },
  "language_info": {
   "codemirror_mode": {
    "name": "ipython",
    "version": 3
   },
   "file_extension": ".py",
   "mimetype": "text/x-python",
   "name": "python",
   "nbconvert_exporter": "python",
   "pygments_lexer": "ipython3",
   "version": "3.9.13"
  },
  "varInspector": {
   "cols": {
    "lenName": 16,
    "lenType": 16,
    "lenVar": 40
   },
   "kernels_config": {
    "python": {
     "delete_cmd_postfix": "",
     "delete_cmd_prefix": "del ",
     "library": "var_list.py",
     "varRefreshCmd": "print(var_dic_list())"
    },
    "r": {
     "delete_cmd_postfix": ") ",
     "delete_cmd_prefix": "rm(",
     "library": "var_list.r",
     "varRefreshCmd": "cat(var_dic_list()) "
    }
   },
   "types_to_exclude": [
    "module",
    "function",
    "builtin_function_or_method",
    "instance",
    "_Feature"
   ],
   "window_display": false
  }
 },
 "nbformat": 4,
 "nbformat_minor": 4
}
