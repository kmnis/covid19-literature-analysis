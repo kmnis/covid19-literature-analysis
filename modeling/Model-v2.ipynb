{
 "cells": [
  {
   "cell_type": "code",
   "execution_count": 1,
   "metadata": {
    "ExecuteTime": {
     "end_time": "2022-11-27T06:18:06.941796Z",
     "start_time": "2022-11-27T06:18:05.167227Z"
    }
   },
   "outputs": [],
   "source": [
    "from pyspark.sql import SparkSession\n",
    "\n",
    "import pyspark.sql.types as T\n",
    "import pyspark.sql.functions as F\n",
    "from pyspark.sql.window import Window\n",
    "\n",
    "from pyspark.ml.feature import *\n",
    "from pyspark.ml import Pipeline\n",
    "\n",
    "from pyspark.sql.types import (\n",
    "    ArrayType,\n",
    "    StringType\n",
    ")\n",
    "\n",
    "import matplotlib.pyplot as plt\n",
    "import seaborn as sns\n",
    "\n",
    "# import sys\n",
    "# sys.path.append('/usr/local/Anaconda3-5.1.0/lib/python3.6/site-packages')\n",
    "\n",
    "from sparknlp.base import *\n",
    "from sparknlp.annotator import *\n",
    "\n",
    "from sparknlp.annotator import MultiClassifierDLApproach\n",
    "\n",
    "sns.set_style('whitegrid')"
   ]
  },
  {
   "cell_type": "code",
   "execution_count": 2,
   "metadata": {
    "ExecuteTime": {
     "end_time": "2022-11-27T06:18:18.626885Z",
     "start_time": "2022-11-27T06:18:08.259601Z"
    }
   },
   "outputs": [
    {
     "name": "stdout",
     "output_type": "stream",
     "text": [
      "22/11/27 00:18:10 WARN Utils: Your hostname, betelgeuse resolves to a loopback address: 127.0.1.1; using 10.0.0.130 instead (on interface wlp0s20f3)\n",
      "22/11/27 00:18:10 WARN Utils: Set SPARK_LOCAL_IP if you need to bind to another address\n",
      ":: loading settings :: url = jar:file:/home/betelgeuse/miniconda3/envs/py39/lib/python3.9/site-packages/pyspark/jars/ivy-2.5.0.jar!/org/apache/ivy/core/settings/ivysettings.xml\n"
     ]
    },
    {
     "name": "stderr",
     "output_type": "stream",
     "text": [
      "Ivy Default Cache set to: /home/betelgeuse/.ivy2/cache\n",
      "The jars for the packages stored in: /home/betelgeuse/.ivy2/jars\n",
      "com.johnsnowlabs.nlp#spark-nlp_2.12 added as a dependency\n",
      ":: resolving dependencies :: org.apache.spark#spark-submit-parent-86aaa8d4-1537-4af3-ae3d-d957531af6ca;1.0\n",
      "\tconfs: [default]\n",
      "\tfound com.johnsnowlabs.nlp#spark-nlp_2.12;4.2.3 in central\n",
      "\tfound com.typesafe#config;1.4.2 in central\n",
      "\tfound org.rocksdb#rocksdbjni;6.29.5 in central\n",
      "\tfound com.amazonaws#aws-java-sdk-bundle;1.11.828 in central\n",
      "\tfound com.github.universal-automata#liblevenshtein;3.0.0 in central\n",
      "\tfound com.google.code.findbugs#annotations;3.0.1 in central\n",
      "\tfound net.jcip#jcip-annotations;1.0 in central\n",
      "\tfound com.google.code.findbugs#jsr305;3.0.1 in central\n",
      "\tfound com.google.protobuf#protobuf-java-util;3.0.0-beta-3 in central\n",
      "\tfound com.google.protobuf#protobuf-java;3.0.0-beta-3 in central\n",
      "\tfound com.google.code.gson#gson;2.3 in central\n",
      "\tfound it.unimi.dsi#fastutil;7.0.12 in central\n",
      "\tfound org.projectlombok#lombok;1.16.8 in central\n",
      "\tfound org.slf4j#slf4j-api;1.7.21 in central\n",
      "\tfound com.navigamez#greex;1.0 in central\n",
      "\tfound dk.brics.automaton#automaton;1.11-8 in central\n",
      "\tfound com.johnsnowlabs.nlp#tensorflow-cpu_2.12;0.4.3 in central\n",
      ":: resolution report :: resolve 484ms :: artifacts dl 22ms\n",
      "\t:: modules in use:\n",
      "\tcom.amazonaws#aws-java-sdk-bundle;1.11.828 from central in [default]\n",
      "\tcom.github.universal-automata#liblevenshtein;3.0.0 from central in [default]\n",
      "\tcom.google.code.findbugs#annotations;3.0.1 from central in [default]\n",
      "\tcom.google.code.findbugs#jsr305;3.0.1 from central in [default]\n",
      "\tcom.google.code.gson#gson;2.3 from central in [default]\n",
      "\tcom.google.protobuf#protobuf-java;3.0.0-beta-3 from central in [default]\n",
      "\tcom.google.protobuf#protobuf-java-util;3.0.0-beta-3 from central in [default]\n",
      "\tcom.johnsnowlabs.nlp#spark-nlp_2.12;4.2.3 from central in [default]\n",
      "\tcom.johnsnowlabs.nlp#tensorflow-cpu_2.12;0.4.3 from central in [default]\n",
      "\tcom.navigamez#greex;1.0 from central in [default]\n",
      "\tcom.typesafe#config;1.4.2 from central in [default]\n",
      "\tdk.brics.automaton#automaton;1.11-8 from central in [default]\n",
      "\tit.unimi.dsi#fastutil;7.0.12 from central in [default]\n",
      "\tnet.jcip#jcip-annotations;1.0 from central in [default]\n",
      "\torg.projectlombok#lombok;1.16.8 from central in [default]\n",
      "\torg.rocksdb#rocksdbjni;6.29.5 from central in [default]\n",
      "\torg.slf4j#slf4j-api;1.7.21 from central in [default]\n",
      "\t---------------------------------------------------------------------\n",
      "\t|                  |            modules            ||   artifacts   |\n",
      "\t|       conf       | number| search|dwnlded|evicted|| number|dwnlded|\n",
      "\t---------------------------------------------------------------------\n",
      "\t|      default     |   17  |   0   |   0   |   0   ||   17  |   0   |\n",
      "\t---------------------------------------------------------------------\n",
      ":: retrieving :: org.apache.spark#spark-submit-parent-86aaa8d4-1537-4af3-ae3d-d957531af6ca\n",
      "\tconfs: [default]\n",
      "\t0 artifacts copied, 17 already retrieved (0kB/13ms)\n"
     ]
    },
    {
     "name": "stdout",
     "output_type": "stream",
     "text": [
      "22/11/27 00:18:11 WARN NativeCodeLoader: Unable to load native-hadoop library for your platform... using builtin-java classes where applicable\n"
     ]
    },
    {
     "name": "stderr",
     "output_type": "stream",
     "text": [
      "Setting default log level to \"WARN\".\n",
      "To adjust logging level use sc.setLogLevel(newLevel). For SparkR, use setLogLevel(newLevel).\n"
     ]
    },
    {
     "data": {
      "text/plain": [
       "[('spark.driver.extraJavaOptions',\n",
       "  '-XX:+IgnoreUnrecognizedVMOptions --add-opens=java.base/java.lang=ALL-UNNAMED --add-opens=java.base/java.lang.invoke=ALL-UNNAMED --add-opens=java.base/java.lang.reflect=ALL-UNNAMED --add-opens=java.base/java.io=ALL-UNNAMED --add-opens=java.base/java.net=ALL-UNNAMED --add-opens=java.base/java.nio=ALL-UNNAMED --add-opens=java.base/java.util=ALL-UNNAMED --add-opens=java.base/java.util.concurrent=ALL-UNNAMED --add-opens=java.base/java.util.concurrent.atomic=ALL-UNNAMED --add-opens=java.base/sun.nio.ch=ALL-UNNAMED --add-opens=java.base/sun.nio.cs=ALL-UNNAMED --add-opens=java.base/sun.security.action=ALL-UNNAMED --add-opens=java.base/sun.util.calendar=ALL-UNNAMED --add-opens=java.security.jgss/sun.security.krb5=ALL-UNNAMED'),\n",
       " ('spark.files',\n",
       "  'file:///home/betelgeuse/.ivy2/jars/com.johnsnowlabs.nlp_spark-nlp_2.12-4.2.3.jar,file:///home/betelgeuse/.ivy2/jars/com.typesafe_config-1.4.2.jar,file:///home/betelgeuse/.ivy2/jars/org.rocksdb_rocksdbjni-6.29.5.jar,file:///home/betelgeuse/.ivy2/jars/com.amazonaws_aws-java-sdk-bundle-1.11.828.jar,file:///home/betelgeuse/.ivy2/jars/com.github.universal-automata_liblevenshtein-3.0.0.jar,file:///home/betelgeuse/.ivy2/jars/com.navigamez_greex-1.0.jar,file:///home/betelgeuse/.ivy2/jars/com.johnsnowlabs.nlp_tensorflow-cpu_2.12-0.4.3.jar,file:///home/betelgeuse/.ivy2/jars/com.google.code.findbugs_annotations-3.0.1.jar,file:///home/betelgeuse/.ivy2/jars/com.google.protobuf_protobuf-java-util-3.0.0-beta-3.jar,file:///home/betelgeuse/.ivy2/jars/com.google.protobuf_protobuf-java-3.0.0-beta-3.jar,file:///home/betelgeuse/.ivy2/jars/it.unimi.dsi_fastutil-7.0.12.jar,file:///home/betelgeuse/.ivy2/jars/org.projectlombok_lombok-1.16.8.jar,file:///home/betelgeuse/.ivy2/jars/org.slf4j_slf4j-api-1.7.21.jar,file:///home/betelgeuse/.ivy2/jars/net.jcip_jcip-annotations-1.0.jar,file:///home/betelgeuse/.ivy2/jars/com.google.code.findbugs_jsr305-3.0.1.jar,file:///home/betelgeuse/.ivy2/jars/com.google.code.gson_gson-2.3.jar,file:///home/betelgeuse/.ivy2/jars/dk.brics.automaton_automaton-1.11-8.jar'),\n",
       " ('spark.driver.memory', '4g'),\n",
       " ('spark.executor.id', 'driver'),\n",
       " ('spark.jars.packages', 'com.johnsnowlabs.nlp:spark-nlp_2.12:4.2.3'),\n",
       " ('spark.app.initial.file.urls',\n",
       "  'file:///home/betelgeuse/.ivy2/jars/com.google.protobuf_protobuf-java-3.0.0-beta-3.jar,file:///home/betelgeuse/.ivy2/jars/com.amazonaws_aws-java-sdk-bundle-1.11.828.jar,file:///home/betelgeuse/.ivy2/jars/it.unimi.dsi_fastutil-7.0.12.jar,file:///home/betelgeuse/.ivy2/jars/net.jcip_jcip-annotations-1.0.jar,file:///home/betelgeuse/.ivy2/jars/com.johnsnowlabs.nlp_spark-nlp_2.12-4.2.3.jar,file:///home/betelgeuse/.ivy2/jars/org.slf4j_slf4j-api-1.7.21.jar,file:///home/betelgeuse/.ivy2/jars/com.google.protobuf_protobuf-java-util-3.0.0-beta-3.jar,file:///home/betelgeuse/.ivy2/jars/com.google.code.gson_gson-2.3.jar,file:///home/betelgeuse/.ivy2/jars/org.projectlombok_lombok-1.16.8.jar,file:///home/betelgeuse/.ivy2/jars/org.rocksdb_rocksdbjni-6.29.5.jar,file:///home/betelgeuse/.ivy2/jars/com.google.code.findbugs_annotations-3.0.1.jar,file:///home/betelgeuse/.ivy2/jars/com.github.universal-automata_liblevenshtein-3.0.0.jar,file:///home/betelgeuse/.ivy2/jars/com.johnsnowlabs.nlp_tensorflow-cpu_2.12-0.4.3.jar,file:///home/betelgeuse/.ivy2/jars/com.google.code.findbugs_jsr305-3.0.1.jar,file:///home/betelgeuse/.ivy2/jars/com.typesafe_config-1.4.2.jar,file:///home/betelgeuse/.ivy2/jars/com.navigamez_greex-1.0.jar,file:///home/betelgeuse/.ivy2/jars/dk.brics.automaton_automaton-1.11-8.jar'),\n",
       " ('spark.driver.host', '10.0.0.130'),\n",
       " ('spark.app.name', 'BDP'),\n",
       " ('spark.app.initial.jar.urls',\n",
       "  'spark://10.0.0.130:34215/jars/com.amazonaws_aws-java-sdk-bundle-1.11.828.jar,spark://10.0.0.130:34215/jars/com.johnsnowlabs.nlp_spark-nlp_2.12-4.2.3.jar,spark://10.0.0.130:34215/jars/com.google.protobuf_protobuf-java-3.0.0-beta-3.jar,spark://10.0.0.130:34215/jars/dk.brics.automaton_automaton-1.11-8.jar,spark://10.0.0.130:34215/jars/com.typesafe_config-1.4.2.jar,spark://10.0.0.130:34215/jars/org.projectlombok_lombok-1.16.8.jar,spark://10.0.0.130:34215/jars/com.google.code.findbugs_jsr305-3.0.1.jar,spark://10.0.0.130:34215/jars/com.google.code.gson_gson-2.3.jar,spark://10.0.0.130:34215/jars/it.unimi.dsi_fastutil-7.0.12.jar,spark://10.0.0.130:34215/jars/net.jcip_jcip-annotations-1.0.jar,spark://10.0.0.130:34215/jars/com.johnsnowlabs.nlp_tensorflow-cpu_2.12-0.4.3.jar,spark://10.0.0.130:34215/jars/org.slf4j_slf4j-api-1.7.21.jar,spark://10.0.0.130:34215/jars/com.google.protobuf_protobuf-java-util-3.0.0-beta-3.jar,spark://10.0.0.130:34215/jars/org.rocksdb_rocksdbjni-6.29.5.jar,spark://10.0.0.130:34215/jars/com.navigamez_greex-1.0.jar,spark://10.0.0.130:34215/jars/com.google.code.findbugs_annotations-3.0.1.jar,spark://10.0.0.130:34215/jars/com.github.universal-automata_liblevenshtein-3.0.0.jar'),\n",
       " ('spark.rdd.compress', 'True'),\n",
       " ('spark.driver.port', '34215'),\n",
       " ('spark.app.startTime', '1669529891602'),\n",
       " ('spark.executor.extraJavaOptions',\n",
       "  '-XX:+IgnoreUnrecognizedVMOptions --add-opens=java.base/java.lang=ALL-UNNAMED --add-opens=java.base/java.lang.invoke=ALL-UNNAMED --add-opens=java.base/java.lang.reflect=ALL-UNNAMED --add-opens=java.base/java.io=ALL-UNNAMED --add-opens=java.base/java.net=ALL-UNNAMED --add-opens=java.base/java.nio=ALL-UNNAMED --add-opens=java.base/java.util=ALL-UNNAMED --add-opens=java.base/java.util.concurrent=ALL-UNNAMED --add-opens=java.base/java.util.concurrent.atomic=ALL-UNNAMED --add-opens=java.base/sun.nio.ch=ALL-UNNAMED --add-opens=java.base/sun.nio.cs=ALL-UNNAMED --add-opens=java.base/sun.security.action=ALL-UNNAMED --add-opens=java.base/sun.util.calendar=ALL-UNNAMED --add-opens=java.security.jgss/sun.security.krb5=ALL-UNNAMED'),\n",
       " ('spark.serializer.objectStreamReset', '100'),\n",
       " ('spark.submit.pyFiles',\n",
       "  '/home/betelgeuse/.ivy2/jars/com.johnsnowlabs.nlp_spark-nlp_2.12-4.2.3.jar,/home/betelgeuse/.ivy2/jars/com.typesafe_config-1.4.2.jar,/home/betelgeuse/.ivy2/jars/org.rocksdb_rocksdbjni-6.29.5.jar,/home/betelgeuse/.ivy2/jars/com.amazonaws_aws-java-sdk-bundle-1.11.828.jar,/home/betelgeuse/.ivy2/jars/com.github.universal-automata_liblevenshtein-3.0.0.jar,/home/betelgeuse/.ivy2/jars/com.navigamez_greex-1.0.jar,/home/betelgeuse/.ivy2/jars/com.johnsnowlabs.nlp_tensorflow-cpu_2.12-0.4.3.jar,/home/betelgeuse/.ivy2/jars/com.google.code.findbugs_annotations-3.0.1.jar,/home/betelgeuse/.ivy2/jars/com.google.protobuf_protobuf-java-util-3.0.0-beta-3.jar,/home/betelgeuse/.ivy2/jars/com.google.protobuf_protobuf-java-3.0.0-beta-3.jar,/home/betelgeuse/.ivy2/jars/it.unimi.dsi_fastutil-7.0.12.jar,/home/betelgeuse/.ivy2/jars/org.projectlombok_lombok-1.16.8.jar,/home/betelgeuse/.ivy2/jars/org.slf4j_slf4j-api-1.7.21.jar,/home/betelgeuse/.ivy2/jars/net.jcip_jcip-annotations-1.0.jar,/home/betelgeuse/.ivy2/jars/com.google.code.findbugs_jsr305-3.0.1.jar,/home/betelgeuse/.ivy2/jars/com.google.code.gson_gson-2.3.jar,/home/betelgeuse/.ivy2/jars/dk.brics.automaton_automaton-1.11-8.jar'),\n",
       " ('spark.master', 'local[*]'),\n",
       " ('spark.submit.deployMode', 'client'),\n",
       " ('spark.app.id', 'local-1669529894710'),\n",
       " ('spark.app.submitTime', '1669529891278'),\n",
       " ('spark.ui.showConsoleProgress', 'true'),\n",
       " ('spark.repl.local.jars',\n",
       "  'file:///home/betelgeuse/.ivy2/jars/com.johnsnowlabs.nlp_spark-nlp_2.12-4.2.3.jar,file:///home/betelgeuse/.ivy2/jars/com.typesafe_config-1.4.2.jar,file:///home/betelgeuse/.ivy2/jars/org.rocksdb_rocksdbjni-6.29.5.jar,file:///home/betelgeuse/.ivy2/jars/com.amazonaws_aws-java-sdk-bundle-1.11.828.jar,file:///home/betelgeuse/.ivy2/jars/com.github.universal-automata_liblevenshtein-3.0.0.jar,file:///home/betelgeuse/.ivy2/jars/com.navigamez_greex-1.0.jar,file:///home/betelgeuse/.ivy2/jars/com.johnsnowlabs.nlp_tensorflow-cpu_2.12-0.4.3.jar,file:///home/betelgeuse/.ivy2/jars/com.google.code.findbugs_annotations-3.0.1.jar,file:///home/betelgeuse/.ivy2/jars/com.google.protobuf_protobuf-java-util-3.0.0-beta-3.jar,file:///home/betelgeuse/.ivy2/jars/com.google.protobuf_protobuf-java-3.0.0-beta-3.jar,file:///home/betelgeuse/.ivy2/jars/it.unimi.dsi_fastutil-7.0.12.jar,file:///home/betelgeuse/.ivy2/jars/org.projectlombok_lombok-1.16.8.jar,file:///home/betelgeuse/.ivy2/jars/org.slf4j_slf4j-api-1.7.21.jar,file:///home/betelgeuse/.ivy2/jars/net.jcip_jcip-annotations-1.0.jar,file:///home/betelgeuse/.ivy2/jars/com.google.code.findbugs_jsr305-3.0.1.jar,file:///home/betelgeuse/.ivy2/jars/com.google.code.gson_gson-2.3.jar,file:///home/betelgeuse/.ivy2/jars/dk.brics.automaton_automaton-1.11-8.jar'),\n",
       " ('spark.jars',\n",
       "  'file:///home/betelgeuse/.ivy2/jars/com.johnsnowlabs.nlp_spark-nlp_2.12-4.2.3.jar,file:///home/betelgeuse/.ivy2/jars/com.typesafe_config-1.4.2.jar,file:///home/betelgeuse/.ivy2/jars/org.rocksdb_rocksdbjni-6.29.5.jar,file:///home/betelgeuse/.ivy2/jars/com.amazonaws_aws-java-sdk-bundle-1.11.828.jar,file:///home/betelgeuse/.ivy2/jars/com.github.universal-automata_liblevenshtein-3.0.0.jar,file:///home/betelgeuse/.ivy2/jars/com.navigamez_greex-1.0.jar,file:///home/betelgeuse/.ivy2/jars/com.johnsnowlabs.nlp_tensorflow-cpu_2.12-0.4.3.jar,file:///home/betelgeuse/.ivy2/jars/com.google.code.findbugs_annotations-3.0.1.jar,file:///home/betelgeuse/.ivy2/jars/com.google.protobuf_protobuf-java-util-3.0.0-beta-3.jar,file:///home/betelgeuse/.ivy2/jars/com.google.protobuf_protobuf-java-3.0.0-beta-3.jar,file:///home/betelgeuse/.ivy2/jars/it.unimi.dsi_fastutil-7.0.12.jar,file:///home/betelgeuse/.ivy2/jars/org.projectlombok_lombok-1.16.8.jar,file:///home/betelgeuse/.ivy2/jars/org.slf4j_slf4j-api-1.7.21.jar,file:///home/betelgeuse/.ivy2/jars/net.jcip_jcip-annotations-1.0.jar,file:///home/betelgeuse/.ivy2/jars/com.google.code.findbugs_jsr305-3.0.1.jar,file:///home/betelgeuse/.ivy2/jars/com.google.code.gson_gson-2.3.jar,file:///home/betelgeuse/.ivy2/jars/dk.brics.automaton_automaton-1.11-8.jar')]"
      ]
     },
     "execution_count": 2,
     "metadata": {},
     "output_type": "execute_result"
    }
   ],
   "source": [
    "spark = SparkSession.builder.appName('BDP') \\\n",
    "    .config(\"spark.jars.packages\", \"com.johnsnowlabs.nlp:spark-nlp_2.12:4.2.3\").getOrCreate()\n",
    "\n",
    "conf = spark.sparkContext._conf.setAll([('spark.driver.memory','4g')])\n",
    "# # ('spark.executor.memory', '10g')\n",
    "# #print spark configuration settings\n",
    "spark.sparkContext.getConf().getAll()"
   ]
  },
  {
   "cell_type": "markdown",
   "metadata": {},
   "source": [
    "# 1. Data Exploration"
   ]
  },
  {
   "cell_type": "markdown",
   "metadata": {},
   "source": [
    "### a) Read the movie synopsis data into Spark"
   ]
  },
  {
   "cell_type": "code",
   "execution_count": 3,
   "metadata": {
    "ExecuteTime": {
     "end_time": "2022-11-27T06:18:27.475685Z",
     "start_time": "2022-11-27T06:18:23.924546Z"
    }
   },
   "outputs": [
    {
     "name": "stdout",
     "output_type": "stream",
     "text": [
      "root\n",
      " |-- paper_id: string (nullable = true)\n",
      " |-- title: string (nullable = true)\n",
      " |-- authors: string (nullable = true)\n",
      " |-- abstract: string (nullable = true)\n",
      " |-- body_text: string (nullable = true)\n",
      " |-- publish_time: timestamp (nullable = true)\n",
      " |-- journal: string (nullable = true)\n",
      "\n"
     ]
    }
   ],
   "source": [
    "df = spark.read.csv(\"/media/betelgeuse/Windows 10/Users/Manish Sihag/Desktop/UChicago/Classes/MSCA31013-Big-Data-Platforms/project/parsed_papers_1k.csv\",\n",
    "                    inferSchema=True, header=True,\n",
    "                    multiLine=True, quote='\\\"', escape='\\\"')\n",
    "df.printSchema()"
   ]
  },
  {
   "cell_type": "markdown",
   "metadata": {},
   "source": [
    "### b) Print basic summary statistics of the data set"
   ]
  },
  {
   "cell_type": "code",
   "execution_count": 5,
   "metadata": {
    "ExecuteTime": {
     "end_time": "2022-11-26T08:03:41.051838Z",
     "start_time": "2022-11-26T08:03:39.780447Z"
    }
   },
   "outputs": [
    {
     "data": {
      "text/plain": [
       "1000"
      ]
     },
     "execution_count": 5,
     "metadata": {},
     "output_type": "execute_result"
    }
   ],
   "source": [
    "df.count()"
   ]
  },
  {
   "cell_type": "code",
   "execution_count": 6,
   "metadata": {
    "ExecuteTime": {
     "end_time": "2022-11-26T08:03:48.039810Z",
     "start_time": "2022-11-26T08:03:48.031529Z"
    }
   },
   "outputs": [
    {
     "data": {
      "text/plain": [
       "[('paper_id', 'string'),\n",
       " ('title', 'string'),\n",
       " ('authors', 'string'),\n",
       " ('abstract', 'string'),\n",
       " ('body_text', 'string'),\n",
       " ('publish_time', 'timestamp'),\n",
       " ('journal', 'string')]"
      ]
     },
     "execution_count": 6,
     "metadata": {},
     "output_type": "execute_result"
    }
   ],
   "source": [
    "df.dtypes"
   ]
  },
  {
   "cell_type": "markdown",
   "metadata": {},
   "source": [
    "Since all the columns are strings, it doesn't make much sense to calculate mean, median, and other statitiscs on these columns"
   ]
  },
  {
   "cell_type": "code",
   "execution_count": 8,
   "metadata": {
    "ExecuteTime": {
     "end_time": "2022-11-26T08:04:22.805680Z",
     "start_time": "2022-11-26T08:04:21.951050Z"
    }
   },
   "outputs": [
    {
     "name": "stdout",
     "output_type": "stream",
     "text": [
      "+--------+-----+-------+--------+---------+------------+-------+\n",
      "|paper_id|title|authors|abstract|body_text|publish_time|journal|\n",
      "+--------+-----+-------+--------+---------+------------+-------+\n",
      "|       0|    0|      4|      30|        0|           0|      0|\n",
      "+--------+-----+-------+--------+---------+------------+-------+\n",
      "\n"
     ]
    }
   ],
   "source": [
    "df.select([F.count(F.when(F.col(c).isNull(), c)).alias(c) for c in df.columns]).show()"
   ]
  },
  {
   "cell_type": "markdown",
   "metadata": {},
   "source": [
    "# 2. Build Models"
   ]
  },
  {
   "cell_type": "markdown",
   "metadata": {},
   "source": [
    "### a) Use a SparkML pipeline to build NLP models to classify movies into the top 10 most popular tags"
   ]
  },
  {
   "cell_type": "code",
   "execution_count": 4,
   "metadata": {
    "ExecuteTime": {
     "end_time": "2022-11-27T06:18:33.934428Z",
     "start_time": "2022-11-27T06:18:33.154102Z"
    }
   },
   "outputs": [
    {
     "name": "stdout",
     "output_type": "stream",
     "text": [
      "+--------------------+--------------+\n",
      "|           body_text|       journal|\n",
      "+--------------------+--------------+\n",
      "|Mycoplasma pneumo...|BMC Infect Dis|\n",
      "|Since its discove...|    Respir Res|\n",
      "|Surfactant protei...|    Respir Res|\n",
      "|ET-1, ET-2, and E...|    Respir Res|\n",
      "|RSV and PVM are v...|    Respir Res|\n",
      "+--------------------+--------------+\n",
      "only showing top 5 rows\n",
      "\n"
     ]
    }
   ],
   "source": [
    "df = df.drop(*[\"paper_id\", \"title\", \"authors\", \"abstract\", \"publish_time\"])\n",
    "\n",
    "df.show(5)"
   ]
  },
  {
   "cell_type": "code",
   "execution_count": 5,
   "metadata": {
    "ExecuteTime": {
     "end_time": "2022-11-26T08:20:26.277448Z",
     "start_time": "2022-11-26T08:20:24.260994Z"
    }
   },
   "outputs": [
    {
     "data": {
      "image/png": "[encoded data removed]",
      "text/plain": [
       "<Figure size 1500x600 with 1 Axes>"
      ]
     },
     "metadata": {},
     "output_type": "display_data"
    }
   ],
   "source": [
    "journals = df.groupBy(\"journal\").count().orderBy(\"count\", ascending=False).toPandas().head(20)\n",
    "\n",
    "plt.figure(figsize=(15, 6))\n",
    "\n",
    "sns.barplot(data=journals, x=\"journal\", y=\"count\")\n",
    "\n",
    "plt.xticks(rotation=90)\n",
    "plt.xlabel(\"Journal\")\n",
    "plt.ylabel(\"Count\")\n",
    "\n",
    "plt.show()"
   ]
  },
  {
   "cell_type": "code",
   "execution_count": 6,
   "metadata": {
    "ExecuteTime": {
     "end_time": "2022-11-26T08:20:26.949024Z",
     "start_time": "2022-11-26T08:20:26.940582Z"
    }
   },
   "outputs": [],
   "source": [
    "top10_journals = journals.head(20).journal.tolist()"
   ]
  },
  {
   "cell_type": "code",
   "execution_count": 7,
   "metadata": {
    "ExecuteTime": {
     "end_time": "2022-11-26T08:20:29.353704Z",
     "start_time": "2022-11-26T08:20:28.797559Z"
    }
   },
   "outputs": [
    {
     "data": {
      "text/plain": [
       "630"
      ]
     },
     "execution_count": 7,
     "metadata": {},
     "output_type": "execute_result"
    }
   ],
   "source": [
    "df = df.filter(F.col(\"journal\").isin(top10_journals))\n",
    "df.count()"
   ]
  },
  {
   "cell_type": "code",
   "execution_count": 5,
   "metadata": {
    "ExecuteTime": {
     "end_time": "2022-11-27T06:18:57.230304Z",
     "start_time": "2022-11-27T06:18:42.924215Z"
    }
   },
   "outputs": [
    {
     "name": "stdout",
     "output_type": "stream",
     "text": [
      "lemma_antbnc download started this may take some time.\n",
      "Approximate size to download 907.6 KB\n",
      "[ | ]lemma_antbnc download started this may take some time.\n",
      "Approximate size to download 907.6 KB\n",
      "Download done! Loading the resource.\n",
      "[OK!]\n",
      "glove_100d download started this may take some time.\n",
      "Approximate size to download 145.3 MB\n",
      "[ | ]glove_100d download started this may take some time.\n",
      "Approximate size to download 145.3 MB\n",
      "Download done! Loading the resource.\n",
      "[OK!]\n"
     ]
    }
   ],
   "source": [
    "document_assembler = DocumentAssembler() \\\n",
    "            .setInputCol(\"body_text\") \\\n",
    "            .setOutputCol(\"document\") \\\n",
    "            .setCleanupMode(\"shrink_full\")\n",
    "\n",
    "tokenizer = Tokenizer() \\\n",
    "            .setInputCols(\"document\") \\\n",
    "            .setOutputCol(\"token\")\n",
    "          \n",
    "normalizer = Normalizer() \\\n",
    "            .setInputCols(\"token\") \\\n",
    "            .setOutputCol(\"normalized\")\n",
    "\n",
    "stopwords_cleaner = StopWordsCleaner()\\\n",
    "            .setInputCols(\"normalized\")\\\n",
    "            .setOutputCol(\"cleanTokens\")\\\n",
    "            .setCaseSensitive(False)\n",
    "\n",
    "lemma = LemmatizerModel.pretrained('lemma_antbnc') \\\n",
    "            .setInputCols(\"cleanTokens\") \\\n",
    "            .setOutputCol(\"lemma\")\n",
    "\n",
    "glove_embeddings = WordEmbeddingsModel().pretrained() \\\n",
    "                        .setInputCols([\"document\", 'lemma'])\\\n",
    "                        .setOutputCol(\"embeddings\")\\\n",
    "                        .setCaseSensitive(False)\n",
    "\n",
    "embeddingsSentence = SentenceEmbeddings() \\\n",
    "                        .setInputCols([\"document\", \"embeddings\"]) \\\n",
    "                        .setOutputCol(\"sentence_embeddings\") \\\n",
    "                        .setPoolingStrategy(\"AVERAGE\")\n",
    "\n",
    "embeddings_finisher = EmbeddingsFinisher() \\\n",
    "                        .setInputCols('sentence_embeddings') \\\n",
    "                        .setOutputCols('sentence_embeddings_vectors') \\\n",
    "                        .setOutputAsVector(True)"
   ]
  },
  {
   "cell_type": "code",
   "execution_count": 6,
   "metadata": {
    "ExecuteTime": {
     "end_time": "2022-11-27T06:19:00.886464Z",
     "start_time": "2022-11-27T06:19:00.874153Z"
    }
   },
   "outputs": [],
   "source": [
    "# classsifierdl = ClassifierDLApproach()\\\n",
    "#                         .setInputCols([\"sentence_embeddings\"])\\\n",
    "#                         .setOutputCol(\"category\")\\\n",
    "#                         .setLabelColumn(\"journal\")\\\n",
    "#                         .setMaxEpochs(20)\\\n",
    "#                         .setBatchSize(32)\\\n",
    "#                         .setLr(1e-2)\n",
    "                        \n",
    "\n",
    "pipeline = Pipeline(\n",
    "    stages = [\n",
    "        document_assembler,\n",
    "        tokenizer,\n",
    "        normalizer,\n",
    "        stopwords_cleaner, \n",
    "        lemma, \n",
    "        glove_embeddings,\n",
    "        embeddingsSentence,\n",
    "        embeddings_finisher\n",
    "    ]\n",
    ")"
   ]
  },
  {
   "cell_type": "code",
   "execution_count": 7,
   "metadata": {
    "ExecuteTime": {
     "end_time": "2022-11-27T06:19:06.803535Z",
     "start_time": "2022-11-27T06:19:05.778300Z"
    }
   },
   "outputs": [
    {
     "name": "stdout",
     "output_type": "stream",
     "text": [
      "+--------------------+-----------------+\n",
      "|           body_text|          journal|\n",
      "+--------------------+-----------------+\n",
      "|(termed tRNA Ser ...|           EMBO J|\n",
      "|An outbreak of no...| Emerg Infect Dis|\n",
      "|Aplastic anemia, ...|          Virol J|\n",
      "|Australia's first...|BMC Public Health|\n",
      "|Avian influenza v...|     Yonsei Med J|\n",
      "|Bone marrow conta...|         PLoS One|\n",
      "|CD8+ T cells play...|    Front Immunol|\n",
      "|Despite the antig...|      PLoS Pathog|\n",
      "|During an influen...|    Ann Occup Hyg|\n",
      "|Eukaryotic cells ...|Nucleic Acids Res|\n",
      "+--------------------+-----------------+\n",
      "only showing top 10 rows\n",
      "\n"
     ]
    },
    {
     "name": "stderr",
     "output_type": "stream",
     "text": [
      "\r",
      "[Stage 6:>                                                          (0 + 1) / 1]\r",
      "\r",
      "                                                                                \r"
     ]
    }
   ],
   "source": [
    "train_df, test_df = df.randomSplit([0.05, 0.95], seed=42)\n",
    "train_df.show(10, truncate = True)"
   ]
  },
  {
   "cell_type": "code",
   "execution_count": 8,
   "metadata": {
    "ExecuteTime": {
     "end_time": "2022-11-27T06:19:14.574513Z",
     "start_time": "2022-11-27T06:19:13.751550Z"
    }
   },
   "outputs": [],
   "source": [
    "embedded_texts = pipeline.fit(train_df).transform(train_df)"
   ]
  },
  {
   "cell_type": "code",
   "execution_count": 9,
   "metadata": {
    "ExecuteTime": {
     "end_time": "2022-11-27T06:06:09.093756Z",
     "start_time": "2022-11-27T06:06:09.078192Z"
    },
    "scrolled": true
   },
   "outputs": [
    {
     "name": "stdout",
     "output_type": "stream",
     "text": [
      "root\n",
      " |-- body_text: string (nullable = true)\n",
      " |-- journal: string (nullable = true)\n",
      " |-- document: array (nullable = true)\n",
      " |    |-- element: struct (containsNull = true)\n",
      " |    |    |-- annotatorType: string (nullable = true)\n",
      " |    |    |-- begin: integer (nullable = false)\n",
      " |    |    |-- end: integer (nullable = false)\n",
      " |    |    |-- result: string (nullable = true)\n",
      " |    |    |-- metadata: map (nullable = true)\n",
      " |    |    |    |-- key: string\n",
      " |    |    |    |-- value: string (valueContainsNull = true)\n",
      " |    |    |-- embeddings: array (nullable = true)\n",
      " |    |    |    |-- element: float (containsNull = false)\n",
      " |-- token: array (nullable = true)\n",
      " |    |-- element: struct (containsNull = true)\n",
      " |    |    |-- annotatorType: string (nullable = true)\n",
      " |    |    |-- begin: integer (nullable = false)\n",
      " |    |    |-- end: integer (nullable = false)\n",
      " |    |    |-- result: string (nullable = true)\n",
      " |    |    |-- metadata: map (nullable = true)\n",
      " |    |    |    |-- key: string\n",
      " |    |    |    |-- value: string (valueContainsNull = true)\n",
      " |    |    |-- embeddings: array (nullable = true)\n",
      " |    |    |    |-- element: float (containsNull = false)\n",
      " |-- normalized: array (nullable = true)\n",
      " |    |-- element: struct (containsNull = true)\n",
      " |    |    |-- annotatorType: string (nullable = true)\n",
      " |    |    |-- begin: integer (nullable = false)\n",
      " |    |    |-- end: integer (nullable = false)\n",
      " |    |    |-- result: string (nullable = true)\n",
      " |    |    |-- metadata: map (nullable = true)\n",
      " |    |    |    |-- key: string\n",
      " |    |    |    |-- value: string (valueContainsNull = true)\n",
      " |    |    |-- embeddings: array (nullable = true)\n",
      " |    |    |    |-- element: float (containsNull = false)\n",
      " |-- cleanTokens: array (nullable = true)\n",
      " |    |-- element: struct (containsNull = true)\n",
      " |    |    |-- annotatorType: string (nullable = true)\n",
      " |    |    |-- begin: integer (nullable = false)\n",
      " |    |    |-- end: integer (nullable = false)\n",
      " |    |    |-- result: string (nullable = true)\n",
      " |    |    |-- metadata: map (nullable = true)\n",
      " |    |    |    |-- key: string\n",
      " |    |    |    |-- value: string (valueContainsNull = true)\n",
      " |    |    |-- embeddings: array (nullable = true)\n",
      " |    |    |    |-- element: float (containsNull = false)\n",
      " |-- lemma: array (nullable = true)\n",
      " |    |-- element: struct (containsNull = true)\n",
      " |    |    |-- annotatorType: string (nullable = true)\n",
      " |    |    |-- begin: integer (nullable = false)\n",
      " |    |    |-- end: integer (nullable = false)\n",
      " |    |    |-- result: string (nullable = true)\n",
      " |    |    |-- metadata: map (nullable = true)\n",
      " |    |    |    |-- key: string\n",
      " |    |    |    |-- value: string (valueContainsNull = true)\n",
      " |    |    |-- embeddings: array (nullable = true)\n",
      " |    |    |    |-- element: float (containsNull = false)\n",
      " |-- embeddings: array (nullable = true)\n",
      " |    |-- element: struct (containsNull = true)\n",
      " |    |    |-- annotatorType: string (nullable = true)\n",
      " |    |    |-- begin: integer (nullable = false)\n",
      " |    |    |-- end: integer (nullable = false)\n",
      " |    |    |-- result: string (nullable = true)\n",
      " |    |    |-- metadata: map (nullable = true)\n",
      " |    |    |    |-- key: string\n",
      " |    |    |    |-- value: string (valueContainsNull = true)\n",
      " |    |    |-- embeddings: array (nullable = true)\n",
      " |    |    |    |-- element: float (containsNull = false)\n",
      " |-- sentence_embeddings: array (nullable = true)\n",
      " |    |-- element: struct (containsNull = true)\n",
      " |    |    |-- annotatorType: string (nullable = true)\n",
      " |    |    |-- begin: integer (nullable = false)\n",
      " |    |    |-- end: integer (nullable = false)\n",
      " |    |    |-- result: string (nullable = true)\n",
      " |    |    |-- metadata: map (nullable = true)\n",
      " |    |    |    |-- key: string\n",
      " |    |    |    |-- value: string (valueContainsNull = true)\n",
      " |    |    |-- embeddings: array (nullable = true)\n",
      " |    |    |    |-- element: float (containsNull = false)\n",
      " |-- sentence_embeddings_vectors: array (nullable = true)\n",
      " |    |-- element: vector (containsNull = true)\n",
      "\n"
     ]
    }
   ],
   "source": [
    "embedded_texts.printSchema()"
   ]
  },
  {
   "cell_type": "code",
   "execution_count": null,
   "metadata": {},
   "outputs": [],
   "source": [
    "embedded_texts.select(\"sentence_embeddings_vectors\").show(5)"
   ]
  },
  {
   "cell_type": "code",
   "execution_count": 9,
   "metadata": {
    "ExecuteTime": {
     "end_time": "2022-11-27T06:19:44.029396Z",
     "start_time": "2022-11-27T06:19:43.989680Z"
    }
   },
   "outputs": [],
   "source": [
    "embedded_texts = embedded_texts.select(F.explode(F.col(\"sentence_embeddings_vectors\")).alias(\"features\"))\n",
    "# embedded_texts.select(\"sentence_embeddings_vectors\").show(5)"
   ]
  },
  {
   "cell_type": "code",
   "execution_count": 10,
   "metadata": {
    "ExecuteTime": {
     "end_time": "2022-11-27T06:19:54.814255Z",
     "start_time": "2022-11-27T06:19:49.574611Z"
    }
   },
   "outputs": [
    {
     "name": "stderr",
     "output_type": "stream",
     "text": [
      "\r",
      "[Stage 7:>                                                          (0 + 1) / 1]\r"
     ]
    },
    {
     "name": "stdout",
     "output_type": "stream",
     "text": [
      "+--------------------+\n",
      "|            features|\n",
      "+--------------------+\n",
      "|[-0.1601934581995...|\n",
      "|[-0.1087049841880...|\n",
      "|[0.04101908206939...|\n",
      "|[-0.0707106888294...|\n",
      "|[-0.0367011949419...|\n",
      "+--------------------+\n",
      "only showing top 5 rows\n",
      "\n"
     ]
    },
    {
     "name": "stderr",
     "output_type": "stream",
     "text": [
      "\r",
      "                                                                                \r"
     ]
    }
   ],
   "source": [
    "embedded_texts.show(5)"
   ]
  },
  {
   "cell_type": "code",
   "execution_count": 11,
   "metadata": {
    "ExecuteTime": {
     "end_time": "2022-11-26T08:22:08.795653Z",
     "start_time": "2022-11-26T08:22:07.582337Z"
    }
   },
   "outputs": [
    {
     "data": {
      "text/plain": [
       "(530, 100)"
      ]
     },
     "execution_count": 11,
     "metadata": {},
     "output_type": "execute_result"
    }
   ],
   "source": [
    "train_df.count(), test_df.count()"
   ]
  },
  {
   "cell_type": "code",
   "execution_count": 12,
   "metadata": {
    "ExecuteTime": {
     "end_time": "2022-11-26T08:23:33.654944Z",
     "start_time": "2022-11-26T08:22:12.413052Z"
    },
    "collapsed": true
   },
   "outputs": [
    {
     "name": "stderr",
     "output_type": "stream",
     "text": [
      "2022-11-26 02:23:23.856382: I external/org_tensorflow/tensorflow/cc/saved_model/reader.cc:43] Reading SavedModel from: /tmp/32feec6dc2fa_classifier_dl11486200628654331224\n",
      "2022-11-26 02:23:24.019733: I external/org_tensorflow/tensorflow/cc/saved_model/reader.cc:107] Reading meta graph with tags { serve }\n",
      "2022-11-26 02:23:24.019775: I external/org_tensorflow/tensorflow/cc/saved_model/reader.cc:148] Reading SavedModel debug info (if present) from: /tmp/32feec6dc2fa_classifier_dl11486200628654331224\n",
      "2022-11-26 02:23:24.019868: I external/org_tensorflow/tensorflow/core/platform/cpu_feature_guard.cc:151] This TensorFlow binary is optimized with oneAPI Deep Neural Network Library (oneDNN) to use the following CPU instructions in performance-critical operations:  AVX2 FMA\n",
      "To enable them in other operations, rebuild TensorFlow with the appropriate compiler flags.\n",
      "2022-11-26 02:23:24.627175: I external/org_tensorflow/tensorflow/cc/saved_model/loader.cc:228] Restoring SavedModel bundle.\n",
      "2022-11-26 02:23:25.761888: I external/org_tensorflow/tensorflow/cc/saved_model/loader.cc:212] Running initialization op on SavedModel bundle at path: /tmp/32feec6dc2fa_classifier_dl11486200628654331224\n",
      "2022-11-26 02:23:25.937809: I external/org_tensorflow/tensorflow/cc/saved_model/loader.cc:301] SavedModel load for tags { serve }; Status: success: OK. Took 2081439 microseconds.\n"
     ]
    },
    {
     "name": "stdout",
     "output_type": "stream",
     "text": [
      "Training started - epochs: 20 - learning_rate: 0.01 - batch_size: 32 - training_examples: 530 - classes: 20\n",
      "Epoch 1/20 - 0.62s - loss: 47.24174 - acc: 0.38845485 - batches: 17\n",
      "Epoch 2/20 - 0.15s - loss: 47.328625 - acc: 0.41189235 - batches: 17\n",
      "Epoch 3/20 - 0.18s - loss: 47.328625 - acc: 0.41189235 - batches: 17\n",
      "Epoch 4/20 - 0.16s - loss: 47.328625 - acc: 0.41189235 - batches: 17\n",
      "Epoch 5/20 - 0.18s - loss: 47.328625 - acc: 0.41189235 - batches: 17\n",
      "Epoch 6/20 - 0.16s - loss: 47.328625 - acc: 0.41189235 - batches: 17\n",
      "Epoch 7/20 - 0.19s - loss: 47.328625 - acc: 0.41189235 - batches: 17\n",
      "Epoch 8/20 - 0.18s - loss: 47.328625 - acc: 0.41189235 - batches: 17\n",
      "Epoch 9/20 - 0.18s - loss: 47.328625 - acc: 0.41189235 - batches: 17\n",
      "Epoch 10/20 - 0.15s - loss: 47.328625 - acc: 0.41189235 - batches: 17\n",
      "Epoch 11/20 - 0.17s - loss: 47.328625 - acc: 0.41189235 - batches: 17\n",
      "Epoch 12/20 - 0.16s - loss: 47.328625 - acc: 0.41189235 - batches: 17\n",
      "Epoch 13/20 - 0.17s - loss: 47.328625 - acc: 0.41189235 - batches: 17\n",
      "Epoch 14/20 - 0.15s - loss: 47.328625 - acc: 0.41189235 - batches: 17\n",
      "Epoch 15/20 - 0.17s - loss: 47.328625 - acc: 0.41189235 - batches: 17\n",
      "Epoch 16/20 - 0.15s - loss: 47.328625 - acc: 0.41189235 - batches: 17\n",
      "Epoch 17/20 - 0.17s - loss: 47.328625 - acc: 0.41189235 - batches: 17\n",
      "Epoch 18/20 - 0.15s - loss: 47.328625 - acc: 0.41189235 - batches: 17\n",
      "Epoch 19/20 - 0.18s - loss: 47.328625 - acc: 0.41189235 - batches: 17\n",
      "Epoch 20/20 - 0.16s - loss: 47.328625 - acc: 0.41189235 - batches: 17\n"
     ]
    }
   ],
   "source": [
    "clf_pipelineModel = clf_pipeline.fit(train_df)"
   ]
  },
  {
   "cell_type": "code",
   "execution_count": 13,
   "metadata": {
    "ExecuteTime": {
     "end_time": "2022-11-26T08:23:39.356937Z",
     "start_time": "2022-11-26T08:23:39.083352Z"
    }
   },
   "outputs": [],
   "source": [
    "preds = clf_pipelineModel.transform(test_df)"
   ]
  },
  {
   "cell_type": "code",
   "execution_count": 16,
   "metadata": {
    "ExecuteTime": {
     "end_time": "2022-11-26T08:25:24.171187Z",
     "start_time": "2022-11-26T08:25:12.325809Z"
    }
   },
   "outputs": [
    {
     "name": "stderr",
     "output_type": "stream",
     "text": [
      "                                                                                \r"
     ]
    }
   ],
   "source": [
    "preds_df = preds.select(\"journal\", \"category.result\").toPandas()"
   ]
  },
  {
   "cell_type": "code",
   "execution_count": 19,
   "metadata": {
    "ExecuteTime": {
     "end_time": "2022-11-26T08:26:22.239628Z",
     "start_time": "2022-11-26T08:26:22.214339Z"
    }
   },
   "outputs": [
    {
     "data": {
      "text/html": [
       "<div>\n",
       "<style scoped>\n",
       "    .dataframe tbody tr th:only-of-type {\n",
       "        vertical-align: middle;\n",
       "    }\n",
       "\n",
       "    .dataframe tbody tr th {\n",
       "        vertical-align: top;\n",
       "    }\n",
       "\n",
       "    .dataframe thead th {\n",
       "        text-align: right;\n",
       "    }\n",
       "</style>\n",
       "<table border=\"1\" class=\"dataframe\">\n",
       "  <thead>\n",
       "    <tr style=\"text-align: right;\">\n",
       "      <th></th>\n",
       "      <th>journal</th>\n",
       "      <th>result</th>\n",
       "    </tr>\n",
       "  </thead>\n",
       "  <tbody>\n",
       "    <tr>\n",
       "      <th>0</th>\n",
       "      <td>Evid Based Complement Alternat Med</td>\n",
       "      <td>PLoS One</td>\n",
       "    </tr>\n",
       "    <tr>\n",
       "      <th>1</th>\n",
       "      <td>PLoS One</td>\n",
       "      <td>PLoS One</td>\n",
       "    </tr>\n",
       "    <tr>\n",
       "      <th>2</th>\n",
       "      <td>PLoS One</td>\n",
       "      <td>PLoS One</td>\n",
       "    </tr>\n",
       "    <tr>\n",
       "      <th>3</th>\n",
       "      <td>PLoS One</td>\n",
       "      <td>PLoS One</td>\n",
       "    </tr>\n",
       "    <tr>\n",
       "      <th>4</th>\n",
       "      <td>PLoS One</td>\n",
       "      <td>PLoS One</td>\n",
       "    </tr>\n",
       "  </tbody>\n",
       "</table>\n",
       "</div>"
      ],
      "text/plain": [
       "                              journal    result\n",
       "0  Evid Based Complement Alternat Med  PLoS One\n",
       "1                            PLoS One  PLoS One\n",
       "2                            PLoS One  PLoS One\n",
       "3                            PLoS One  PLoS One\n",
       "4                            PLoS One  PLoS One"
      ]
     },
     "execution_count": 19,
     "metadata": {},
     "output_type": "execute_result"
    }
   ],
   "source": [
    "preds_df.loc[:, \"result\"] = preds_df[\"result\"].apply(lambda x: x[0])\n",
    "preds_df.head()"
   ]
  },
  {
   "cell_type": "code",
   "execution_count": 22,
   "metadata": {
    "ExecuteTime": {
     "end_time": "2022-11-26T08:29:39.252021Z",
     "start_time": "2022-11-26T08:29:39.223194Z"
    }
   },
   "outputs": [
    {
     "name": "stdout",
     "output_type": "stream",
     "text": [
      "Accuracy: 0.4\n",
      "Classification Report:                                     precision    recall  f1-score   support\n",
      "\n",
      "                BMC Bioinformatics       0.00      0.00      0.00         2\n",
      "                    BMC Infect Dis       0.00      0.00      0.00         5\n",
      "                 BMC Public Health       0.00      0.00      0.00         6\n",
      "                         Crit Care       0.00      0.00      0.00         5\n",
      "                  Emerg Infect Dis       0.00      0.00      0.00         8\n",
      "Evid Based Complement Alternat Med       0.00      0.00      0.00         1\n",
      "                J Med Case Reports       0.00      0.00      0.00         2\n",
      "                 J R Soc Interface       0.00      0.00      0.00         2\n",
      "                 Nucleic Acids Res       0.00      0.00      0.00         7\n",
      "                  PLoS Comput Biol       0.00      0.00      0.00         3\n",
      "                          PLoS Med       0.00      0.00      0.00         2\n",
      "                PLoS Negl Trop Dis       0.00      0.00      0.00         4\n",
      "                          PLoS One       0.40      1.00      0.57        40\n",
      "                       PLoS Pathog       0.00      0.00      0.00         8\n",
      "                        Respir Res       0.00      0.00      0.00         1\n",
      "                           Vet Res       0.00      0.00      0.00         1\n",
      "                           Virol J       0.00      0.00      0.00         3\n",
      "\n",
      "                          accuracy                           0.40       100\n",
      "                         macro avg       0.02      0.06      0.03       100\n",
      "                      weighted avg       0.16      0.40      0.23       100\n",
      "\n"
     ]
    },
    {
     "name": "stderr",
     "output_type": "stream",
     "text": [
      "/home/betelgeuse/miniconda3/envs/py39/lib/python3.9/site-packages/sklearn/metrics/_classification.py:1318: UndefinedMetricWarning: Precision and F-score are ill-defined and being set to 0.0 in labels with no predicted samples. Use `zero_division` parameter to control this behavior.\n",
      "  _warn_prf(average, modifier, msg_start, len(result))\n",
      "/home/betelgeuse/miniconda3/envs/py39/lib/python3.9/site-packages/sklearn/metrics/_classification.py:1318: UndefinedMetricWarning: Precision and F-score are ill-defined and being set to 0.0 in labels with no predicted samples. Use `zero_division` parameter to control this behavior.\n",
      "  _warn_prf(average, modifier, msg_start, len(result))\n",
      "/home/betelgeuse/miniconda3/envs/py39/lib/python3.9/site-packages/sklearn/metrics/_classification.py:1318: UndefinedMetricWarning: Precision and F-score are ill-defined and being set to 0.0 in labels with no predicted samples. Use `zero_division` parameter to control this behavior.\n",
      "  _warn_prf(average, modifier, msg_start, len(result))\n"
     ]
    }
   ],
   "source": [
    "from sklearn.metrics import accuracy_score, classification_report\n",
    "from sklearn.metrics import confusion_matrix\n",
    "\n",
    "y_true = preds_df.journal.tolist()\n",
    "y_pred = preds_df.result.tolist()\n",
    "\n",
    "print(\"Accuracy:\", (accuracy_score(y_true, y_pred)))\n",
    "print(\"Classification Report:\", classification_report(y_true, y_pred))"
   ]
  },
  {
   "cell_type": "code",
   "execution_count": 23,
   "metadata": {
    "ExecuteTime": {
     "end_time": "2022-11-26T08:32:22.843495Z",
     "start_time": "2022-11-26T08:32:01.090205Z"
    }
   },
   "outputs": [
    {
     "name": "stderr",
     "output_type": "stream",
     "text": [
      "                                                                                \r"
     ]
    }
   ],
   "source": [
    "xx = preds.select(\"embeddings\", \"sentence_embeddings\").toPandas()"
   ]
  },
  {
   "cell_type": "code",
   "execution_count": 24,
   "metadata": {
    "ExecuteTime": {
     "end_time": "2022-11-26T08:32:42.613805Z",
     "start_time": "2022-11-26T08:32:41.583969Z"
    }
   },
   "outputs": [
    {
     "data": {
      "text/html": [
       "<div>\n",
       "<style scoped>\n",
       "    .dataframe tbody tr th:only-of-type {\n",
       "        vertical-align: middle;\n",
       "    }\n",
       "\n",
       "    .dataframe tbody tr th {\n",
       "        vertical-align: top;\n",
       "    }\n",
       "\n",
       "    .dataframe thead th {\n",
       "        text-align: right;\n",
       "    }\n",
       "</style>\n",
       "<table border=\"1\" class=\"dataframe\">\n",
       "  <thead>\n",
       "    <tr style=\"text-align: right;\">\n",
       "      <th></th>\n",
       "      <th>embeddings</th>\n",
       "      <th>sentence_embeddings</th>\n",
       "    </tr>\n",
       "  </thead>\n",
       "  <tbody>\n",
       "    <tr>\n",
       "      <th>0</th>\n",
       "      <td>[(word_embeddings, 0, 9, Depression, {'sentenc...</td>\n",
       "      <td>[(sentence_embeddings, 0, 25681, Depression is...</td>\n",
       "    </tr>\n",
       "    <tr>\n",
       "      <th>1</th>\n",
       "      <td>[(word_embeddings, 0, 12, Staphylococci, {'sen...</td>\n",
       "      <td>[(sentence_embeddings, 0, 28496, Staphylococci...</td>\n",
       "    </tr>\n",
       "    <tr>\n",
       "      <th>2</th>\n",
       "      <td>[(word_embeddings, 0, 9, Toxoplasma, {'sentenc...</td>\n",
       "      <td>[(sentence_embeddings, 0, 24862, Toxoplasma go...</td>\n",
       "    </tr>\n",
       "    <tr>\n",
       "      <th>3</th>\n",
       "      <td>[(word_embeddings, 2, 7, common, {'sentence': ...</td>\n",
       "      <td>[(sentence_embeddings, 0, 31529, A common meth...</td>\n",
       "    </tr>\n",
       "    <tr>\n",
       "      <th>4</th>\n",
       "      <td>[(word_embeddings, 2, 4, new, {'sentence': '0'...</td>\n",
       "      <td>[(sentence_embeddings, 0, 18877, A new highly ...</td>\n",
       "    </tr>\n",
       "    <tr>\n",
       "      <th>...</th>\n",
       "      <td>...</td>\n",
       "      <td>...</td>\n",
       "    </tr>\n",
       "    <tr>\n",
       "      <th>95</th>\n",
       "      <td>[(word_embeddings, 0, 6, Viruses, {'sentence':...</td>\n",
       "      <td>[(sentence_embeddings, 0, 40962, Viruses need ...</td>\n",
       "    </tr>\n",
       "    <tr>\n",
       "      <th>96</th>\n",
       "      <td>[(word_embeddings, 3, 8, test, {'sentence': '0...</td>\n",
       "      <td>[(sentence_embeddings, 0, 10688, We tested 332...</td>\n",
       "    </tr>\n",
       "    <tr>\n",
       "      <th>97</th>\n",
       "      <td>[(word_embeddings, 5, 13, molecular, {'sentenc...</td>\n",
       "      <td>[(sentence_embeddings, 0, 14469, When molecula...</td>\n",
       "    </tr>\n",
       "    <tr>\n",
       "      <th>98</th>\n",
       "      <td>[(word_embeddings, 4, 9, genus, {'sentence': '...</td>\n",
       "      <td>[(sentence_embeddings, 0, 5464, the genera Ept...</td>\n",
       "    </tr>\n",
       "    <tr>\n",
       "      <th>99</th>\n",
       "      <td>[(word_embeddings, 0, 5, Common, {'sentence': ...</td>\n",
       "      <td>[(sentence_embeddings, 0, 18423, “Common cold”...</td>\n",
       "    </tr>\n",
       "  </tbody>\n",
       "</table>\n",
       "<p>100 rows × 2 columns</p>\n",
       "</div>"
      ],
      "text/plain": [
       "                                           embeddings  \\\n",
       "0   [(word_embeddings, 0, 9, Depression, {'sentenc...   \n",
       "1   [(word_embeddings, 0, 12, Staphylococci, {'sen...   \n",
       "2   [(word_embeddings, 0, 9, Toxoplasma, {'sentenc...   \n",
       "3   [(word_embeddings, 2, 7, common, {'sentence': ...   \n",
       "4   [(word_embeddings, 2, 4, new, {'sentence': '0'...   \n",
       "..                                                ...   \n",
       "95  [(word_embeddings, 0, 6, Viruses, {'sentence':...   \n",
       "96  [(word_embeddings, 3, 8, test, {'sentence': '0...   \n",
       "97  [(word_embeddings, 5, 13, molecular, {'sentenc...   \n",
       "98  [(word_embeddings, 4, 9, genus, {'sentence': '...   \n",
       "99  [(word_embeddings, 0, 5, Common, {'sentence': ...   \n",
       "\n",
       "                                  sentence_embeddings  \n",
       "0   [(sentence_embeddings, 0, 25681, Depression is...  \n",
       "1   [(sentence_embeddings, 0, 28496, Staphylococci...  \n",
       "2   [(sentence_embeddings, 0, 24862, Toxoplasma go...  \n",
       "3   [(sentence_embeddings, 0, 31529, A common meth...  \n",
       "4   [(sentence_embeddings, 0, 18877, A new highly ...  \n",
       "..                                                ...  \n",
       "95  [(sentence_embeddings, 0, 40962, Viruses need ...  \n",
       "96  [(sentence_embeddings, 0, 10688, We tested 332...  \n",
       "97  [(sentence_embeddings, 0, 14469, When molecula...  \n",
       "98  [(sentence_embeddings, 0, 5464, the genera Ept...  \n",
       "99  [(sentence_embeddings, 0, 18423, “Common cold”...  \n",
       "\n",
       "[100 rows x 2 columns]"
      ]
     },
     "execution_count": 24,
     "metadata": {},
     "output_type": "execute_result"
    }
   ],
   "source": [
    "xx"
   ]
  },
  {
   "cell_type": "code",
   "execution_count": 34,
   "metadata": {
    "ExecuteTime": {
     "end_time": "2022-11-26T17:32:15.053726Z",
     "start_time": "2022-11-26T17:32:15.037195Z"
    }
   },
   "outputs": [
    {
     "data": {
      "text/plain": [
       "100"
      ]
     },
     "execution_count": 34,
     "metadata": {},
     "output_type": "execute_result"
    }
   ],
   "source": [
    "len(xx.sentence_embeddings[0][0].embeddings)"
   ]
  },
  {
   "cell_type": "code",
   "execution_count": 11,
   "metadata": {
    "ExecuteTime": {
     "end_time": "2022-11-27T06:20:04.852114Z",
     "start_time": "2022-11-27T06:20:04.843113Z"
    }
   },
   "outputs": [],
   "source": [
    "from pyspark.ml.clustering import LDA"
   ]
  },
  {
   "cell_type": "code",
   "execution_count": 52,
   "metadata": {
    "ExecuteTime": {
     "end_time": "2022-11-26T17:42:57.378295Z",
     "start_time": "2022-11-26T17:42:55.887605Z"
    },
    "scrolled": true
   },
   "outputs": [
    {
     "name": "stderr",
     "output_type": "stream",
     "text": [
      "\r",
      "[Stage 38:>                                                         (0 + 1) / 1]\r"
     ]
    },
    {
     "name": "stdout",
     "output_type": "stream",
     "text": [
      "+--------------------+\n",
      "|            features|\n",
      "+--------------------+\n",
      "|[[-0.07619757, 0....|\n",
      "|[[-0.16363257, 0....|\n",
      "|[[-0.11517252, 0....|\n",
      "|[[-0.13065161, 0....|\n",
      "|[[-0.10602315, 0....|\n",
      "+--------------------+\n",
      "only showing top 5 rows\n",
      "\n"
     ]
    },
    {
     "name": "stderr",
     "output_type": "stream",
     "text": [
      "\r",
      "                                                                                \r"
     ]
    }
   ],
   "source": [
    "pp = preds.select('sentence_embeddings.embeddings').withColumnRenamed(\"embeddings\", \"features\")\n",
    "pp.show(5)"
   ]
  },
  {
   "cell_type": "code",
   "execution_count": null,
   "metadata": {},
   "outputs": [],
   "source": [
    "p2 = preds.select(\"*\", F.explode(\"sentence_embeddings.embeddings\").alias(\"embeddings\"))\n",
    "\n",
    "results = results.withColumn(\n",
    "    \"features\",\n",
    "    self.udfs['convertToVectorUDF'](F.col(\"embeddings\"))\n",
    ")"
   ]
  },
  {
   "cell_type": "code",
   "execution_count": 12,
   "metadata": {
    "ExecuteTime": {
     "end_time": "2022-11-27T07:33:09.128598Z",
     "start_time": "2022-11-27T06:20:36.146339Z"
    }
   },
   "outputs": [
    {
     "name": "stderr",
     "output_type": "stream",
     "text": [
      "                                                                                \r"
     ]
    },
    {
     "name": "stdout",
     "output_type": "stream",
     "text": [
      "22/11/27 00:20:53 WARN BLAS: Failed to load implementation from: com.github.fommil.netlib.NativeSystemBLAS\n",
      "22/11/27 00:20:53 WARN BLAS: Failed to load implementation from: com.github.fommil.netlib.NativeRefBLAS\n"
     ]
    },
    {
     "name": "stderr",
     "output_type": "stream",
     "text": [
      "ERROR:root:KeyboardInterrupt while sending command.                 (0 + 1) / 1]\n",
      "Traceback (most recent call last):\n",
      "  File \"/home/betelgeuse/miniconda3/envs/py39/lib/python3.9/site-packages/py4j/java_gateway.py\", line 1038, in send_command\n",
      "    response = connection.send_command(command)\n",
      "  File \"/home/betelgeuse/miniconda3/envs/py39/lib/python3.9/site-packages/py4j/clientserver.py\", line 511, in send_command\n",
      "    answer = smart_decode(self.stream.readline()[:-1])\n",
      "  File \"/home/betelgeuse/miniconda3/envs/py39/lib/python3.9/socket.py\", line 704, in readinto\n",
      "    return self._sock.recv_into(b)\n",
      "KeyboardInterrupt\n"
     ]
    },
    {
     "ename": "KeyboardInterrupt",
     "evalue": "",
     "output_type": "error",
     "traceback": [
      "\u001b[0;31m---------------------------------------------------------------------------\u001b[0m",
      "\u001b[0;31mKeyboardInterrupt\u001b[0m                         Traceback (most recent call last)",
      "Cell \u001b[0;32mIn [12], line 6\u001b[0m\n\u001b[1;32m      4\u001b[0m lda \u001b[38;5;241m=\u001b[39m LDA(k\u001b[38;5;241m=\u001b[39mnum_topics, seed\u001b[38;5;241m=\u001b[39m\u001b[38;5;241m42\u001b[39m)\n\u001b[1;32m      5\u001b[0m lda\u001b[38;5;241m.\u001b[39msetMaxIter(max_iterations)\n\u001b[0;32m----> 6\u001b[0m lda_model \u001b[38;5;241m=\u001b[39m \u001b[43mlda\u001b[49m\u001b[38;5;241;43m.\u001b[39;49m\u001b[43mfit\u001b[49m\u001b[43m(\u001b[49m\u001b[43membedded_texts\u001b[49m\u001b[43m)\u001b[49m\n",
      "File \u001b[0;32m~/miniconda3/envs/py39/lib/python3.9/site-packages/pyspark/ml/base.py:205\u001b[0m, in \u001b[0;36mEstimator.fit\u001b[0;34m(self, dataset, params)\u001b[0m\n\u001b[1;32m    203\u001b[0m         \u001b[38;5;28;01mreturn\u001b[39;00m \u001b[38;5;28mself\u001b[39m\u001b[38;5;241m.\u001b[39mcopy(params)\u001b[38;5;241m.\u001b[39m_fit(dataset)\n\u001b[1;32m    204\u001b[0m     \u001b[38;5;28;01melse\u001b[39;00m:\n\u001b[0;32m--> 205\u001b[0m         \u001b[38;5;28;01mreturn\u001b[39;00m \u001b[38;5;28;43mself\u001b[39;49m\u001b[38;5;241;43m.\u001b[39;49m\u001b[43m_fit\u001b[49m\u001b[43m(\u001b[49m\u001b[43mdataset\u001b[49m\u001b[43m)\u001b[49m\n\u001b[1;32m    206\u001b[0m \u001b[38;5;28;01melse\u001b[39;00m:\n\u001b[1;32m    207\u001b[0m     \u001b[38;5;28;01mraise\u001b[39;00m \u001b[38;5;167;01mTypeError\u001b[39;00m(\n\u001b[1;32m    208\u001b[0m         \u001b[38;5;124m\"\u001b[39m\u001b[38;5;124mParams must be either a param map or a list/tuple of param maps, \u001b[39m\u001b[38;5;124m\"\u001b[39m\n\u001b[1;32m    209\u001b[0m         \u001b[38;5;124m\"\u001b[39m\u001b[38;5;124mbut got \u001b[39m\u001b[38;5;132;01m%s\u001b[39;00m\u001b[38;5;124m.\u001b[39m\u001b[38;5;124m\"\u001b[39m \u001b[38;5;241m%\u001b[39m \u001b[38;5;28mtype\u001b[39m(params)\n\u001b[1;32m    210\u001b[0m     )\n",
      "File \u001b[0;32m~/miniconda3/envs/py39/lib/python3.9/site-packages/pyspark/ml/wrapper.py:383\u001b[0m, in \u001b[0;36mJavaEstimator._fit\u001b[0;34m(self, dataset)\u001b[0m\n\u001b[1;32m    382\u001b[0m \u001b[38;5;28;01mdef\u001b[39;00m \u001b[38;5;21m_fit\u001b[39m(\u001b[38;5;28mself\u001b[39m, dataset: DataFrame) \u001b[38;5;241m-\u001b[39m\u001b[38;5;241m>\u001b[39m JM:\n\u001b[0;32m--> 383\u001b[0m     java_model \u001b[38;5;241m=\u001b[39m \u001b[38;5;28;43mself\u001b[39;49m\u001b[38;5;241;43m.\u001b[39;49m\u001b[43m_fit_java\u001b[49m\u001b[43m(\u001b[49m\u001b[43mdataset\u001b[49m\u001b[43m)\u001b[49m\n\u001b[1;32m    384\u001b[0m     model \u001b[38;5;241m=\u001b[39m \u001b[38;5;28mself\u001b[39m\u001b[38;5;241m.\u001b[39m_create_model(java_model)\n\u001b[1;32m    385\u001b[0m     \u001b[38;5;28;01mreturn\u001b[39;00m \u001b[38;5;28mself\u001b[39m\u001b[38;5;241m.\u001b[39m_copyValues(model)\n",
      "File \u001b[0;32m~/miniconda3/envs/py39/lib/python3.9/site-packages/pyspark/ml/wrapper.py:380\u001b[0m, in \u001b[0;36mJavaEstimator._fit_java\u001b[0;34m(self, dataset)\u001b[0m\n\u001b[1;32m    377\u001b[0m \u001b[38;5;28;01massert\u001b[39;00m \u001b[38;5;28mself\u001b[39m\u001b[38;5;241m.\u001b[39m_java_obj \u001b[38;5;129;01mis\u001b[39;00m \u001b[38;5;129;01mnot\u001b[39;00m \u001b[38;5;28;01mNone\u001b[39;00m\n\u001b[1;32m    379\u001b[0m \u001b[38;5;28mself\u001b[39m\u001b[38;5;241m.\u001b[39m_transfer_params_to_java()\n\u001b[0;32m--> 380\u001b[0m \u001b[38;5;28;01mreturn\u001b[39;00m \u001b[38;5;28;43mself\u001b[39;49m\u001b[38;5;241;43m.\u001b[39;49m\u001b[43m_java_obj\u001b[49m\u001b[38;5;241;43m.\u001b[39;49m\u001b[43mfit\u001b[49m\u001b[43m(\u001b[49m\u001b[43mdataset\u001b[49m\u001b[38;5;241;43m.\u001b[39;49m\u001b[43m_jdf\u001b[49m\u001b[43m)\u001b[49m\n",
      "File \u001b[0;32m~/miniconda3/envs/py39/lib/python3.9/site-packages/py4j/java_gateway.py:1320\u001b[0m, in \u001b[0;36mJavaMember.__call__\u001b[0;34m(self, *args)\u001b[0m\n\u001b[1;32m   1313\u001b[0m args_command, temp_args \u001b[38;5;241m=\u001b[39m \u001b[38;5;28mself\u001b[39m\u001b[38;5;241m.\u001b[39m_build_args(\u001b[38;5;241m*\u001b[39margs)\n\u001b[1;32m   1315\u001b[0m command \u001b[38;5;241m=\u001b[39m proto\u001b[38;5;241m.\u001b[39mCALL_COMMAND_NAME \u001b[38;5;241m+\u001b[39m\\\n\u001b[1;32m   1316\u001b[0m     \u001b[38;5;28mself\u001b[39m\u001b[38;5;241m.\u001b[39mcommand_header \u001b[38;5;241m+\u001b[39m\\\n\u001b[1;32m   1317\u001b[0m     args_command \u001b[38;5;241m+\u001b[39m\\\n\u001b[1;32m   1318\u001b[0m     proto\u001b[38;5;241m.\u001b[39mEND_COMMAND_PART\n\u001b[0;32m-> 1320\u001b[0m answer \u001b[38;5;241m=\u001b[39m \u001b[38;5;28;43mself\u001b[39;49m\u001b[38;5;241;43m.\u001b[39;49m\u001b[43mgateway_client\u001b[49m\u001b[38;5;241;43m.\u001b[39;49m\u001b[43msend_command\u001b[49m\u001b[43m(\u001b[49m\u001b[43mcommand\u001b[49m\u001b[43m)\u001b[49m\n\u001b[1;32m   1321\u001b[0m return_value \u001b[38;5;241m=\u001b[39m get_return_value(\n\u001b[1;32m   1322\u001b[0m     answer, \u001b[38;5;28mself\u001b[39m\u001b[38;5;241m.\u001b[39mgateway_client, \u001b[38;5;28mself\u001b[39m\u001b[38;5;241m.\u001b[39mtarget_id, \u001b[38;5;28mself\u001b[39m\u001b[38;5;241m.\u001b[39mname)\n\u001b[1;32m   1324\u001b[0m \u001b[38;5;28;01mfor\u001b[39;00m temp_arg \u001b[38;5;129;01min\u001b[39;00m temp_args:\n",
      "File \u001b[0;32m~/miniconda3/envs/py39/lib/python3.9/site-packages/py4j/java_gateway.py:1038\u001b[0m, in \u001b[0;36mGatewayClient.send_command\u001b[0;34m(self, command, retry, binary)\u001b[0m\n\u001b[1;32m   1036\u001b[0m connection \u001b[38;5;241m=\u001b[39m \u001b[38;5;28mself\u001b[39m\u001b[38;5;241m.\u001b[39m_get_connection()\n\u001b[1;32m   1037\u001b[0m \u001b[38;5;28;01mtry\u001b[39;00m:\n\u001b[0;32m-> 1038\u001b[0m     response \u001b[38;5;241m=\u001b[39m \u001b[43mconnection\u001b[49m\u001b[38;5;241;43m.\u001b[39;49m\u001b[43msend_command\u001b[49m\u001b[43m(\u001b[49m\u001b[43mcommand\u001b[49m\u001b[43m)\u001b[49m\n\u001b[1;32m   1039\u001b[0m     \u001b[38;5;28;01mif\u001b[39;00m binary:\n\u001b[1;32m   1040\u001b[0m         \u001b[38;5;28;01mreturn\u001b[39;00m response, \u001b[38;5;28mself\u001b[39m\u001b[38;5;241m.\u001b[39m_create_connection_guard(connection)\n",
      "File \u001b[0;32m~/miniconda3/envs/py39/lib/python3.9/site-packages/py4j/clientserver.py:511\u001b[0m, in \u001b[0;36mClientServerConnection.send_command\u001b[0;34m(self, command)\u001b[0m\n\u001b[1;32m    509\u001b[0m \u001b[38;5;28;01mtry\u001b[39;00m:\n\u001b[1;32m    510\u001b[0m     \u001b[38;5;28;01mwhile\u001b[39;00m \u001b[38;5;28;01mTrue\u001b[39;00m:\n\u001b[0;32m--> 511\u001b[0m         answer \u001b[38;5;241m=\u001b[39m smart_decode(\u001b[38;5;28;43mself\u001b[39;49m\u001b[38;5;241;43m.\u001b[39;49m\u001b[43mstream\u001b[49m\u001b[38;5;241;43m.\u001b[39;49m\u001b[43mreadline\u001b[49m\u001b[43m(\u001b[49m\u001b[43m)\u001b[49m[:\u001b[38;5;241m-\u001b[39m\u001b[38;5;241m1\u001b[39m])\n\u001b[1;32m    512\u001b[0m         logger\u001b[38;5;241m.\u001b[39mdebug(\u001b[38;5;124m\"\u001b[39m\u001b[38;5;124mAnswer received: \u001b[39m\u001b[38;5;132;01m{0}\u001b[39;00m\u001b[38;5;124m\"\u001b[39m\u001b[38;5;241m.\u001b[39mformat(answer))\n\u001b[1;32m    513\u001b[0m         \u001b[38;5;66;03m# Happens when a the other end is dead. There might be an empty\u001b[39;00m\n\u001b[1;32m    514\u001b[0m         \u001b[38;5;66;03m# answer before the socket raises an error.\u001b[39;00m\n",
      "File \u001b[0;32m~/miniconda3/envs/py39/lib/python3.9/socket.py:704\u001b[0m, in \u001b[0;36mSocketIO.readinto\u001b[0;34m(self, b)\u001b[0m\n\u001b[1;32m    702\u001b[0m \u001b[38;5;28;01mwhile\u001b[39;00m \u001b[38;5;28;01mTrue\u001b[39;00m:\n\u001b[1;32m    703\u001b[0m     \u001b[38;5;28;01mtry\u001b[39;00m:\n\u001b[0;32m--> 704\u001b[0m         \u001b[38;5;28;01mreturn\u001b[39;00m \u001b[38;5;28;43mself\u001b[39;49m\u001b[38;5;241;43m.\u001b[39;49m\u001b[43m_sock\u001b[49m\u001b[38;5;241;43m.\u001b[39;49m\u001b[43mrecv_into\u001b[49m\u001b[43m(\u001b[49m\u001b[43mb\u001b[49m\u001b[43m)\u001b[49m\n\u001b[1;32m    705\u001b[0m     \u001b[38;5;28;01mexcept\u001b[39;00m timeout:\n\u001b[1;32m    706\u001b[0m         \u001b[38;5;28mself\u001b[39m\u001b[38;5;241m.\u001b[39m_timeout_occurred \u001b[38;5;241m=\u001b[39m \u001b[38;5;28;01mTrue\u001b[39;00m\n",
      "\u001b[0;31mKeyboardInterrupt\u001b[0m: "
     ]
    }
   ],
   "source": [
    "num_topics = 5\n",
    "max_iterations = 10\n",
    "\n",
    "lda = LDA(k=num_topics, seed=42)\n",
    "lda.setMaxIter(max_iterations)\n",
    "lda_model = lda.fit(embedded_texts)"
   ]
  },
  {
   "cell_type": "code",
   "execution_count": 13,
   "metadata": {
    "ExecuteTime": {
     "end_time": "2022-11-27T07:33:15.830051Z",
     "start_time": "2022-11-27T07:33:15.799550Z"
    }
   },
   "outputs": [
    {
     "ename": "NameError",
     "evalue": "name 'lda_model' is not defined",
     "output_type": "error",
     "traceback": [
      "\u001b[0;31m---------------------------------------------------------------------------\u001b[0m",
      "\u001b[0;31mNameError\u001b[0m                                 Traceback (most recent call last)",
      "Cell \u001b[0;32mIn [13], line 1\u001b[0m\n\u001b[0;32m----> 1\u001b[0m \u001b[43mlda_model\u001b[49m\u001b[38;5;241m.\u001b[39mdescribeTopics()\u001b[38;5;241m.\u001b[39mshow()\n",
      "\u001b[0;31mNameError\u001b[0m: name 'lda_model' is not defined"
     ]
    }
   ],
   "source": [
    "lda_model.describeTopics().show()"
   ]
  },
  {
   "cell_type": "code",
   "execution_count": null,
   "metadata": {},
   "outputs": [],
   "source": []
  },
  {
   "cell_type": "code",
   "execution_count": null,
   "metadata": {},
   "outputs": [],
   "source": [
    "embedded_texts = pipeline.fit(train_df).transform(train_df)"
   ]
  },
  {
   "cell_type": "code",
   "execution_count": null,
   "metadata": {},
   "outputs": [],
   "source": []
  },
  {
   "cell_type": "code",
   "execution_count": null,
   "metadata": {},
   "outputs": [],
   "source": []
  }
 ],
 "metadata": {
  "kernelspec": {
   "display_name": "Python 3 (ipykernel)",
   "language": "python",
   "name": "python3"
  },
  "language_info": {
   "codemirror_mode": {
    "name": "ipython",
    "version": 3
   },
   "file_extension": ".py",
   "mimetype": "text/x-python",
   "name": "python",
   "nbconvert_exporter": "python",
   "pygments_lexer": "ipython3",
   "version": "3.9.13"
  },
  "varInspector": {
   "cols": {
    "lenName": 16,
    "lenType": 16,
    "lenVar": 40
   },
   "kernels_config": {
    "python": {
     "delete_cmd_postfix": "",
     "delete_cmd_prefix": "del ",
     "library": "var_list.py",
     "varRefreshCmd": "print(var_dic_list())"
    },
    "r": {
     "delete_cmd_postfix": ") ",
     "delete_cmd_prefix": "rm(",
     "library": "var_list.r",
     "varRefreshCmd": "cat(var_dic_list()) "
    }
   },
   "types_to_exclude": [
    "module",
    "function",
    "builtin_function_or_method",
    "instance",
    "_Feature"
   ],
   "window_display": false
  }
 },
 "nbformat": 4,
 "nbformat_minor": 2
}
