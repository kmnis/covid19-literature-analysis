{
 "cells": [
  {
   "cell_type": "code",
   "execution_count": 8,
   "metadata": {
    "ExecuteTime": {
     "end_time": "2022-12-01T05:37:18.995118Z",
     "start_time": "2022-12-01T05:37:18.984151Z"
    },
    "execution": {
     "iopub.status.busy": "2022-12-01T05:15:19.935276Z",
     "iopub.status.idle": "2022-12-01T05:15:19.935966Z",
     "shell.execute_reply": "2022-12-01T05:15:19.935772Z",
     "shell.execute_reply.started": "2022-12-01T05:15:19.935741Z"
    }
   },
   "outputs": [],
   "source": [
    "from pyspark.sql import SparkSession\n",
    "import pandas as pd\n",
    "import pyspark.sql.functions as F\n",
    "import pyspark.sql.types as T\n",
    "\n",
    "from pyspark.ml import Pipeline\n",
    "from pyspark.ml.feature import HashingTF, Tokenizer, StringIndexer, CountVectorizer, IDF, StopWordsRemover\n",
    "from pyspark.ml.tuning import CrossValidator, ParamGridBuilder\n",
    "\n",
    "from nltk.corpus import stopwords\n",
    "import re as re\n",
    "\n",
    "from pyspark.ml.linalg import Vector, Vectors, SparseVector\n",
    "from pyspark.ml.clustering import LDA, LDAModel, KMeans\n",
    "from pyspark.ml.evaluation import ClusteringEvaluator\n",
    "from pyspark.mllib.feature import Word2Vec, Word2VecModel\n",
    "\n",
    "from sparknlp.base import *\n",
    "from sparknlp.annotator import *\n",
    "from sparknlp.pretrained import PretrainedPipeline\n",
    "import sparknlp\n",
    "\n",
    "import matplotlib.pyplot as plt\n",
    "import seaborn as sns\n",
    "from wordcloud import WordCloud\n",
    "\n",
    "import warnings\n",
    "\n",
    "warnings.filterwarnings('ignore')\n",
    "sns.set_style('whitegrid')"
   ]
  },
  {
   "cell_type": "code",
   "execution_count": 3,
   "metadata": {
    "ExecuteTime": {
     "end_time": "2022-12-01T05:34:28.548783Z",
     "start_time": "2022-12-01T05:34:28.543431Z"
    },
    "execution": {
     "iopub.status.busy": "2022-12-01T05:15:19.937306Z",
     "iopub.status.idle": "2022-12-01T05:15:19.938090Z",
     "shell.execute_reply": "2022-12-01T05:15:19.937892Z",
     "shell.execute_reply.started": "2022-12-01T05:15:19.937863Z"
    }
   },
   "outputs": [],
   "source": [
    "%%capture\n",
    "spark = sparknlp.start()"
   ]
  },
  {
   "cell_type": "code",
   "execution_count": 4,
   "metadata": {
    "ExecuteTime": {
     "end_time": "2022-12-01T05:36:28.354591Z",
     "start_time": "2022-12-01T05:36:24.685192Z"
    },
    "execution": {
     "iopub.execute_input": "2022-12-01T03:59:37.733426Z",
     "iopub.status.busy": "2022-12-01T03:59:37.732908Z",
     "iopub.status.idle": "2022-12-01T03:59:38.793150Z",
     "shell.execute_reply": "2022-12-01T03:59:38.792297Z",
     "shell.execute_reply.started": "2022-12-01T03:59:37.733392Z"
    }
   },
   "outputs": [
    {
     "name": "stdout",
     "output_type": "stream",
     "text": [
      "root\n",
      " |-- paper_id: string (nullable = true)\n",
      " |-- cord_uid: string (nullable = true)\n",
      " |-- source_x: string (nullable = true)\n",
      " |-- publish_time: string (nullable = true)\n",
      " |-- journal: string (nullable = true)\n",
      " |-- body_text: string (nullable = false)\n",
      " |-- title: string (nullable = true)\n",
      " |-- abstract: string (nullable = true)\n",
      " |-- authors: string (nullable = true)\n",
      "\n"
     ]
    }
   ],
   "source": [
    "df = spark.read.csv(\"gs://bdp_group6_bckt_2/data/processed_data/processed_data.parquet\",\n",
    "                    inferSchema=True, header=True,\n",
    "                    multiLine=True, quote='\\\"', escape='\\\"')\n",
    "df.printSchema()"
   ]
  },
  {
   "cell_type": "code",
   "execution_count": 5,
   "metadata": {
    "ExecuteTime": {
     "end_time": "2022-12-01T05:36:38.813104Z",
     "start_time": "2022-12-01T05:36:38.789951Z"
    },
    "execution": {
     "iopub.execute_input": "2022-12-01T02:10:21.503154Z",
     "iopub.status.busy": "2022-12-01T02:10:21.502071Z",
     "iopub.status.idle": "2022-12-01T02:10:21.514546Z",
     "shell.execute_reply": "2022-12-01T02:10:21.513405Z",
     "shell.execute_reply.started": "2022-12-01T02:10:21.503114Z"
    }
   },
   "outputs": [],
   "source": [
    "eng_stopwords = stopwords.words('english')"
   ]
  },
  {
   "cell_type": "code",
   "execution_count": 6,
   "metadata": {
    "ExecuteTime": {
     "end_time": "2022-12-01T05:36:41.318743Z",
     "start_time": "2022-12-01T05:36:41.308661Z"
    },
    "execution": {
     "iopub.execute_input": "2022-12-01T03:59:47.734810Z",
     "iopub.status.busy": "2022-12-01T03:59:47.734024Z",
     "iopub.status.idle": "2022-12-01T03:59:47.750157Z",
     "shell.execute_reply": "2022-12-01T03:59:47.748860Z",
     "shell.execute_reply.started": "2022-12-01T03:59:47.734721Z"
    }
   },
   "outputs": [],
   "source": [
    "def create_pipeline(column, embedding_type):\n",
    "    documentAssembler = DocumentAssembler() \\\n",
    "         .setInputCol(column) \\\n",
    "         .setOutputCol('document')\n",
    "\n",
    "    tokenizer = Tokenizer() \\\n",
    "         .setInputCols(['document']) \\\n",
    "         .setOutputCol('token')\n",
    "\n",
    "    normalizer = Normalizer() \\\n",
    "         .setInputCols(['token']) \\\n",
    "         .setOutputCol('normalized') \\\n",
    "         .setLowercase(True)\n",
    "\n",
    "    stopwords_cleaner = StopWordsCleaner() \\\n",
    "         .setInputCols(['normalized']) \\\n",
    "         .setOutputCol('clean_normalized') \\\n",
    "         .setCaseSensitive(False) \\\n",
    "         .setStopWords(eng_stopwords)\n",
    "\n",
    "    lemmatizer = LemmatizerModel.pretrained() \\\n",
    "         .setInputCols(['clean_normalized']) \\\n",
    "         .setOutputCol('lemma')\n",
    "    \n",
    "    stopwords_cleaner2 = StopWordsCleaner() \\\n",
    "         .setInputCols(['lemma']) \\\n",
    "         .setOutputCol('clean_lemma') \\\n",
    "         .setCaseSensitive(False) \\\n",
    "         .setStopWords(eng_stopwords)\n",
    "    \n",
    "    if embedding_type == \"word2vec\":\n",
    "        embeddings = Word2VecModel.pretrained(name='word2vec_gigaword_300') \\\n",
    "             .setInputCols(\"clean_lemma\") \\\n",
    "             .setOutputCol(\"embeddings\")\n",
    "\n",
    "    elif embedding_type == \"healthcare\":\n",
    "        embeddings = BertEmbeddings.pretrained(\"bert_biolink_base\", \"en\")\\\n",
    "             .setInputCols([\"clean_lemma\", \"document\"])\\\n",
    "             .setOutputCol(\"embeddings\")\n",
    "    \n",
    "    sentence_embeddings = SentenceEmbeddings() \\\n",
    "        .setInputCols([\"document\", \"embeddings\"]) \\\n",
    "        .setOutputCol(\"sentence_embeddings\") \\\n",
    "        .setPoolingStrategy(\"AVERAGE\")\n",
    "\n",
    "    finisher = EmbeddingsFinisher() \\\n",
    "        .setInputCols([\"sentence_embeddings\"]) \\\n",
    "        .setOutputCols([\"sentence_features\"]) \\\n",
    "        .setOutputAsVector(True) \\\n",
    "        .setCleanAnnotations(False)\n",
    "\n",
    "    pipeline = Pipeline() \\\n",
    "         .setStages([\n",
    "               documentAssembler,\n",
    "               tokenizer,\n",
    "               normalizer,\n",
    "               stopwords_cleaner,\n",
    "               lemmatizer,\n",
    "               stopwords_cleaner2,\n",
    "               embeddings,\n",
    "               sentence_embeddings,\n",
    "               finisher\n",
    "         ])\n",
    "    \n",
    "    return pipeline"
   ]
  },
  {
   "cell_type": "markdown",
   "metadata": {},
   "source": [
    "### Using word2vec embeddings"
   ]
  },
  {
   "cell_type": "code",
   "execution_count": 7,
   "metadata": {
    "ExecuteTime": {
     "end_time": "2022-12-01T05:37:06.028006Z",
     "start_time": "2022-12-01T05:36:47.040447Z"
    },
    "execution": {
     "iopub.execute_input": "2022-12-01T03:59:48.758516Z",
     "iopub.status.busy": "2022-12-01T03:59:48.758051Z",
     "iopub.status.idle": "2022-12-01T03:59:55.977594Z",
     "shell.execute_reply": "2022-12-01T03:59:55.976709Z",
     "shell.execute_reply.started": "2022-12-01T03:59:48.758478Z"
    }
   },
   "outputs": [
    {
     "name": "stdout",
     "output_type": "stream",
     "text": [
      "lemma_antbnc download started this may take some time.\n",
      "Approximate size to download 907.6 KB\n",
      "[ | ]lemma_antbnc download started this may take some time.\n",
      "Approximate size to download 907.6 KB\n",
      "Download done! Loading the resource.\n",
      "[OK!]\n",
      "word2vec_gigaword_300 download started this may take some time.\n",
      "Approximate size to download 312.3 MB\n",
      "[ | ]word2vec_gigaword_300 download started this may take some time.\n",
      "Approximate size to download 312.3 MB\n",
      "Download done! Loading the resource.\n",
      "[ / ]"
     ]
    },
    {
     "name": "stderr",
     "output_type": "stream",
     "text": [
      "[Stage 5:=================================>                        (7 + 5) / 12]\r"
     ]
    },
    {
     "name": "stdout",
     "output_type": "stream",
     "text": [
      "\r",
      "[ — ]"
     ]
    },
    {
     "name": "stderr",
     "output_type": "stream",
     "text": [
      "                                                                                \r"
     ]
    },
    {
     "name": "stdout",
     "output_type": "stream",
     "text": [
      "[OK!]\n"
     ]
    }
   ],
   "source": [
    "# Using word2vec embeddings on abstract\n",
    "abstract_pipeline = create_pipeline(\"abstract\", \"word2vec\")"
   ]
  },
  {
   "cell_type": "code",
   "execution_count": 9,
   "metadata": {
    "ExecuteTime": {
     "end_time": "2022-12-01T05:37:28.189904Z",
     "start_time": "2022-12-01T05:37:25.541561Z"
    },
    "execution": {
     "iopub.execute_input": "2022-12-01T02:11:22.455834Z",
     "iopub.status.busy": "2022-12-01T02:11:22.455361Z",
     "iopub.status.idle": "2022-12-01T02:11:26.823432Z",
     "shell.execute_reply": "2022-12-01T02:11:26.822556Z",
     "shell.execute_reply.started": "2022-12-01T02:11:22.455797Z"
    }
   },
   "outputs": [
    {
     "name": "stdout",
     "output_type": "stream",
     "text": [
      "+--------+--------------------+\n",
      "|paper_id|            features|\n",
      "+--------+--------------------+\n",
      "|PMC35282|[0.02113212645053...|\n",
      "|PMC59543|[0.02166281081736...|\n",
      "|PMC59549|[0.00953531265258...|\n",
      "|PMC59574|[0.01586900092661...|\n",
      "|PMC59580|[0.01724373362958...|\n",
      "+--------+--------------------+\n",
      "only showing top 5 rows\n",
      "\n"
     ]
    },
    {
     "name": "stderr",
     "output_type": "stream",
     "text": [
      "\r",
      "[Stage 6:>                                                          (0 + 1) / 1]\r",
      "\r",
      "                                                                                \r"
     ]
    }
   ],
   "source": [
    "abstract_model = abstract_pipeline.fit(df)\n",
    "abstract_df  = abstract_model.transform(df)\n",
    "\n",
    "abstract_df = abstract_df.select(\"*\", F.explode(F.col(\"sentence_features\")).alias(\"features\"))\n",
    "abstract_df.select(\"paper_id\", \"features\").show(5)"
   ]
  },
  {
   "cell_type": "code",
   "execution_count": 18,
   "metadata": {
    "execution": {
     "iopub.execute_input": "2022-12-01T04:01:58.973650Z",
     "iopub.status.busy": "2022-12-01T04:01:58.973176Z",
     "iopub.status.idle": "2022-12-01T05:14:03.519931Z",
     "shell.execute_reply": "2022-12-01T05:14:03.517626Z",
     "shell.execute_reply.started": "2022-12-01T04:01:58.973616Z"
    }
   },
   "outputs": [
    {
     "name": "stdout",
     "output_type": "stream",
     "text": [
      "------ 2 Clusters ------\n"
     ]
    },
    {
     "name": "stderr",
     "output_type": "stream",
     "text": [
      "                                                                                \r"
     ]
    },
    {
     "name": "stdout",
     "output_type": "stream",
     "text": [
      "# Clusters: 2, Silhouette score: 0.195\n",
      "------ 3 Clusters ------\n"
     ]
    },
    {
     "name": "stderr",
     "output_type": "stream",
     "text": [
      "                                                                                \r"
     ]
    },
    {
     "name": "stdout",
     "output_type": "stream",
     "text": [
      "# Clusters: 3, Silhouette score: 0.182\n",
      "------ 4 Clusters ------\n"
     ]
    },
    {
     "name": "stderr",
     "output_type": "stream",
     "text": [
      "                                                                                \r"
     ]
    },
    {
     "name": "stdout",
     "output_type": "stream",
     "text": [
      "# Clusters: 4, Silhouette score: 0.117\n",
      "------ 5 Clusters ------\n"
     ]
    },
    {
     "name": "stderr",
     "output_type": "stream",
     "text": [
      "                                                                                \r"
     ]
    },
    {
     "name": "stdout",
     "output_type": "stream",
     "text": [
      "# Clusters: 5, Silhouette score: 0.177\n",
      "------ 6 Clusters ------\n"
     ]
    },
    {
     "name": "stderr",
     "output_type": "stream",
     "text": [
      "                                                                                \r"
     ]
    },
    {
     "name": "stdout",
     "output_type": "stream",
     "text": [
      "# Clusters: 6, Silhouette score: 0.126\n",
      "------ 7 Clusters ------\n"
     ]
    },
    {
     "name": "stderr",
     "output_type": "stream",
     "text": [
      "                                                                                \r"
     ]
    },
    {
     "name": "stdout",
     "output_type": "stream",
     "text": [
      "# Clusters: 7, Silhouette score: 0.108\n",
      "------ 8 Clusters ------\n"
     ]
    },
    {
     "name": "stderr",
     "output_type": "stream",
     "text": [
      "                                                                                \r"
     ]
    },
    {
     "name": "stdout",
     "output_type": "stream",
     "text": [
      "# Clusters: 8, Silhouette score: 0.102\n",
      "------ 9 Clusters ------\n"
     ]
    },
    {
     "name": "stderr",
     "output_type": "stream",
     "text": [
      "                                                                                \r"
     ]
    },
    {
     "name": "stdout",
     "output_type": "stream",
     "text": [
      "# Clusters: 9, Silhouette score: 0.06\n"
     ]
    }
   ],
   "source": [
    "silhouette_scores = []\n",
    "evaluator = ClusteringEvaluator(predictionCol='prediction', featuresCol='features', \\\n",
    "                                metricName='silhouette', distanceMeasure='squaredEuclidean')\n",
    "for i in range(3, 8):\n",
    "    print(f\"------ {i} Clusters ------\")\n",
    "    # Train the model\n",
    "    kmeans = KMeans().setK(i).setSeed(42)\n",
    "    model = kmeans.fit(abstract_df)\n",
    "    \n",
    "    # Make predictions\n",
    "    predictions = model.transform(abstract_df)\n",
    "    \n",
    "    # Evaluate clustering by computing Silhouette score\n",
    "    silhouette = evaluator.evaluate(predictions)\n",
    "    print(f\"Silhouette score: {round(silhouette, 3)}\")\n",
    "    silhouette_scores.append(silhouette)"
   ]
  },
  {
   "cell_type": "code",
   "execution_count": 11,
   "metadata": {
    "ExecuteTime": {
     "end_time": "2022-12-01T05:38:57.745999Z",
     "start_time": "2022-12-01T05:38:57.291450Z"
    },
    "execution": {
     "iopub.execute_input": "2022-12-01T00:26:07.317575Z",
     "iopub.status.busy": "2022-12-01T00:26:07.316905Z",
     "iopub.status.idle": "2022-12-01T00:26:07.657458Z",
     "shell.execute_reply": "2022-12-01T00:26:07.656195Z",
     "shell.execute_reply.started": "2022-12-01T00:26:07.317513Z"
    }
   },
   "outputs": [
    {
     "data": {
      "image/png": "[encoded data removed]",
      "text/plain": [
       "<Figure size 800x600 with 1 Axes>"
      ]
     },
     "metadata": {},
     "output_type": "display_data"
    }
   ],
   "source": [
    "plt.figure(figsize=(8, 6))\n",
    "\n",
    "sns.lineplot(x=list(range(2, 10)), y=silhouette_scores)\n",
    "\n",
    "plt.xlabel(\"Number of Clusters\")\n",
    "plt.ylabel(\"Silhouette Score\")\n",
    "plt.title(\"Word2Vec Gigaword 5th Edition - 300 dimensions\")\n",
    "\n",
    "plt.show()"
   ]
  },
  {
   "cell_type": "markdown",
   "metadata": {},
   "source": [
    "### Using Biolink BERT base embeddings"
   ]
  },
  {
   "cell_type": "code",
   "execution_count": 12,
   "metadata": {
    "ExecuteTime": {
     "end_time": "2022-12-01T05:40:01.147590Z",
     "start_time": "2022-12-01T05:39:42.089126Z"
    },
    "execution": {
     "iopub.execute_input": "2022-12-01T04:00:15.428331Z",
     "iopub.status.busy": "2022-12-01T04:00:15.427949Z",
     "iopub.status.idle": "2022-12-01T04:01:03.919087Z",
     "shell.execute_reply": "2022-12-01T04:01:03.918224Z",
     "shell.execute_reply.started": "2022-12-01T04:00:15.428300Z"
    },
    "scrolled": false
   },
   "outputs": [
    {
     "name": "stdout",
     "output_type": "stream",
     "text": [
      "lemma_antbnc download started this may take some time.\n",
      "Approximate size to download 907.6 KB\n",
      "[OK!]\n",
      "bert_biolink_base download started this may take some time.\n",
      "Approximate size to download 387.5 MB\n",
      "[ | ]bert_biolink_base download started this may take some time.\n",
      "Approximate size to download 387.5 MB\n",
      "Download done! Loading the resource.\n",
      "[ \\ ]"
     ]
    },
    {
     "name": "stdout",
     "output_type": "stream",
     "text": [
      "\r",
      "[ | ]"
     ]
    },
    {
     "name": "stdout",
     "output_type": "stream",
     "text": [
      "[OK!]\n"
     ]
    }
   ],
   "source": [
    "# Use healtcare embeddings on abstract\n",
    "abstract_pipeline_hc = create_pipeline(\"abstract\", \"healthcare\")\n",
    "\n",
    "abstract_model_hc = abstract_pipeline_hc.fit(df)\n",
    "abstract_df_hc  = abstract_model_hc.transform(df)\n",
    "\n",
    "abstract_df_hc = abstract_df_hc.select(\"*\", F.explode(\n",
    "                                                         F.col(\"sentence_features\")\n",
    "                                                     ).alias(\"features\"))\n",
    "abstract_df_hc.select(\"paper_id\", \"features\").show(5)"
   ]
  },
  {
   "cell_type": "code",
   "execution_count": 13,
   "metadata": {
    "ExecuteTime": {
     "end_time": "2022-12-01T05:41:10.116775Z",
     "start_time": "2022-12-01T05:41:09.853303Z"
    },
    "scrolled": true
   },
   "outputs": [
    {
     "name": "stdout",
     "output_type": "stream",
     "text": [
      "------ 2 Clusters ------\n"
     ]
    },
    {
     "name": "stdout",
     "output_type": "stream",
     "text": [
      "# Clusters: 2, Silhouette score: 0.102\n",
      "------ 3 Clusters ------\n"
     ]
    },
    {
     "name": "stdout",
     "output_type": "stream",
     "text": [
      "# Clusters: 3, Silhouette score: 0.03\n",
      "------ 4 Clusters ------\n"
     ]
    },
    {
     "name": "stdout",
     "output_type": "stream",
     "text": [
      "# Clusters: 4, Silhouette score: 0.13\n",
      "------ 5 Clusters ------\n"
     ]
    },
    {
     "name": "stdout",
     "output_type": "stream",
     "text": [
      "# Clusters: 5, Silhouette score: 0.277\n",
      "------ 6 Clusters ------\n"
     ]
    },
    {
     "name": "stdout",
     "output_type": "stream",
     "text": [
      "# Clusters: 6, Silhouette score: 0.137\n",
      "------ 7 Clusters ------\n"
     ]
    },
    {
     "name": "stdout",
     "output_type": "stream",
     "text": [
      "# Clusters: 7, Silhouette score: 0.09\n",
      "------ 8 Clusters ------\n"
     ]
    },
    {
     "name": "stdout",
     "output_type": "stream",
     "text": [
      "# Clusters: 8, Silhouette score: 0.08\n",
      "------ 9 Clusters ------\n"
     ]
    },
    {
     "name": "stderr",
     "output_type": "stream",
     "text": [
      "                                                                                \r"
     ]
    },
    {
     "name": "stdout",
     "output_type": "stream",
     "text": [
      "# Clusters: 9, Silhouette score: 0.025\n"
     ]
    }
   ],
   "source": [
    "silhouette_scores_hc = []\n",
    "evaluator = ClusteringEvaluator(predictionCol='prediction', featuresCol='features', \\\n",
    "                                metricName='silhouette', distanceMeasure='squaredEuclidean')\n",
    "for i in range(2, 10):\n",
    "    print(f\"------ {i} Clusters ------\")\n",
    "    # Train the model\n",
    "    kmeans = KMeans().setK(i).setSeed(42)\n",
    "    model = kmeans.fit(abstract_df_hc)\n",
    "    \n",
    "    # Make predictions\n",
    "    predictions = model.transform(abstract_df_hc)\n",
    "    \n",
    "    # Evaluate clustering by computing Silhouette score\n",
    "    silhouette = evaluator.evaluate(predictions)\n",
    "    print(f\"# Clusters: {i}, Silhouette score: {round(silhouette, 3)}\")\n",
    "    silhouette_scores_hc.append(silhouette)"
   ]
  },
  {
   "cell_type": "code",
   "execution_count": 17,
   "metadata": {
    "ExecuteTime": {
     "end_time": "2022-12-01T05:43:10.372949Z",
     "start_time": "2022-12-01T05:43:10.140236Z"
    }
   },
   "outputs": [
    {
     "data": {
      "image/png": "[encoded data removed]",
      "text/plain": [
       "<Figure size 800x600 with 1 Axes>"
      ]
     },
     "metadata": {},
     "output_type": "display_data"
    }
   ],
   "source": [
    "plt.figure(figsize=(8, 6))\n",
    "\n",
    "sns.lineplot(x=list(range(2, 10)), y=silhouette_scores_hc)\n",
    "\n",
    "plt.xlabel(\"Number of Clusters\")\n",
    "plt.ylabel(\"Silhouette Score\")\n",
    "plt.title(\"BERT Base Biolink Embeddings\")\n",
    "\n",
    "plt.show()"
   ]
  },
  {
   "cell_type": "code",
   "execution_count": null,
   "metadata": {},
   "outputs": [],
   "source": []
  },
  {
   "cell_type": "code",
   "execution_count": null,
   "metadata": {},
   "outputs": [],
   "source": []
  }
 ],
 "metadata": {
  "kernelspec": {
   "display_name": "Python 3 (ipykernel)",
   "language": "python",
   "name": "python3"
  },
  "language_info": {
   "codemirror_mode": {
    "name": "ipython",
    "version": 3
   },
   "file_extension": ".py",
   "mimetype": "text/x-python",
   "name": "python",
   "nbconvert_exporter": "python",
   "pygments_lexer": "ipython3",
   "version": "3.9.13"
  },
  "varInspector": {
   "cols": {
    "lenName": 16,
    "lenType": 16,
    "lenVar": 40
   },
   "kernels_config": {
    "python": {
     "delete_cmd_postfix": "",
     "delete_cmd_prefix": "del ",
     "library": "var_list.py",
     "varRefreshCmd": "print(var_dic_list())"
    },
    "r": {
     "delete_cmd_postfix": ") ",
     "delete_cmd_prefix": "rm(",
     "library": "var_list.r",
     "varRefreshCmd": "cat(var_dic_list()) "
    }
   },
   "types_to_exclude": [
    "module",
    "function",
    "builtin_function_or_method",
    "instance",
    "_Feature"
   ],
   "window_display": false
  }
 },
 "nbformat": 4,
 "nbformat_minor": 4
}
