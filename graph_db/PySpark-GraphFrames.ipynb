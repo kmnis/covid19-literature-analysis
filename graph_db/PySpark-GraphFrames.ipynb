{
 "cells": [
  {
   "cell_type": "code",
   "execution_count": 1,
   "metadata": {},
   "outputs": [],
   "source": [
    "from pyspark.sql import SparkSession\n",
    "from pyspark.sql import functions as F\n",
    "from pyspark.sql.types import *\n",
    "import matplotlib.pyplot as plt\n",
    "from pyspark.sql.functions import udf\n",
    "from pyspark.ml.feature import StopWordsRemover\n",
    "from graphframes import *\n",
    "%matplotlib inline"
   ]
  },
  {
   "cell_type": "code",
   "execution_count": 2,
   "metadata": {},
   "outputs": [],
   "source": [
    "import networkx as nx\n",
    "import matplotlib.pyplot as plt\n",
    "from tqdm import tqdm"
   ]
  },
  {
   "cell_type": "code",
   "execution_count": 3,
   "metadata": {},
   "outputs": [],
   "source": [
    "%%capture\n",
    "spark = SparkSession.builder.enableHiveSupport().appName('FinalProject_graph').getOrCreate()\n",
    "sc = spark.sparkContext\n",
    "spark.conf.set(\"spark.sql.repl.eagerEval.enabled\",True)"
   ]
  },
  {
   "cell_type": "code",
   "execution_count": 4,
   "metadata": {},
   "outputs": [],
   "source": [
    "df = spark.read.csv(\"gs://bdp_group6_bckt_2/data/processed_data/processed_data.parquet\",\n",
    "                    inferSchema=True, header=True)"
   ]
  },
  {
   "cell_type": "code",
   "execution_count": 5,
   "metadata": {},
   "outputs": [
    {
     "name": "stdout",
     "output_type": "stream",
     "text": [
      "root\n",
      " |-- paper_id: string (nullable = true)\n",
      " |-- cord_uid: string (nullable = true)\n",
      " |-- source_x: string (nullable = true)\n",
      " |-- doi: string (nullable = true)\n",
      " |-- pmcid: string (nullable = true)\n",
      " |-- pubmed_id: string (nullable = true)\n",
      " |-- publish_time: string (nullable = true)\n",
      " |-- journal: string (nullable = true)\n",
      " |-- arxiv_id: double (nullable = true)\n",
      " |-- pdf_json_files: string (nullable = true)\n",
      " |-- pmc_json_files: string (nullable = true)\n",
      " |-- title: string (nullable = true)\n",
      " |-- abstract: string (nullable = true)\n",
      " |-- authors: string (nullable = true)\n",
      "\n"
     ]
    }
   ],
   "source": [
    "df.printSchema()"
   ]
  },
  {
   "cell_type": "code",
   "execution_count": 7,
   "metadata": {},
   "outputs": [],
   "source": [
    "from pyspark.sql.functions import split, col,lit\n",
    "df3 = df.select(split(col(\"authors\"),\"; \").alias(\"authors_distinct\"),col(\"journal\"),col('paper_id'))\n",
    "df3 = df3.select(\"*\", F.explode(\"authors_distinct\").alias(\"author\"))\n",
    "#df3_explore = df3.groupBy(\"source\").count().orderBy(\"count\", ascending=False).toPandas()\n",
    "#df3_explore = df3_explore.head(5)"
   ]
  },
  {
   "cell_type": "code",
   "execution_count": 9,
   "metadata": {},
   "outputs": [
    {
     "data": {
      "text/html": [
       "<table border='1'>\n",
       "<tr><th>journal</th><th>paper_id</th><th>authors</th></tr>\n",
       "<tr><td>JCO Oncol Pract</td><td>PMC8202122</td><td>patt debra a</td></tr>\n",
       "<tr><td>JCO Oncol Pract</td><td>PMC8202122</td><td>wilfong lalan</td></tr>\n",
       "<tr><td>JCO Oncol Pract</td><td>PMC8202122</td><td>toth sara</td></tr>\n",
       "<tr><td>JCO Oncol Pract</td><td>PMC8202122</td><td>broussard stephanie</td></tr>\n",
       "<tr><td>JCO Oncol Pract</td><td>PMC8202122</td><td>kanipe kristen</td></tr>\n",
       "<tr><td>JCO Oncol Pract</td><td>PMC8202122</td><td>hammonds jason</td></tr>\n",
       "<tr><td>JCO Oncol Pract</td><td>PMC8202122</td><td>allen victoria</td></tr>\n",
       "<tr><td>JCO Oncol Pract</td><td>PMC8202122</td><td>mautner beatrice</td></tr>\n",
       "<tr><td>JCO Oncol Pract</td><td>PMC8202122</td><td>campbell nakedra</td></tr>\n",
       "<tr><td>JCO Oncol Pract</td><td>PMC8202122</td><td>dubey ajay k</td></tr>\n",
       "<tr><td>JCO Oncol Pract</td><td>PMC8202122</td><td>wu nini</td></tr>\n",
       "<tr><td>JCO Oncol Pract</td><td>PMC8202122</td><td>neubauer marcus</td></tr>\n",
       "<tr><td>JCO Oncol Pract</td><td>PMC8202122</td><td>jones ben s</td></tr>\n",
       "<tr><td>JCO Oncol Pract</td><td>PMC8202122</td><td>paulson r steven</td></tr>\n",
       "<tr><td>Jornal vascular b...</td><td>PMC8210641</td><td>cunha marcela jul...</td></tr>\n",
       "<tr><td>Jornal vascular b...</td><td>PMC8210641</td><td>pinto carlos augu...</td></tr>\n",
       "<tr><td>Jornal vascular b...</td><td>PMC8210641</td><td>guerra joo carlos...</td></tr>\n",
       "<tr><td>Jornal vascular b...</td><td>PMC8210641</td><td>tachibana adriano</td></tr>\n",
       "<tr><td>Jornal vascular b...</td><td>PMC8210641</td><td>portugal maria fe...</td></tr>\n",
       "<tr><td>Jornal vascular b...</td><td>PMC8210641</td><td>ferraz leonardo j...</td></tr>\n",
       "</table>\n",
       "only showing top 20 rows\n"
      ],
      "text/plain": [
       "+--------------------+----------+--------------------+\n",
       "|             journal|  paper_id|             authors|\n",
       "+--------------------+----------+--------------------+\n",
       "|     JCO Oncol Pract|PMC8202122|        patt debra a|\n",
       "|     JCO Oncol Pract|PMC8202122|       wilfong lalan|\n",
       "|     JCO Oncol Pract|PMC8202122|           toth sara|\n",
       "|     JCO Oncol Pract|PMC8202122| broussard stephanie|\n",
       "|     JCO Oncol Pract|PMC8202122|      kanipe kristen|\n",
       "|     JCO Oncol Pract|PMC8202122|      hammonds jason|\n",
       "|     JCO Oncol Pract|PMC8202122|      allen victoria|\n",
       "|     JCO Oncol Pract|PMC8202122|    mautner beatrice|\n",
       "|     JCO Oncol Pract|PMC8202122|    campbell nakedra|\n",
       "|     JCO Oncol Pract|PMC8202122|        dubey ajay k|\n",
       "|     JCO Oncol Pract|PMC8202122|             wu nini|\n",
       "|     JCO Oncol Pract|PMC8202122|     neubauer marcus|\n",
       "|     JCO Oncol Pract|PMC8202122|         jones ben s|\n",
       "|     JCO Oncol Pract|PMC8202122|    paulson r steven|\n",
       "|Jornal vascular b...|PMC8210641|cunha marcela jul...|\n",
       "|Jornal vascular b...|PMC8210641|pinto carlos augu...|\n",
       "|Jornal vascular b...|PMC8210641|guerra joo carlos...|\n",
       "|Jornal vascular b...|PMC8210641|   tachibana adriano|\n",
       "|Jornal vascular b...|PMC8210641|portugal maria fe...|\n",
       "|Jornal vascular b...|PMC8210641|ferraz leonardo j...|\n",
       "+--------------------+----------+--------------------+\n",
       "only showing top 20 rows"
      ]
     },
     "execution_count": 9,
     "metadata": {},
     "output_type": "execute_result"
    }
   ],
   "source": [
    "from pyspark.sql.functions import udf, col, lower, regexp_replace,expr\n",
    "user12 = df3.select('journal','paper_id', (lower(regexp_replace('author', \"[^a-zA-Z\\\\s]\", \"\")).alias('authors')))\n",
    "user12"
   ]
  },
  {
   "cell_type": "code",
   "execution_count": 11,
   "metadata": {},
   "outputs": [],
   "source": [
    "user12 = user12.withColumn('concat_author', regexp_replace('authors', ' ', '_'))"
   ]
  },
  {
   "cell_type": "code",
   "execution_count": 12,
   "metadata": {},
   "outputs": [
    {
     "data": {
      "text/html": [
       "<table border='1'>\n",
       "<tr><th>journal</th><th>paper_id</th><th>authors</th><th>concat_author</th></tr>\n",
       "<tr><td>JCO Oncol Pract</td><td>PMC8202122</td><td>patt debra a</td><td>patt_debra_a</td></tr>\n",
       "<tr><td>JCO Oncol Pract</td><td>PMC8202122</td><td>wilfong lalan</td><td>wilfong_lalan</td></tr>\n",
       "<tr><td>JCO Oncol Pract</td><td>PMC8202122</td><td>toth sara</td><td>toth_sara</td></tr>\n",
       "<tr><td>JCO Oncol Pract</td><td>PMC8202122</td><td>broussard stephanie</td><td>broussard_stephanie</td></tr>\n",
       "<tr><td>JCO Oncol Pract</td><td>PMC8202122</td><td>kanipe kristen</td><td>kanipe_kristen</td></tr>\n",
       "<tr><td>JCO Oncol Pract</td><td>PMC8202122</td><td>hammonds jason</td><td>hammonds_jason</td></tr>\n",
       "<tr><td>JCO Oncol Pract</td><td>PMC8202122</td><td>allen victoria</td><td>allen_victoria</td></tr>\n",
       "<tr><td>JCO Oncol Pract</td><td>PMC8202122</td><td>mautner beatrice</td><td>mautner_beatrice</td></tr>\n",
       "<tr><td>JCO Oncol Pract</td><td>PMC8202122</td><td>campbell nakedra</td><td>campbell_nakedra</td></tr>\n",
       "<tr><td>JCO Oncol Pract</td><td>PMC8202122</td><td>dubey ajay k</td><td>dubey_ajay_k</td></tr>\n",
       "<tr><td>JCO Oncol Pract</td><td>PMC8202122</td><td>wu nini</td><td>wu_nini</td></tr>\n",
       "<tr><td>JCO Oncol Pract</td><td>PMC8202122</td><td>neubauer marcus</td><td>neubauer_marcus</td></tr>\n",
       "<tr><td>JCO Oncol Pract</td><td>PMC8202122</td><td>jones ben s</td><td>jones_ben_s</td></tr>\n",
       "<tr><td>JCO Oncol Pract</td><td>PMC8202122</td><td>paulson r steven</td><td>paulson_r_steven</td></tr>\n",
       "<tr><td>Jornal vascular b...</td><td>PMC8210641</td><td>cunha marcela jul...</td><td>cunha_marcela_jul...</td></tr>\n",
       "<tr><td>Jornal vascular b...</td><td>PMC8210641</td><td>pinto carlos augu...</td><td>pinto_carlos_augu...</td></tr>\n",
       "<tr><td>Jornal vascular b...</td><td>PMC8210641</td><td>guerra joo carlos...</td><td>guerra_joo_carlos...</td></tr>\n",
       "<tr><td>Jornal vascular b...</td><td>PMC8210641</td><td>tachibana adriano</td><td>tachibana_adriano</td></tr>\n",
       "<tr><td>Jornal vascular b...</td><td>PMC8210641</td><td>portugal maria fe...</td><td>portugal_maria_fe...</td></tr>\n",
       "<tr><td>Jornal vascular b...</td><td>PMC8210641</td><td>ferraz leonardo j...</td><td>ferraz_leonardo_j...</td></tr>\n",
       "</table>\n",
       "only showing top 20 rows\n"
      ],
      "text/plain": [
       "+--------------------+----------+--------------------+--------------------+\n",
       "|             journal|  paper_id|             authors|       concat_author|\n",
       "+--------------------+----------+--------------------+--------------------+\n",
       "|     JCO Oncol Pract|PMC8202122|        patt debra a|        patt_debra_a|\n",
       "|     JCO Oncol Pract|PMC8202122|       wilfong lalan|       wilfong_lalan|\n",
       "|     JCO Oncol Pract|PMC8202122|           toth sara|           toth_sara|\n",
       "|     JCO Oncol Pract|PMC8202122| broussard stephanie| broussard_stephanie|\n",
       "|     JCO Oncol Pract|PMC8202122|      kanipe kristen|      kanipe_kristen|\n",
       "|     JCO Oncol Pract|PMC8202122|      hammonds jason|      hammonds_jason|\n",
       "|     JCO Oncol Pract|PMC8202122|      allen victoria|      allen_victoria|\n",
       "|     JCO Oncol Pract|PMC8202122|    mautner beatrice|    mautner_beatrice|\n",
       "|     JCO Oncol Pract|PMC8202122|    campbell nakedra|    campbell_nakedra|\n",
       "|     JCO Oncol Pract|PMC8202122|        dubey ajay k|        dubey_ajay_k|\n",
       "|     JCO Oncol Pract|PMC8202122|             wu nini|             wu_nini|\n",
       "|     JCO Oncol Pract|PMC8202122|     neubauer marcus|     neubauer_marcus|\n",
       "|     JCO Oncol Pract|PMC8202122|         jones ben s|         jones_ben_s|\n",
       "|     JCO Oncol Pract|PMC8202122|    paulson r steven|    paulson_r_steven|\n",
       "|Jornal vascular b...|PMC8210641|cunha marcela jul...|cunha_marcela_jul...|\n",
       "|Jornal vascular b...|PMC8210641|pinto carlos augu...|pinto_carlos_augu...|\n",
       "|Jornal vascular b...|PMC8210641|guerra joo carlos...|guerra_joo_carlos...|\n",
       "|Jornal vascular b...|PMC8210641|   tachibana adriano|   tachibana_adriano|\n",
       "|Jornal vascular b...|PMC8210641|portugal maria fe...|portugal_maria_fe...|\n",
       "|Jornal vascular b...|PMC8210641|ferraz leonardo j...|ferraz_leonardo_j...|\n",
       "+--------------------+----------+--------------------+--------------------+\n",
       "only showing top 20 rows"
      ]
     },
     "execution_count": 12,
     "metadata": {},
     "output_type": "execute_result"
    }
   ],
   "source": [
    "user12"
   ]
  },
  {
   "cell_type": "code",
   "execution_count": 13,
   "metadata": {},
   "outputs": [
    {
     "data": {
      "text/html": [
       "<table border='1'>\n",
       "<tr><th>journal</th><th>paper_id</th><th>relationship</th></tr>\n",
       "<tr><td>JCO Oncol Pract</td><td>PMC8202122</td><td>belongs_to</td></tr>\n",
       "<tr><td>JCO Oncol Pract</td><td>PMC8202122</td><td>belongs_to</td></tr>\n",
       "<tr><td>JCO Oncol Pract</td><td>PMC8202122</td><td>belongs_to</td></tr>\n",
       "<tr><td>JCO Oncol Pract</td><td>PMC8202122</td><td>belongs_to</td></tr>\n",
       "<tr><td>JCO Oncol Pract</td><td>PMC8202122</td><td>belongs_to</td></tr>\n",
       "<tr><td>JCO Oncol Pract</td><td>PMC8202122</td><td>belongs_to</td></tr>\n",
       "<tr><td>JCO Oncol Pract</td><td>PMC8202122</td><td>belongs_to</td></tr>\n",
       "<tr><td>JCO Oncol Pract</td><td>PMC8202122</td><td>belongs_to</td></tr>\n",
       "<tr><td>JCO Oncol Pract</td><td>PMC8202122</td><td>belongs_to</td></tr>\n",
       "<tr><td>JCO Oncol Pract</td><td>PMC8202122</td><td>belongs_to</td></tr>\n",
       "<tr><td>JCO Oncol Pract</td><td>PMC8202122</td><td>belongs_to</td></tr>\n",
       "<tr><td>JCO Oncol Pract</td><td>PMC8202122</td><td>belongs_to</td></tr>\n",
       "<tr><td>JCO Oncol Pract</td><td>PMC8202122</td><td>belongs_to</td></tr>\n",
       "<tr><td>JCO Oncol Pract</td><td>PMC8202122</td><td>belongs_to</td></tr>\n",
       "<tr><td>Jornal vascular b...</td><td>PMC8210641</td><td>belongs_to</td></tr>\n",
       "<tr><td>Jornal vascular b...</td><td>PMC8210641</td><td>belongs_to</td></tr>\n",
       "<tr><td>Jornal vascular b...</td><td>PMC8210641</td><td>belongs_to</td></tr>\n",
       "<tr><td>Jornal vascular b...</td><td>PMC8210641</td><td>belongs_to</td></tr>\n",
       "<tr><td>Jornal vascular b...</td><td>PMC8210641</td><td>belongs_to</td></tr>\n",
       "<tr><td>Jornal vascular b...</td><td>PMC8210641</td><td>belongs_to</td></tr>\n",
       "</table>\n",
       "only showing top 20 rows\n"
      ],
      "text/plain": [
       "+--------------------+----------+------------+\n",
       "|             journal|  paper_id|relationship|\n",
       "+--------------------+----------+------------+\n",
       "|     JCO Oncol Pract|PMC8202122|  belongs_to|\n",
       "|     JCO Oncol Pract|PMC8202122|  belongs_to|\n",
       "|     JCO Oncol Pract|PMC8202122|  belongs_to|\n",
       "|     JCO Oncol Pract|PMC8202122|  belongs_to|\n",
       "|     JCO Oncol Pract|PMC8202122|  belongs_to|\n",
       "|     JCO Oncol Pract|PMC8202122|  belongs_to|\n",
       "|     JCO Oncol Pract|PMC8202122|  belongs_to|\n",
       "|     JCO Oncol Pract|PMC8202122|  belongs_to|\n",
       "|     JCO Oncol Pract|PMC8202122|  belongs_to|\n",
       "|     JCO Oncol Pract|PMC8202122|  belongs_to|\n",
       "|     JCO Oncol Pract|PMC8202122|  belongs_to|\n",
       "|     JCO Oncol Pract|PMC8202122|  belongs_to|\n",
       "|     JCO Oncol Pract|PMC8202122|  belongs_to|\n",
       "|     JCO Oncol Pract|PMC8202122|  belongs_to|\n",
       "|Jornal vascular b...|PMC8210641|  belongs_to|\n",
       "|Jornal vascular b...|PMC8210641|  belongs_to|\n",
       "|Jornal vascular b...|PMC8210641|  belongs_to|\n",
       "|Jornal vascular b...|PMC8210641|  belongs_to|\n",
       "|Jornal vascular b...|PMC8210641|  belongs_to|\n",
       "|Jornal vascular b...|PMC8210641|  belongs_to|\n",
       "+--------------------+----------+------------+\n",
       "only showing top 20 rows"
      ]
     },
     "execution_count": 13,
     "metadata": {},
     "output_type": "execute_result"
    }
   ],
   "source": [
    "journal = user12.select('journal','paper_id')\n",
    "journal = journal.withColumn(\"relationship\", lit(\"belongs_to\"))\n",
    "journal"
   ]
  },
  {
   "cell_type": "code",
   "execution_count": 40,
   "metadata": {},
   "outputs": [
    {
     "data": {
      "text/html": [
       "<table border='1'>\n",
       "<tr><th>concat_author</th><th>paper_id</th><th>relationship</th></tr>\n",
       "<tr><td>patt_debra_a</td><td>PMC8202122</td><td>published</td></tr>\n",
       "<tr><td>wilfong_lalan</td><td>PMC8202122</td><td>published</td></tr>\n",
       "<tr><td>toth_sara</td><td>PMC8202122</td><td>published</td></tr>\n",
       "<tr><td>broussard_stephanie</td><td>PMC8202122</td><td>published</td></tr>\n",
       "<tr><td>kanipe_kristen</td><td>PMC8202122</td><td>published</td></tr>\n",
       "<tr><td>hammonds_jason</td><td>PMC8202122</td><td>published</td></tr>\n",
       "<tr><td>allen_victoria</td><td>PMC8202122</td><td>published</td></tr>\n",
       "<tr><td>mautner_beatrice</td><td>PMC8202122</td><td>published</td></tr>\n",
       "<tr><td>campbell_nakedra</td><td>PMC8202122</td><td>published</td></tr>\n",
       "<tr><td>dubey_ajay_k</td><td>PMC8202122</td><td>published</td></tr>\n",
       "<tr><td>wu_nini</td><td>PMC8202122</td><td>published</td></tr>\n",
       "<tr><td>neubauer_marcus</td><td>PMC8202122</td><td>published</td></tr>\n",
       "<tr><td>jones_ben_s</td><td>PMC8202122</td><td>published</td></tr>\n",
       "<tr><td>paulson_r_steven</td><td>PMC8202122</td><td>published</td></tr>\n",
       "<tr><td>cunha_marcela_jul...</td><td>PMC8210641</td><td>published</td></tr>\n",
       "<tr><td>pinto_carlos_augu...</td><td>PMC8210641</td><td>published</td></tr>\n",
       "<tr><td>guerra_joo_carlos...</td><td>PMC8210641</td><td>published</td></tr>\n",
       "<tr><td>tachibana_adriano</td><td>PMC8210641</td><td>published</td></tr>\n",
       "<tr><td>portugal_maria_fe...</td><td>PMC8210641</td><td>published</td></tr>\n",
       "<tr><td>ferraz_leonardo_j...</td><td>PMC8210641</td><td>published</td></tr>\n",
       "</table>\n",
       "only showing top 20 rows\n"
      ],
      "text/plain": [
       "+--------------------+----------+------------+\n",
       "|       concat_author|  paper_id|relationship|\n",
       "+--------------------+----------+------------+\n",
       "|        patt_debra_a|PMC8202122|   published|\n",
       "|       wilfong_lalan|PMC8202122|   published|\n",
       "|           toth_sara|PMC8202122|   published|\n",
       "| broussard_stephanie|PMC8202122|   published|\n",
       "|      kanipe_kristen|PMC8202122|   published|\n",
       "|      hammonds_jason|PMC8202122|   published|\n",
       "|      allen_victoria|PMC8202122|   published|\n",
       "|    mautner_beatrice|PMC8202122|   published|\n",
       "|    campbell_nakedra|PMC8202122|   published|\n",
       "|        dubey_ajay_k|PMC8202122|   published|\n",
       "|             wu_nini|PMC8202122|   published|\n",
       "|     neubauer_marcus|PMC8202122|   published|\n",
       "|         jones_ben_s|PMC8202122|   published|\n",
       "|    paulson_r_steven|PMC8202122|   published|\n",
       "|cunha_marcela_jul...|PMC8210641|   published|\n",
       "|pinto_carlos_augu...|PMC8210641|   published|\n",
       "|guerra_joo_carlos...|PMC8210641|   published|\n",
       "|   tachibana_adriano|PMC8210641|   published|\n",
       "|portugal_maria_fe...|PMC8210641|   published|\n",
       "|ferraz_leonardo_j...|PMC8210641|   published|\n",
       "+--------------------+----------+------------+\n",
       "only showing top 20 rows"
      ]
     },
     "execution_count": 40,
     "metadata": {},
     "output_type": "execute_result"
    }
   ],
   "source": [
    "authors2 = user12.select('concat_author','paper_id')\n",
    "authors2 = authors2.withColumn(\"relationship\", lit(\"published\"))\n",
    "authors2"
   ]
  },
  {
   "cell_type": "code",
   "execution_count": 24,
   "metadata": {},
   "outputs": [],
   "source": [
    "user1 = user12.drop('authors')"
   ]
  },
  {
   "cell_type": "code",
   "execution_count": 25,
   "metadata": {},
   "outputs": [],
   "source": [
    "user1 = user1.drop('paper_id')"
   ]
  },
  {
   "cell_type": "code",
   "execution_count": 26,
   "metadata": {},
   "outputs": [],
   "source": [
    "user1 = user1.withColumn(\"type\", lit(\"author\"))"
   ]
  },
  {
   "cell_type": "code",
   "execution_count": 27,
   "metadata": {},
   "outputs": [],
   "source": [
    "user1 = user1.drop('journal')"
   ]
  },
  {
   "cell_type": "code",
   "execution_count": 28,
   "metadata": {},
   "outputs": [
    {
     "data": {
      "text/html": [
       "<table border='1'>\n",
       "<tr><th>concat_author</th><th>type</th></tr>\n",
       "<tr><td>patt_debra_a</td><td>author</td></tr>\n",
       "<tr><td>wilfong_lalan</td><td>author</td></tr>\n",
       "<tr><td>toth_sara</td><td>author</td></tr>\n",
       "<tr><td>broussard_stephanie</td><td>author</td></tr>\n",
       "<tr><td>kanipe_kristen</td><td>author</td></tr>\n",
       "<tr><td>hammonds_jason</td><td>author</td></tr>\n",
       "<tr><td>allen_victoria</td><td>author</td></tr>\n",
       "<tr><td>mautner_beatrice</td><td>author</td></tr>\n",
       "<tr><td>campbell_nakedra</td><td>author</td></tr>\n",
       "<tr><td>dubey_ajay_k</td><td>author</td></tr>\n",
       "<tr><td>wu_nini</td><td>author</td></tr>\n",
       "<tr><td>neubauer_marcus</td><td>author</td></tr>\n",
       "<tr><td>jones_ben_s</td><td>author</td></tr>\n",
       "<tr><td>paulson_r_steven</td><td>author</td></tr>\n",
       "<tr><td>cunha_marcela_jul...</td><td>author</td></tr>\n",
       "<tr><td>pinto_carlos_augu...</td><td>author</td></tr>\n",
       "<tr><td>guerra_joo_carlos...</td><td>author</td></tr>\n",
       "<tr><td>tachibana_adriano</td><td>author</td></tr>\n",
       "<tr><td>portugal_maria_fe...</td><td>author</td></tr>\n",
       "<tr><td>ferraz_leonardo_j...</td><td>author</td></tr>\n",
       "</table>\n",
       "only showing top 20 rows\n"
      ],
      "text/plain": [
       "+--------------------+------+\n",
       "|       concat_author|  type|\n",
       "+--------------------+------+\n",
       "|        patt_debra_a|author|\n",
       "|       wilfong_lalan|author|\n",
       "|           toth_sara|author|\n",
       "| broussard_stephanie|author|\n",
       "|      kanipe_kristen|author|\n",
       "|      hammonds_jason|author|\n",
       "|      allen_victoria|author|\n",
       "|    mautner_beatrice|author|\n",
       "|    campbell_nakedra|author|\n",
       "|        dubey_ajay_k|author|\n",
       "|             wu_nini|author|\n",
       "|     neubauer_marcus|author|\n",
       "|         jones_ben_s|author|\n",
       "|    paulson_r_steven|author|\n",
       "|cunha_marcela_jul...|author|\n",
       "|pinto_carlos_augu...|author|\n",
       "|guerra_joo_carlos...|author|\n",
       "|   tachibana_adriano|author|\n",
       "|portugal_maria_fe...|author|\n",
       "|ferraz_leonardo_j...|author|\n",
       "+--------------------+------+\n",
       "only showing top 20 rows"
      ]
     },
     "execution_count": 28,
     "metadata": {},
     "output_type": "execute_result"
    }
   ],
   "source": [
    "user1\n"
   ]
  },
  {
   "cell_type": "code",
   "execution_count": 29,
   "metadata": {},
   "outputs": [],
   "source": [
    "user2 = df3.select('paper_id')\n",
    "user2 = user2.withColumn(\"type\", lit(\"paper\"))\n",
    "user3 = df3.select('journal')\n",
    "user3 = user3.withColumn(\"type\", lit(\"journal\"))"
   ]
  },
  {
   "cell_type": "code",
   "execution_count": 30,
   "metadata": {
    "scrolled": false
   },
   "outputs": [
    {
     "data": {
      "text/html": [
       "<table border='1'>\n",
       "<tr><th>paper_id</th><th>type</th></tr>\n",
       "<tr><td>PMC8202122</td><td>paper</td></tr>\n",
       "<tr><td>PMC8202122</td><td>paper</td></tr>\n",
       "<tr><td>PMC8202122</td><td>paper</td></tr>\n",
       "<tr><td>PMC8202122</td><td>paper</td></tr>\n",
       "<tr><td>PMC8202122</td><td>paper</td></tr>\n",
       "<tr><td>PMC8202122</td><td>paper</td></tr>\n",
       "<tr><td>PMC8202122</td><td>paper</td></tr>\n",
       "<tr><td>PMC8202122</td><td>paper</td></tr>\n",
       "<tr><td>PMC8202122</td><td>paper</td></tr>\n",
       "<tr><td>PMC8202122</td><td>paper</td></tr>\n",
       "<tr><td>PMC8202122</td><td>paper</td></tr>\n",
       "<tr><td>PMC8202122</td><td>paper</td></tr>\n",
       "<tr><td>PMC8202122</td><td>paper</td></tr>\n",
       "<tr><td>PMC8202122</td><td>paper</td></tr>\n",
       "<tr><td>PMC8210641</td><td>paper</td></tr>\n",
       "<tr><td>PMC8210641</td><td>paper</td></tr>\n",
       "<tr><td>PMC8210641</td><td>paper</td></tr>\n",
       "<tr><td>PMC8210641</td><td>paper</td></tr>\n",
       "<tr><td>PMC8210641</td><td>paper</td></tr>\n",
       "<tr><td>PMC8210641</td><td>paper</td></tr>\n",
       "</table>\n",
       "only showing top 20 rows\n"
      ],
      "text/plain": [
       "+----------+-----+\n",
       "|  paper_id| type|\n",
       "+----------+-----+\n",
       "|PMC8202122|paper|\n",
       "|PMC8202122|paper|\n",
       "|PMC8202122|paper|\n",
       "|PMC8202122|paper|\n",
       "|PMC8202122|paper|\n",
       "|PMC8202122|paper|\n",
       "|PMC8202122|paper|\n",
       "|PMC8202122|paper|\n",
       "|PMC8202122|paper|\n",
       "|PMC8202122|paper|\n",
       "|PMC8202122|paper|\n",
       "|PMC8202122|paper|\n",
       "|PMC8202122|paper|\n",
       "|PMC8202122|paper|\n",
       "|PMC8210641|paper|\n",
       "|PMC8210641|paper|\n",
       "|PMC8210641|paper|\n",
       "|PMC8210641|paper|\n",
       "|PMC8210641|paper|\n",
       "|PMC8210641|paper|\n",
       "+----------+-----+\n",
       "only showing top 20 rows"
      ]
     },
     "execution_count": 30,
     "metadata": {},
     "output_type": "execute_result"
    }
   ],
   "source": [
    "user2"
   ]
  },
  {
   "cell_type": "code",
   "execution_count": 31,
   "metadata": {},
   "outputs": [
    {
     "data": {
      "text/html": [
       "<table border='1'>\n",
       "<tr><th>journal</th><th>type</th></tr>\n",
       "<tr><td>JCO Oncol Pract</td><td>journal</td></tr>\n",
       "<tr><td>JCO Oncol Pract</td><td>journal</td></tr>\n",
       "<tr><td>JCO Oncol Pract</td><td>journal</td></tr>\n",
       "<tr><td>JCO Oncol Pract</td><td>journal</td></tr>\n",
       "<tr><td>JCO Oncol Pract</td><td>journal</td></tr>\n",
       "<tr><td>JCO Oncol Pract</td><td>journal</td></tr>\n",
       "<tr><td>JCO Oncol Pract</td><td>journal</td></tr>\n",
       "<tr><td>JCO Oncol Pract</td><td>journal</td></tr>\n",
       "<tr><td>JCO Oncol Pract</td><td>journal</td></tr>\n",
       "<tr><td>JCO Oncol Pract</td><td>journal</td></tr>\n",
       "<tr><td>JCO Oncol Pract</td><td>journal</td></tr>\n",
       "<tr><td>JCO Oncol Pract</td><td>journal</td></tr>\n",
       "<tr><td>JCO Oncol Pract</td><td>journal</td></tr>\n",
       "<tr><td>JCO Oncol Pract</td><td>journal</td></tr>\n",
       "<tr><td>Jornal vascular b...</td><td>journal</td></tr>\n",
       "<tr><td>Jornal vascular b...</td><td>journal</td></tr>\n",
       "<tr><td>Jornal vascular b...</td><td>journal</td></tr>\n",
       "<tr><td>Jornal vascular b...</td><td>journal</td></tr>\n",
       "<tr><td>Jornal vascular b...</td><td>journal</td></tr>\n",
       "<tr><td>Jornal vascular b...</td><td>journal</td></tr>\n",
       "</table>\n",
       "only showing top 20 rows\n"
      ],
      "text/plain": [
       "+--------------------+-------+\n",
       "|             journal|   type|\n",
       "+--------------------+-------+\n",
       "|     JCO Oncol Pract|journal|\n",
       "|     JCO Oncol Pract|journal|\n",
       "|     JCO Oncol Pract|journal|\n",
       "|     JCO Oncol Pract|journal|\n",
       "|     JCO Oncol Pract|journal|\n",
       "|     JCO Oncol Pract|journal|\n",
       "|     JCO Oncol Pract|journal|\n",
       "|     JCO Oncol Pract|journal|\n",
       "|     JCO Oncol Pract|journal|\n",
       "|     JCO Oncol Pract|journal|\n",
       "|     JCO Oncol Pract|journal|\n",
       "|     JCO Oncol Pract|journal|\n",
       "|     JCO Oncol Pract|journal|\n",
       "|     JCO Oncol Pract|journal|\n",
       "|Jornal vascular b...|journal|\n",
       "|Jornal vascular b...|journal|\n",
       "|Jornal vascular b...|journal|\n",
       "|Jornal vascular b...|journal|\n",
       "|Jornal vascular b...|journal|\n",
       "|Jornal vascular b...|journal|\n",
       "+--------------------+-------+\n",
       "only showing top 20 rows"
      ]
     },
     "execution_count": 31,
     "metadata": {},
     "output_type": "execute_result"
    }
   ],
   "source": [
    "user3"
   ]
  },
  {
   "cell_type": "code",
   "execution_count": 32,
   "metadata": {},
   "outputs": [],
   "source": [
    "user1 = user1.withColumnRenamed(\"concat_author\", \"id\")\n",
    "user2 = user2.withColumnRenamed(\"paper_id\", \"id\")\n",
    "user3 = user3.withColumnRenamed(\"journal\", \"id\")"
   ]
  },
  {
   "cell_type": "code",
   "execution_count": 33,
   "metadata": {},
   "outputs": [],
   "source": [
    "from pyspark.sql.functions import split, col,lit\n",
    "user1 = user1.withColumn('id', col('id')).distinct()\n",
    "user2 = user2.withColumn('id', col('id')).distinct()\n",
    "user3 = user3.withColumn('id', col('id')).distinct()"
   ]
  },
  {
   "cell_type": "code",
   "execution_count": 34,
   "metadata": {},
   "outputs": [],
   "source": [
    "users_un = user1.unionAll(user2)\n",
    "users = users_un.unionAll(user3)"
   ]
  },
  {
   "cell_type": "code",
   "execution_count": 44,
   "metadata": {},
   "outputs": [
    {
     "data": {
      "text/html": [
       "<table border='1'>\n",
       "<tr><th>src</th><th>dst</th><th>relationship</th></tr>\n",
       "<tr><td>JCO Oncol Pract</td><td>PMC8202122</td><td>belongs_to</td></tr>\n",
       "<tr><td>JCO Oncol Pract</td><td>PMC8202122</td><td>belongs_to</td></tr>\n",
       "<tr><td>JCO Oncol Pract</td><td>PMC8202122</td><td>belongs_to</td></tr>\n",
       "<tr><td>JCO Oncol Pract</td><td>PMC8202122</td><td>belongs_to</td></tr>\n",
       "<tr><td>JCO Oncol Pract</td><td>PMC8202122</td><td>belongs_to</td></tr>\n",
       "<tr><td>JCO Oncol Pract</td><td>PMC8202122</td><td>belongs_to</td></tr>\n",
       "<tr><td>JCO Oncol Pract</td><td>PMC8202122</td><td>belongs_to</td></tr>\n",
       "<tr><td>JCO Oncol Pract</td><td>PMC8202122</td><td>belongs_to</td></tr>\n",
       "<tr><td>JCO Oncol Pract</td><td>PMC8202122</td><td>belongs_to</td></tr>\n",
       "<tr><td>JCO Oncol Pract</td><td>PMC8202122</td><td>belongs_to</td></tr>\n",
       "<tr><td>JCO Oncol Pract</td><td>PMC8202122</td><td>belongs_to</td></tr>\n",
       "<tr><td>JCO Oncol Pract</td><td>PMC8202122</td><td>belongs_to</td></tr>\n",
       "<tr><td>JCO Oncol Pract</td><td>PMC8202122</td><td>belongs_to</td></tr>\n",
       "<tr><td>JCO Oncol Pract</td><td>PMC8202122</td><td>belongs_to</td></tr>\n",
       "<tr><td>Jornal vascular b...</td><td>PMC8210641</td><td>belongs_to</td></tr>\n",
       "<tr><td>Jornal vascular b...</td><td>PMC8210641</td><td>belongs_to</td></tr>\n",
       "<tr><td>Jornal vascular b...</td><td>PMC8210641</td><td>belongs_to</td></tr>\n",
       "<tr><td>Jornal vascular b...</td><td>PMC8210641</td><td>belongs_to</td></tr>\n",
       "<tr><td>Jornal vascular b...</td><td>PMC8210641</td><td>belongs_to</td></tr>\n",
       "<tr><td>Jornal vascular b...</td><td>PMC8210641</td><td>belongs_to</td></tr>\n",
       "</table>\n",
       "only showing top 20 rows\n"
      ],
      "text/plain": [
       "+--------------------+----------+------------+\n",
       "|                 src|       dst|relationship|\n",
       "+--------------------+----------+------------+\n",
       "|     JCO Oncol Pract|PMC8202122|  belongs_to|\n",
       "|     JCO Oncol Pract|PMC8202122|  belongs_to|\n",
       "|     JCO Oncol Pract|PMC8202122|  belongs_to|\n",
       "|     JCO Oncol Pract|PMC8202122|  belongs_to|\n",
       "|     JCO Oncol Pract|PMC8202122|  belongs_to|\n",
       "|     JCO Oncol Pract|PMC8202122|  belongs_to|\n",
       "|     JCO Oncol Pract|PMC8202122|  belongs_to|\n",
       "|     JCO Oncol Pract|PMC8202122|  belongs_to|\n",
       "|     JCO Oncol Pract|PMC8202122|  belongs_to|\n",
       "|     JCO Oncol Pract|PMC8202122|  belongs_to|\n",
       "|     JCO Oncol Pract|PMC8202122|  belongs_to|\n",
       "|     JCO Oncol Pract|PMC8202122|  belongs_to|\n",
       "|     JCO Oncol Pract|PMC8202122|  belongs_to|\n",
       "|     JCO Oncol Pract|PMC8202122|  belongs_to|\n",
       "|Jornal vascular b...|PMC8210641|  belongs_to|\n",
       "|Jornal vascular b...|PMC8210641|  belongs_to|\n",
       "|Jornal vascular b...|PMC8210641|  belongs_to|\n",
       "|Jornal vascular b...|PMC8210641|  belongs_to|\n",
       "|Jornal vascular b...|PMC8210641|  belongs_to|\n",
       "|Jornal vascular b...|PMC8210641|  belongs_to|\n",
       "+--------------------+----------+------------+\n",
       "only showing top 20 rows"
      ]
     },
     "execution_count": 44,
     "metadata": {},
     "output_type": "execute_result"
    }
   ],
   "source": [
    "journal"
   ]
  },
  {
   "cell_type": "code",
   "execution_count": 42,
   "metadata": {},
   "outputs": [],
   "source": [
    "journal = journal.withColumnRenamed(\"journal\", \"src\")\n",
    "journal = journal.withColumnRenamed(\"paper_id\", \"dst\")\n",
    "authors2 = authors2.withColumnRenamed(\"concat_author\", \"src\")\n",
    "authors2 = authors2.withColumnRenamed(\"paper_id\", \"dst\")"
   ]
  },
  {
   "cell_type": "code",
   "execution_count": 45,
   "metadata": {},
   "outputs": [],
   "source": [
    "dfm = authors2.unionAll(journal)"
   ]
  },
  {
   "cell_type": "code",
   "execution_count": 46,
   "metadata": {},
   "outputs": [
    {
     "data": {
      "text/html": [
       "<table border='1'>\n",
       "<tr><th>src</th><th>dst</th><th>relationship</th></tr>\n",
       "<tr><td>patt_debra_a</td><td>PMC8202122</td><td>published</td></tr>\n",
       "<tr><td>wilfong_lalan</td><td>PMC8202122</td><td>published</td></tr>\n",
       "<tr><td>toth_sara</td><td>PMC8202122</td><td>published</td></tr>\n",
       "<tr><td>broussard_stephanie</td><td>PMC8202122</td><td>published</td></tr>\n",
       "<tr><td>kanipe_kristen</td><td>PMC8202122</td><td>published</td></tr>\n",
       "<tr><td>hammonds_jason</td><td>PMC8202122</td><td>published</td></tr>\n",
       "<tr><td>allen_victoria</td><td>PMC8202122</td><td>published</td></tr>\n",
       "<tr><td>mautner_beatrice</td><td>PMC8202122</td><td>published</td></tr>\n",
       "<tr><td>campbell_nakedra</td><td>PMC8202122</td><td>published</td></tr>\n",
       "<tr><td>dubey_ajay_k</td><td>PMC8202122</td><td>published</td></tr>\n",
       "<tr><td>wu_nini</td><td>PMC8202122</td><td>published</td></tr>\n",
       "<tr><td>neubauer_marcus</td><td>PMC8202122</td><td>published</td></tr>\n",
       "<tr><td>jones_ben_s</td><td>PMC8202122</td><td>published</td></tr>\n",
       "<tr><td>paulson_r_steven</td><td>PMC8202122</td><td>published</td></tr>\n",
       "<tr><td>cunha_marcela_jul...</td><td>PMC8210641</td><td>published</td></tr>\n",
       "<tr><td>pinto_carlos_augu...</td><td>PMC8210641</td><td>published</td></tr>\n",
       "<tr><td>guerra_joo_carlos...</td><td>PMC8210641</td><td>published</td></tr>\n",
       "<tr><td>tachibana_adriano</td><td>PMC8210641</td><td>published</td></tr>\n",
       "<tr><td>portugal_maria_fe...</td><td>PMC8210641</td><td>published</td></tr>\n",
       "<tr><td>ferraz_leonardo_j...</td><td>PMC8210641</td><td>published</td></tr>\n",
       "</table>\n",
       "only showing top 20 rows\n"
      ],
      "text/plain": [
       "+--------------------+----------+------------+\n",
       "|                 src|       dst|relationship|\n",
       "+--------------------+----------+------------+\n",
       "|        patt_debra_a|PMC8202122|   published|\n",
       "|       wilfong_lalan|PMC8202122|   published|\n",
       "|           toth_sara|PMC8202122|   published|\n",
       "| broussard_stephanie|PMC8202122|   published|\n",
       "|      kanipe_kristen|PMC8202122|   published|\n",
       "|      hammonds_jason|PMC8202122|   published|\n",
       "|      allen_victoria|PMC8202122|   published|\n",
       "|    mautner_beatrice|PMC8202122|   published|\n",
       "|    campbell_nakedra|PMC8202122|   published|\n",
       "|        dubey_ajay_k|PMC8202122|   published|\n",
       "|             wu_nini|PMC8202122|   published|\n",
       "|     neubauer_marcus|PMC8202122|   published|\n",
       "|         jones_ben_s|PMC8202122|   published|\n",
       "|    paulson_r_steven|PMC8202122|   published|\n",
       "|cunha_marcela_jul...|PMC8210641|   published|\n",
       "|pinto_carlos_augu...|PMC8210641|   published|\n",
       "|guerra_joo_carlos...|PMC8210641|   published|\n",
       "|   tachibana_adriano|PMC8210641|   published|\n",
       "|portugal_maria_fe...|PMC8210641|   published|\n",
       "|ferraz_leonardo_j...|PMC8210641|   published|\n",
       "+--------------------+----------+------------+\n",
       "only showing top 20 rows"
      ]
     },
     "execution_count": 46,
     "metadata": {},
     "output_type": "execute_result"
    }
   ],
   "source": [
    "dfm"
   ]
  },
  {
   "cell_type": "code",
   "execution_count": 48,
   "metadata": {},
   "outputs": [
    {
     "data": {
      "text/plain": [
       "1339762"
      ]
     },
     "execution_count": 48,
     "metadata": {},
     "output_type": "execute_result"
    }
   ],
   "source": [
    "dfm.count()"
   ]
  },
  {
   "cell_type": "code",
   "execution_count": 49,
   "metadata": {},
   "outputs": [
    {
     "data": {
      "text/html": [
       "<table border='1'>\n",
       "<tr><th>src</th><th>dst</th><th>relationship</th></tr>\n",
       "<tr><td>patt_debra_a</td><td>PMC8202122</td><td>published</td></tr>\n",
       "<tr><td>wilfong_lalan</td><td>PMC8202122</td><td>published</td></tr>\n",
       "<tr><td>toth_sara</td><td>PMC8202122</td><td>published</td></tr>\n",
       "<tr><td>broussard_stephanie</td><td>PMC8202122</td><td>published</td></tr>\n",
       "<tr><td>kanipe_kristen</td><td>PMC8202122</td><td>published</td></tr>\n",
       "<tr><td>hammonds_jason</td><td>PMC8202122</td><td>published</td></tr>\n",
       "<tr><td>allen_victoria</td><td>PMC8202122</td><td>published</td></tr>\n",
       "<tr><td>mautner_beatrice</td><td>PMC8202122</td><td>published</td></tr>\n",
       "<tr><td>campbell_nakedra</td><td>PMC8202122</td><td>published</td></tr>\n",
       "<tr><td>dubey_ajay_k</td><td>PMC8202122</td><td>published</td></tr>\n",
       "<tr><td>wu_nini</td><td>PMC8202122</td><td>published</td></tr>\n",
       "<tr><td>neubauer_marcus</td><td>PMC8202122</td><td>published</td></tr>\n",
       "<tr><td>jones_ben_s</td><td>PMC8202122</td><td>published</td></tr>\n",
       "<tr><td>paulson_r_steven</td><td>PMC8202122</td><td>published</td></tr>\n",
       "<tr><td>cunha_marcela_jul...</td><td>PMC8210641</td><td>published</td></tr>\n",
       "<tr><td>pinto_carlos_augu...</td><td>PMC8210641</td><td>published</td></tr>\n",
       "<tr><td>guerra_joo_carlos...</td><td>PMC8210641</td><td>published</td></tr>\n",
       "<tr><td>tachibana_adriano</td><td>PMC8210641</td><td>published</td></tr>\n",
       "<tr><td>portugal_maria_fe...</td><td>PMC8210641</td><td>published</td></tr>\n",
       "<tr><td>ferraz_leonardo_j...</td><td>PMC8210641</td><td>published</td></tr>\n",
       "</table>\n",
       "only showing top 20 rows\n"
      ],
      "text/plain": [
       "DataFrame[src: string, dst: string, relationship: string]"
      ]
     },
     "execution_count": 49,
     "metadata": {},
     "output_type": "execute_result"
    }
   ],
   "source": [
    "dfm"
   ]
  },
  {
   "cell_type": "code",
   "execution_count": 58,
   "metadata": {},
   "outputs": [],
   "source": [
    "def PlotGraph(edge_list):\n",
    "    Gplot=nx.Graph()\n",
    "    for row in edge_list.select('src','dst').take(1000):\n",
    "        Gplot.add_edge(row['src'],row['dst'])\n",
    "\n",
    "    plt.subplot(121)\n",
    "    nx.draw(Gplot, with_labels=True, font_weight='bold')"
   ]
  },
  {
   "cell_type": "code",
   "execution_count": 51,
   "metadata": {},
   "outputs": [],
   "source": [
    "g = GraphFrame(users, dfm)"
   ]
  },
  {
   "cell_type": "code",
   "execution_count": 52,
   "metadata": {},
   "outputs": [
    {
     "name": "stdout",
     "output_type": "stream",
     "text": [
      "+--------------------+------+\n",
      "|                  id|  type|\n",
      "+--------------------+------+\n",
      "|           su_john_r|author|\n",
      "|arcidiacono_paolo...|author|\n",
      "| imborek_katherine_l|author|\n",
      "|            wang_ran|author|\n",
      "|         yan_jinting|author|\n",
      "|  tsotras_vassilis_j|author|\n",
      "|   collins_elizabeth|author|\n",
      "|         welch_kelly|author|\n",
      "|        li_shaoshuai|author|\n",
      "|       weber_k_scott|author|\n",
      "|    whiteside_lauren|author|\n",
      "|      sang_charlie_j|author|\n",
      "|        day_andrew_g|author|\n",
      "|    terzis_gerasimos|author|\n",
      "|      wakgari_negash|author|\n",
      "|        lang_vanessa|author|\n",
      "|   poptsov_alexander|author|\n",
      "|wan_afifudeen_che...|author|\n",
      "|        wang_xiaocen|author|\n",
      "|             wang_qi|author|\n",
      "+--------------------+------+\n",
      "only showing top 20 rows\n",
      "\n"
     ]
    }
   ],
   "source": [
    "g.vertices.show()"
   ]
  },
  {
   "cell_type": "code",
   "execution_count": 53,
   "metadata": {},
   "outputs": [
    {
     "name": "stdout",
     "output_type": "stream",
     "text": [
      "+--------------------+----------+------------+\n",
      "|                 src|       dst|relationship|\n",
      "+--------------------+----------+------------+\n",
      "|        patt_debra_a|PMC8202122|   published|\n",
      "|       wilfong_lalan|PMC8202122|   published|\n",
      "|           toth_sara|PMC8202122|   published|\n",
      "| broussard_stephanie|PMC8202122|   published|\n",
      "|      kanipe_kristen|PMC8202122|   published|\n",
      "|      hammonds_jason|PMC8202122|   published|\n",
      "|      allen_victoria|PMC8202122|   published|\n",
      "|    mautner_beatrice|PMC8202122|   published|\n",
      "|    campbell_nakedra|PMC8202122|   published|\n",
      "|        dubey_ajay_k|PMC8202122|   published|\n",
      "|             wu_nini|PMC8202122|   published|\n",
      "|     neubauer_marcus|PMC8202122|   published|\n",
      "|         jones_ben_s|PMC8202122|   published|\n",
      "|    paulson_r_steven|PMC8202122|   published|\n",
      "|cunha_marcela_jul...|PMC8210641|   published|\n",
      "|pinto_carlos_augu...|PMC8210641|   published|\n",
      "|guerra_joo_carlos...|PMC8210641|   published|\n",
      "|   tachibana_adriano|PMC8210641|   published|\n",
      "|portugal_maria_fe...|PMC8210641|   published|\n",
      "|ferraz_leonardo_j...|PMC8210641|   published|\n",
      "+--------------------+----------+------------+\n",
      "only showing top 20 rows\n",
      "\n"
     ]
    }
   ],
   "source": [
    "g.edges.show()"
   ]
  },
  {
   "cell_type": "code",
   "execution_count": 54,
   "metadata": {},
   "outputs": [
    {
     "name": "stdout",
     "output_type": "stream",
     "text": [
      "+--------------------+------+\n",
      "|                  id|degree|\n",
      "+--------------------+------+\n",
      "|Int J Environ Res...| 22422|\n",
      "|            PLoS One| 16202|\n",
      "|             Sci Rep| 11771|\n",
      "|       Front Immunol| 10025|\n",
      "|          PMC8344569|  9300|\n",
      "|          J Clin Med|  8489|\n",
      "|             Viruses|  7995|\n",
      "|    Vaccines (Basel)|  7583|\n",
      "| Front Public Health|  7381|\n",
      "|       Front Psychol|  6875|\n",
      "|       Int J Mol Sci|  6789|\n",
      "|              Cureus|  6100|\n",
      "|Front Med (Lausanne)|  5908|\n",
      "|                null|  5632|\n",
      "|           Br J Surg|  4761|\n",
      "|           Nutrients|  4365|\n",
      "|      JAMA Netw Open|  4149|\n",
      "|    Front Psychiatry|  4041|\n",
      "|  Healthcare (Basel)|  4034|\n",
      "|     Front Pharmacol|  3950|\n",
      "+--------------------+------+\n",
      "only showing top 20 rows\n",
      "\n"
     ]
    }
   ],
   "source": [
    "g.degrees.orderBy('degree', ascending=False).show()"
   ]
  },
  {
   "cell_type": "code",
   "execution_count": 55,
   "metadata": {},
   "outputs": [
    {
     "name": "stdout",
     "output_type": "stream",
     "text": [
      "+----------+--------+\n",
      "|        id|inDegree|\n",
      "+----------+--------+\n",
      "|PMC8344569|    9300|\n",
      "|PMC8231091|    2128|\n",
      "|PMC8429803|    1478|\n",
      "|PMC8711291|    1286|\n",
      "|PMC8586736|    1158|\n",
      "|PMC8653629|    1142|\n",
      "|PMC8358924|     904|\n",
      "|PMC8323543|     866|\n",
      "|PMC8457757|     826|\n",
      "|PMC8728233|     792|\n",
      "|PMC8275367|     716|\n",
      "|PMC8384927|     452|\n",
      "|PMC9098237|     446|\n",
      "|PMC8928018|     392|\n",
      "|PMC8521484|     362|\n",
      "|PMC8764723|     360|\n",
      "|PMC8459899|     318|\n",
      "|PMC8609892|     314|\n",
      "|PMC8389395|     312|\n",
      "|PMC9040372|     290|\n",
      "+----------+--------+\n",
      "only showing top 20 rows\n",
      "\n"
     ]
    }
   ],
   "source": [
    "g.inDegrees.orderBy('inDegree', ascending=False).show()"
   ]
  },
  {
   "cell_type": "code",
   "execution_count": 56,
   "metadata": {},
   "outputs": [
    {
     "name": "stdout",
     "output_type": "stream",
     "text": [
      "+--------------------+---------+\n",
      "|                  id|outDegree|\n",
      "+--------------------+---------+\n",
      "|Int J Environ Res...|    22422|\n",
      "|            PLoS One|    16202|\n",
      "|             Sci Rep|    11771|\n",
      "|       Front Immunol|    10025|\n",
      "|          J Clin Med|     8489|\n",
      "|             Viruses|     7995|\n",
      "|    Vaccines (Basel)|     7583|\n",
      "| Front Public Health|     7381|\n",
      "|       Front Psychol|     6875|\n",
      "|       Int J Mol Sci|     6789|\n",
      "|              Cureus|     6100|\n",
      "|Front Med (Lausanne)|     5908|\n",
      "|                null|     5632|\n",
      "|           Br J Surg|     4761|\n",
      "|           Nutrients|     4365|\n",
      "|      JAMA Netw Open|     4149|\n",
      "|    Front Psychiatry|     4041|\n",
      "|  Healthcare (Basel)|     4034|\n",
      "|     Front Pharmacol|     3950|\n",
      "|   BMC Public Health|     3891|\n",
      "+--------------------+---------+\n",
      "only showing top 20 rows\n",
      "\n"
     ]
    }
   ],
   "source": [
    "g.outDegrees.orderBy('outDegree', ascending=False).show()"
   ]
  },
  {
   "cell_type": "code",
   "execution_count": null,
   "metadata": {},
   "outputs": [],
   "source": []
  },
  {
   "cell_type": "code",
   "execution_count": null,
   "metadata": {},
   "outputs": [],
   "source": []
  }
 ],
 "metadata": {
  "kernelspec": {
   "display_name": "Python 3 (ipykernel)",
   "language": "python",
   "name": "python3"
  },
  "language_info": {
   "codemirror_mode": {
    "name": "ipython",
    "version": 3
   },
   "file_extension": ".py",
   "mimetype": "text/x-python",
   "name": "python",
   "nbconvert_exporter": "python",
   "pygments_lexer": "ipython3",
   "version": "3.9.13"
  },
  "varInspector": {
   "cols": {
    "lenName": 16,
    "lenType": 16,
    "lenVar": 40
   },
   "kernels_config": {
    "python": {
     "delete_cmd_postfix": "",
     "delete_cmd_prefix": "del ",
     "library": "var_list.py",
     "varRefreshCmd": "print(var_dic_list())"
    },
    "r": {
     "delete_cmd_postfix": ") ",
     "delete_cmd_prefix": "rm(",
     "library": "var_list.r",
     "varRefreshCmd": "cat(var_dic_list()) "
    }
   },
   "types_to_exclude": [
    "module",
    "function",
    "builtin_function_or_method",
    "instance",
    "_Feature"
   ],
   "window_display": false
  }
 },
 "nbformat": 4,
 "nbformat_minor": 2
}
