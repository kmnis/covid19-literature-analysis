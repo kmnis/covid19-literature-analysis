{
 "cells": [
  {
   "cell_type": "code",
   "execution_count": 1,
   "id": "e7b863b5",
   "metadata": {
    "ExecuteTime": {
     "end_time": "2022-11-28T23:23:46.703272Z",
     "start_time": "2022-11-28T23:23:46.404063Z"
    }
   },
   "outputs": [],
   "source": [
    "import pandas as pd\n",
    "from hashlib import sha1"
   ]
  },
  {
   "cell_type": "code",
   "execution_count": 3,
   "id": "f0425a75",
   "metadata": {
    "ExecuteTime": {
     "end_time": "2022-11-28T23:23:58.333729Z",
     "start_time": "2022-11-28T23:23:58.286099Z"
    }
   },
   "outputs": [],
   "source": [
    "papers = pd.read_csv(\"neo4j/papers.csv\")"
   ]
  },
  {
   "cell_type": "code",
   "execution_count": 4,
   "id": "c80f0ed2",
   "metadata": {
    "ExecuteTime": {
     "end_time": "2022-11-28T23:23:59.729410Z",
     "start_time": "2022-11-28T23:23:59.714888Z"
    }
   },
   "outputs": [
    {
     "data": {
      "text/plain": [
       "(100, 21)"
      ]
     },
     "execution_count": 4,
     "metadata": {},
     "output_type": "execute_result"
    }
   ],
   "source": [
    "papers.shape"
   ]
  },
  {
   "cell_type": "code",
   "execution_count": 5,
   "id": "6758cf37",
   "metadata": {
    "ExecuteTime": {
     "end_time": "2022-11-28T23:24:03.058831Z",
     "start_time": "2022-11-28T23:24:03.027346Z"
    }
   },
   "outputs": [
    {
     "data": {
      "text/html": [
       "<div>\n",
       "<style scoped>\n",
       "    .dataframe tbody tr th:only-of-type {\n",
       "        vertical-align: middle;\n",
       "    }\n",
       "\n",
       "    .dataframe tbody tr th {\n",
       "        vertical-align: top;\n",
       "    }\n",
       "\n",
       "    .dataframe thead th {\n",
       "        text-align: right;\n",
       "    }\n",
       "</style>\n",
       "<table border=\"1\" class=\"dataframe\">\n",
       "  <thead>\n",
       "    <tr style=\"text-align: right;\">\n",
       "      <th></th>\n",
       "      <th>id:ID(paper)</th>\n",
       "      <th>authors</th>\n",
       "      <th>affiliations</th>\n",
       "      <th>email</th>\n",
       "      <th>body_text</th>\n",
       "      <th>title</th>\n",
       "      <th>abstract</th>\n",
       "      <th>doi</th>\n",
       "      <th>source_x</th>\n",
       "      <th>pmcid</th>\n",
       "      <th>...</th>\n",
       "      <th>license</th>\n",
       "      <th>publish_time</th>\n",
       "      <th>venue</th>\n",
       "      <th>mag_id</th>\n",
       "      <th>who_covidence_id</th>\n",
       "      <th>arxiv_id</th>\n",
       "      <th>s2_id</th>\n",
       "      <th>url</th>\n",
       "      <th>publication_year</th>\n",
       "      <th>:LABEL</th>\n",
       "    </tr>\n",
       "  </thead>\n",
       "  <tbody>\n",
       "    <tr>\n",
       "      <th>0</th>\n",
       "      <td>1fe645c8d05d960dd85d08eaaa5574100db591c8</td>\n",
       "      <td>Iresha N Ambepitiya Wickramasinghe; M Hélène V...</td>\n",
       "      <td>;</td>\n",
       "      <td>;</td>\n",
       "      <td>{\"Introduction\": \"Infectious bronchitis virus ...</td>\n",
       "      <td>Protein Histochemistry Using Coronaviral Spike...</td>\n",
       "      <td>Protein histochemistry is a tissue-based techn...</td>\n",
       "      <td>10.1007/978-1-4939-2438-7_14</td>\n",
       "      <td>Medline; PMC</td>\n",
       "      <td>PMC7121471</td>\n",
       "      <td>...</td>\n",
       "      <td>no-cc</td>\n",
       "      <td>2014-12-18</td>\n",
       "      <td>Coronaviruses</td>\n",
       "      <td>NaN</td>\n",
       "      <td>NaN</td>\n",
       "      <td>NaN</td>\n",
       "      <td>235989.0</td>\n",
       "      <td>https://www.ncbi.nlm.nih.gov/pubmed/25720479/;...</td>\n",
       "      <td>2014.0</td>\n",
       "      <td>paper</td>\n",
       "    </tr>\n",
       "    <tr>\n",
       "      <th>1</th>\n",
       "      <td>579fdd7af308a5a9b022f5a38c69b6d1fd3c6224</td>\n",
       "      <td>Manuela Bonizzoli; Rosaria Arvia; · Simona Di ...</td>\n",
       "      <td>; ; ; ; ; ;</td>\n",
       "      <td>; ; ; ; ; ;</td>\n",
       "      <td>{\"Introduction\": \"Human herpes simplex virus 1...</td>\n",
       "      <td>Human herpesviruses respiratory infections in ...</td>\n",
       "      <td>Acute respiratory distress syndrome (ARDS) is ...</td>\n",
       "      <td>10.1007/s00430-016-0456-z</td>\n",
       "      <td>Medline; PMC</td>\n",
       "      <td>PMC7086591</td>\n",
       "      <td>...</td>\n",
       "      <td>no-cc</td>\n",
       "      <td>2016-05-02</td>\n",
       "      <td>Med Microbiol Immunol</td>\n",
       "      <td>NaN</td>\n",
       "      <td>NaN</td>\n",
       "      <td>NaN</td>\n",
       "      <td>2707991.0</td>\n",
       "      <td>https://www.ncbi.nlm.nih.gov/pubmed/27138606/;...</td>\n",
       "      <td>2016.0</td>\n",
       "      <td>paper</td>\n",
       "    </tr>\n",
       "    <tr>\n",
       "      <th>2</th>\n",
       "      <td>14241795a7c1b25b0db12f42473176d5af9a2eca</td>\n",
       "      <td>Hai-Ming Wang; Tian-Xin Liu; · Tong-Yun Wang; ...</td>\n",
       "      <td>; ; ; ; ; ; ;</td>\n",
       "      <td>; ; ; ; ; ; ;</td>\n",
       "      <td>{\"Introduction\": \"Porcine reproductive and res...</td>\n",
       "      <td>Isobavachalcone inhibits post-entry stages of ...</td>\n",
       "      <td>Porcine reproductive and respiratory syndrome ...</td>\n",
       "      <td>10.1007/s00705-018-3755-4</td>\n",
       "      <td>Medline; PMC</td>\n",
       "      <td>PMC7086980</td>\n",
       "      <td>...</td>\n",
       "      <td>no-cc</td>\n",
       "      <td>2018-02-06</td>\n",
       "      <td>Arch Virol</td>\n",
       "      <td>NaN</td>\n",
       "      <td>NaN</td>\n",
       "      <td>NaN</td>\n",
       "      <td>4583634.0</td>\n",
       "      <td>https://doi.org/10.1007/s00705-018-3755-4; htt...</td>\n",
       "      <td>2018.0</td>\n",
       "      <td>paper</td>\n",
       "    </tr>\n",
       "  </tbody>\n",
       "</table>\n",
       "<p>3 rows × 21 columns</p>\n",
       "</div>"
      ],
      "text/plain": [
       "                               id:ID(paper)  \\\n",
       "0  1fe645c8d05d960dd85d08eaaa5574100db591c8   \n",
       "1  579fdd7af308a5a9b022f5a38c69b6d1fd3c6224   \n",
       "2  14241795a7c1b25b0db12f42473176d5af9a2eca   \n",
       "\n",
       "                                             authors    affiliations  \\\n",
       "0  Iresha N Ambepitiya Wickramasinghe; M Hélène V...              ;    \n",
       "1  Manuela Bonizzoli; Rosaria Arvia; · Simona Di ...    ; ; ; ; ; ;    \n",
       "2  Hai-Ming Wang; Tian-Xin Liu; · Tong-Yun Wang; ...  ; ; ; ; ; ; ;    \n",
       "\n",
       "            email                                          body_text  \\\n",
       "0              ;   {\"Introduction\": \"Infectious bronchitis virus ...   \n",
       "1    ; ; ; ; ; ;   {\"Introduction\": \"Human herpes simplex virus 1...   \n",
       "2  ; ; ; ; ; ; ;   {\"Introduction\": \"Porcine reproductive and res...   \n",
       "\n",
       "                                               title  \\\n",
       "0  Protein Histochemistry Using Coronaviral Spike...   \n",
       "1  Human herpesviruses respiratory infections in ...   \n",
       "2  Isobavachalcone inhibits post-entry stages of ...   \n",
       "\n",
       "                                            abstract  \\\n",
       "0  Protein histochemistry is a tissue-based techn...   \n",
       "1  Acute respiratory distress syndrome (ARDS) is ...   \n",
       "2  Porcine reproductive and respiratory syndrome ...   \n",
       "\n",
       "                            doi      source_x       pmcid  ...  license  \\\n",
       "0  10.1007/978-1-4939-2438-7_14  Medline; PMC  PMC7121471  ...    no-cc   \n",
       "1     10.1007/s00430-016-0456-z  Medline; PMC  PMC7086591  ...    no-cc   \n",
       "2     10.1007/s00705-018-3755-4  Medline; PMC  PMC7086980  ...    no-cc   \n",
       "\n",
       "  publish_time                  venue mag_id  who_covidence_id arxiv_id  \\\n",
       "0   2014-12-18          Coronaviruses    NaN               NaN      NaN   \n",
       "1   2016-05-02  Med Microbiol Immunol    NaN               NaN      NaN   \n",
       "2   2018-02-06             Arch Virol    NaN               NaN      NaN   \n",
       "\n",
       "       s2_id                                                url  \\\n",
       "0   235989.0  https://www.ncbi.nlm.nih.gov/pubmed/25720479/;...   \n",
       "1  2707991.0  https://www.ncbi.nlm.nih.gov/pubmed/27138606/;...   \n",
       "2  4583634.0  https://doi.org/10.1007/s00705-018-3755-4; htt...   \n",
       "\n",
       "  publication_year  :LABEL  \n",
       "0           2014.0   paper  \n",
       "1           2016.0   paper  \n",
       "2           2018.0   paper  \n",
       "\n",
       "[3 rows x 21 columns]"
      ]
     },
     "execution_count": 5,
     "metadata": {},
     "output_type": "execute_result"
    }
   ],
   "source": [
    "papers.head(3)"
   ]
  },
  {
   "cell_type": "code",
   "execution_count": 9,
   "id": "8176341b",
   "metadata": {
    "ExecuteTime": {
     "end_time": "2022-11-28T23:26:01.800069Z",
     "start_time": "2022-11-28T23:26:01.775672Z"
    }
   },
   "outputs": [
    {
     "data": {
      "text/html": [
       "<div>\n",
       "<style scoped>\n",
       "    .dataframe tbody tr th:only-of-type {\n",
       "        vertical-align: middle;\n",
       "    }\n",
       "\n",
       "    .dataframe tbody tr th {\n",
       "        vertical-align: top;\n",
       "    }\n",
       "\n",
       "    .dataframe thead th {\n",
       "        text-align: right;\n",
       "    }\n",
       "</style>\n",
       "<table border=\"1\" class=\"dataframe\">\n",
       "  <thead>\n",
       "    <tr style=\"text-align: right;\">\n",
       "      <th></th>\n",
       "      <th>id:ID(journal)</th>\n",
       "      <th>name</th>\n",
       "      <th>:LABEL</th>\n",
       "    </tr>\n",
       "  </thead>\n",
       "  <tbody>\n",
       "    <tr>\n",
       "      <th>0</th>\n",
       "      <td>6092eb62e87154c96f6642969984df334731d3ab</td>\n",
       "      <td>Coronaviruses</td>\n",
       "      <td>journal</td>\n",
       "    </tr>\n",
       "    <tr>\n",
       "      <th>1</th>\n",
       "      <td>19ec223414598012c79e1257098d10a983aaa920</td>\n",
       "      <td>Med Microbiol Immunol</td>\n",
       "      <td>journal</td>\n",
       "    </tr>\n",
       "    <tr>\n",
       "      <th>2</th>\n",
       "      <td>e87cf289d88c1d63bec4f294a695fe092262be30</td>\n",
       "      <td>Arch Virol</td>\n",
       "      <td>journal</td>\n",
       "    </tr>\n",
       "    <tr>\n",
       "      <th>3</th>\n",
       "      <td>dc8769707eace55e9b51f588da024ed6e4e23127</td>\n",
       "      <td>Encyclopedia of Respiratory Medicine</td>\n",
       "      <td>journal</td>\n",
       "    </tr>\n",
       "    <tr>\n",
       "      <th>4</th>\n",
       "      <td>2751758e49d5ec776e9ee34f2d1e63d3ccdaf4ee</td>\n",
       "      <td>BMC Evol Biol</td>\n",
       "      <td>journal</td>\n",
       "    </tr>\n",
       "  </tbody>\n",
       "</table>\n",
       "</div>"
      ],
      "text/plain": [
       "                             id:ID(journal)  \\\n",
       "0  6092eb62e87154c96f6642969984df334731d3ab   \n",
       "1  19ec223414598012c79e1257098d10a983aaa920   \n",
       "2  e87cf289d88c1d63bec4f294a695fe092262be30   \n",
       "3  dc8769707eace55e9b51f588da024ed6e4e23127   \n",
       "4  2751758e49d5ec776e9ee34f2d1e63d3ccdaf4ee   \n",
       "\n",
       "                                   name   :LABEL  \n",
       "0                         Coronaviruses  journal  \n",
       "1                 Med Microbiol Immunol  journal  \n",
       "2                            Arch Virol  journal  \n",
       "3  Encyclopedia of Respiratory Medicine  journal  \n",
       "4                         BMC Evol Biol  journal  "
      ]
     },
     "execution_count": 9,
     "metadata": {},
     "output_type": "execute_result"
    }
   ],
   "source": [
    "venue = papers.venue.unique().tolist()\n",
    "vdata = []\n",
    "for v in venue:\n",
    "    if not pd.isna(v):\n",
    "        vdata.append([sha1(v.encode()).hexdigest(), v, \"journal\"])\n",
    "venue = pd.DataFrame(data=vdata, columns=[\"id:ID(journal)\", \"name\", \":LABEL\"])\n",
    "venue.head()"
   ]
  },
  {
   "cell_type": "code",
   "execution_count": 10,
   "id": "3087e006",
   "metadata": {
    "ExecuteTime": {
     "end_time": "2022-11-28T23:26:08.855461Z",
     "start_time": "2022-11-28T23:26:08.846159Z"
    }
   },
   "outputs": [],
   "source": [
    "venue.to_csv(\"neo4j/journals.csv\", index=False)"
   ]
  },
  {
   "cell_type": "code",
   "execution_count": 16,
   "id": "09154b89",
   "metadata": {
    "ExecuteTime": {
     "end_time": "2022-11-28T22:21:50.757010Z",
     "start_time": "2022-11-28T22:21:50.749251Z"
    }
   },
   "outputs": [],
   "source": []
  },
  {
   "cell_type": "code",
   "execution_count": 11,
   "id": "493a2bc4",
   "metadata": {
    "ExecuteTime": {
     "end_time": "2022-11-28T23:27:01.670598Z",
     "start_time": "2022-11-28T23:27:01.652478Z"
    }
   },
   "outputs": [
    {
     "data": {
      "text/html": [
       "<div>\n",
       "<style scoped>\n",
       "    .dataframe tbody tr th:only-of-type {\n",
       "        vertical-align: middle;\n",
       "    }\n",
       "\n",
       "    .dataframe tbody tr th {\n",
       "        vertical-align: top;\n",
       "    }\n",
       "\n",
       "    .dataframe thead th {\n",
       "        text-align: right;\n",
       "    }\n",
       "</style>\n",
       "<table border=\"1\" class=\"dataframe\">\n",
       "  <thead>\n",
       "    <tr style=\"text-align: right;\">\n",
       "      <th></th>\n",
       "      <th>journal_id:START_ID(journal)</th>\n",
       "      <th>paper_id:END_ID(paper)</th>\n",
       "      <th>:TYPE</th>\n",
       "    </tr>\n",
       "  </thead>\n",
       "  <tbody>\n",
       "    <tr>\n",
       "      <th>0</th>\n",
       "      <td>6092eb62e87154c96f6642969984df334731d3ab</td>\n",
       "      <td>1fe645c8d05d960dd85d08eaaa5574100db591c8</td>\n",
       "      <td>has_paper</td>\n",
       "    </tr>\n",
       "    <tr>\n",
       "      <th>1</th>\n",
       "      <td>19ec223414598012c79e1257098d10a983aaa920</td>\n",
       "      <td>579fdd7af308a5a9b022f5a38c69b6d1fd3c6224</td>\n",
       "      <td>has_paper</td>\n",
       "    </tr>\n",
       "    <tr>\n",
       "      <th>2</th>\n",
       "      <td>e87cf289d88c1d63bec4f294a695fe092262be30</td>\n",
       "      <td>14241795a7c1b25b0db12f42473176d5af9a2eca</td>\n",
       "      <td>has_paper</td>\n",
       "    </tr>\n",
       "    <tr>\n",
       "      <th>3</th>\n",
       "      <td>dc8769707eace55e9b51f588da024ed6e4e23127</td>\n",
       "      <td>d7cb7c135b8d3727e626d35b7b1ec92f2400e78b</td>\n",
       "      <td>has_paper</td>\n",
       "    </tr>\n",
       "    <tr>\n",
       "      <th>4</th>\n",
       "      <td>2751758e49d5ec776e9ee34f2d1e63d3ccdaf4ee</td>\n",
       "      <td>479ade65b7f5219559c4d8cc48c1c2f90bda977f</td>\n",
       "      <td>has_paper</td>\n",
       "    </tr>\n",
       "  </tbody>\n",
       "</table>\n",
       "</div>"
      ],
      "text/plain": [
       "               journal_id:START_ID(journal)  \\\n",
       "0  6092eb62e87154c96f6642969984df334731d3ab   \n",
       "1  19ec223414598012c79e1257098d10a983aaa920   \n",
       "2  e87cf289d88c1d63bec4f294a695fe092262be30   \n",
       "3  dc8769707eace55e9b51f588da024ed6e4e23127   \n",
       "4  2751758e49d5ec776e9ee34f2d1e63d3ccdaf4ee   \n",
       "\n",
       "                     paper_id:END_ID(paper)      :TYPE  \n",
       "0  1fe645c8d05d960dd85d08eaaa5574100db591c8  has_paper  \n",
       "1  579fdd7af308a5a9b022f5a38c69b6d1fd3c6224  has_paper  \n",
       "2  14241795a7c1b25b0db12f42473176d5af9a2eca  has_paper  \n",
       "3  d7cb7c135b8d3727e626d35b7b1ec92f2400e78b  has_paper  \n",
       "4  479ade65b7f5219559c4d8cc48c1c2f90bda977f  has_paper  "
      ]
     },
     "execution_count": 11,
     "metadata": {},
     "output_type": "execute_result"
    }
   ],
   "source": [
    "jpdata = []\n",
    "for i in range(len(papers)):\n",
    "    v = papers.venue[i]\n",
    "    if not pd.isna(v):\n",
    "        jpdata.append([sha1(v.encode()).hexdigest(), papers[\"id:ID(paper)\"][i], \"has_paper\"])\n",
    "\n",
    "jp = pd.DataFrame(data=jpdata, columns=[\"journal_id:START_ID(journal)\", \"paper_id:END_ID(paper)\", \":TYPE\"])\n",
    "jp.head()"
   ]
  },
  {
   "cell_type": "code",
   "execution_count": 12,
   "id": "abc90eba",
   "metadata": {
    "ExecuteTime": {
     "end_time": "2022-11-28T23:27:07.781842Z",
     "start_time": "2022-11-28T23:27:07.775080Z"
    }
   },
   "outputs": [],
   "source": [
    "jp.to_csv(\"neo4j/journal_paper_rel.csv\", index=False)"
   ]
  },
  {
   "cell_type": "code",
   "execution_count": 17,
   "id": "9f6dd1d2",
   "metadata": {
    "ExecuteTime": {
     "end_time": "2022-11-28T23:28:20.303229Z",
     "start_time": "2022-11-28T23:28:20.281021Z"
    }
   },
   "outputs": [
    {
     "data": {
      "text/plain": [
       "594"
      ]
     },
     "execution_count": 17,
     "metadata": {},
     "output_type": "execute_result"
    }
   ],
   "source": [
    "authors = []\n",
    "\n",
    "for i in range(len(papers)):\n",
    "    if not pd.isna(papers.authors[i]):\n",
    "        authors += papers.authors[i].split(\"; \")\n",
    "\n",
    "authors = list(set(authors))\n",
    "len(authors)"
   ]
  },
  {
   "cell_type": "code",
   "execution_count": 18,
   "id": "e6e9299e",
   "metadata": {
    "ExecuteTime": {
     "end_time": "2022-11-28T23:28:20.997973Z",
     "start_time": "2022-11-28T23:28:20.970186Z"
    }
   },
   "outputs": [
    {
     "data": {
      "text/html": [
       "<div>\n",
       "<style scoped>\n",
       "    .dataframe tbody tr th:only-of-type {\n",
       "        vertical-align: middle;\n",
       "    }\n",
       "\n",
       "    .dataframe tbody tr th {\n",
       "        vertical-align: top;\n",
       "    }\n",
       "\n",
       "    .dataframe thead th {\n",
       "        text-align: right;\n",
       "    }\n",
       "</style>\n",
       "<table border=\"1\" class=\"dataframe\">\n",
       "  <thead>\n",
       "    <tr style=\"text-align: right;\">\n",
       "      <th></th>\n",
       "      <th>id:ID(author)</th>\n",
       "      <th>name</th>\n",
       "      <th>:LABEL</th>\n",
       "    </tr>\n",
       "  </thead>\n",
       "  <tbody>\n",
       "    <tr>\n",
       "      <th>0</th>\n",
       "      <td>7f334d4fa026694142a6ddc93232122162af9739</td>\n",
       "      <td>José María Barrios-López</td>\n",
       "      <td>author</td>\n",
       "    </tr>\n",
       "    <tr>\n",
       "      <th>1</th>\n",
       "      <td>a5fa698de58c39df886df566f65955657c9f8730</td>\n",
       "      <td>Rahmat Awang</td>\n",
       "      <td>author</td>\n",
       "    </tr>\n",
       "    <tr>\n",
       "      <th>2</th>\n",
       "      <td>d10f26ef3f5262c1ba2d60ccf03b8a4f0c023f14</td>\n",
       "      <td>Michał Nowakowski</td>\n",
       "      <td>author</td>\n",
       "    </tr>\n",
       "    <tr>\n",
       "      <th>3</th>\n",
       "      <td>836d016a8dd69e1e7c1e17e28868349a333f2c63</td>\n",
       "      <td>Gui-Xia Li</td>\n",
       "      <td>author</td>\n",
       "    </tr>\n",
       "    <tr>\n",
       "      <th>4</th>\n",
       "      <td>b56e6bc303475fd4fc46e752f2b685693b08d1e3</td>\n",
       "      <td>Marion E Weir</td>\n",
       "      <td>author</td>\n",
       "    </tr>\n",
       "  </tbody>\n",
       "</table>\n",
       "</div>"
      ],
      "text/plain": [
       "                              id:ID(author)                      name  :LABEL\n",
       "0  7f334d4fa026694142a6ddc93232122162af9739  José María Barrios-López  author\n",
       "1  a5fa698de58c39df886df566f65955657c9f8730              Rahmat Awang  author\n",
       "2  d10f26ef3f5262c1ba2d60ccf03b8a4f0c023f14         Michał Nowakowski  author\n",
       "3  836d016a8dd69e1e7c1e17e28868349a333f2c63                Gui-Xia Li  author\n",
       "4  b56e6bc303475fd4fc46e752f2b685693b08d1e3             Marion E Weir  author"
      ]
     },
     "execution_count": 18,
     "metadata": {},
     "output_type": "execute_result"
    }
   ],
   "source": [
    "adata = []\n",
    "for a in authors:\n",
    "    if not pd.isna(a):\n",
    "        adata.append([sha1(a.encode()).hexdigest(), a, \"author\"])\n",
    "        \n",
    "authors = pd.DataFrame(data=adata, columns=[\"id:ID(author)\", \"name\", \":LABEL\"])\n",
    "authors.head()"
   ]
  },
  {
   "cell_type": "code",
   "execution_count": 19,
   "id": "40e3e965",
   "metadata": {
    "ExecuteTime": {
     "end_time": "2022-11-28T23:28:34.174687Z",
     "start_time": "2022-11-28T23:28:34.153766Z"
    }
   },
   "outputs": [],
   "source": [
    "authors.to_csv(\"neo4j/authors.csv\", index=False)"
   ]
  },
  {
   "cell_type": "code",
   "execution_count": 21,
   "id": "2225619e",
   "metadata": {
    "ExecuteTime": {
     "end_time": "2022-11-28T23:29:26.195509Z",
     "start_time": "2022-11-28T23:29:26.169840Z"
    }
   },
   "outputs": [
    {
     "data": {
      "text/html": [
       "<div>\n",
       "<style scoped>\n",
       "    .dataframe tbody tr th:only-of-type {\n",
       "        vertical-align: middle;\n",
       "    }\n",
       "\n",
       "    .dataframe tbody tr th {\n",
       "        vertical-align: top;\n",
       "    }\n",
       "\n",
       "    .dataframe thead th {\n",
       "        text-align: right;\n",
       "    }\n",
       "</style>\n",
       "<table border=\"1\" class=\"dataframe\">\n",
       "  <thead>\n",
       "    <tr style=\"text-align: right;\">\n",
       "      <th></th>\n",
       "      <th>author_id:START_ID(author)</th>\n",
       "      <th>paper_id:END_ID(paper)</th>\n",
       "      <th>:TYPE</th>\n",
       "    </tr>\n",
       "  </thead>\n",
       "  <tbody>\n",
       "    <tr>\n",
       "      <th>0</th>\n",
       "      <td>799d3471dc131fdc25d248246adaa6efc753fc72</td>\n",
       "      <td>1fe645c8d05d960dd85d08eaaa5574100db591c8</td>\n",
       "      <td>has_published</td>\n",
       "    </tr>\n",
       "    <tr>\n",
       "      <th>1</th>\n",
       "      <td>5400c3bc7dde46fd671390a648659e4697ca9ec9</td>\n",
       "      <td>1fe645c8d05d960dd85d08eaaa5574100db591c8</td>\n",
       "      <td>has_published</td>\n",
       "    </tr>\n",
       "    <tr>\n",
       "      <th>2</th>\n",
       "      <td>bf1e7d9e12fa464e41a87b27f4dfbe1847da17e6</td>\n",
       "      <td>579fdd7af308a5a9b022f5a38c69b6d1fd3c6224</td>\n",
       "      <td>has_published</td>\n",
       "    </tr>\n",
       "    <tr>\n",
       "      <th>3</th>\n",
       "      <td>5bb5106a45d50ff39e7024117a1b87cd60d1fc79</td>\n",
       "      <td>579fdd7af308a5a9b022f5a38c69b6d1fd3c6224</td>\n",
       "      <td>has_published</td>\n",
       "    </tr>\n",
       "    <tr>\n",
       "      <th>4</th>\n",
       "      <td>75397622a3c9b5a707a7feb367f2afb5b14f6698</td>\n",
       "      <td>579fdd7af308a5a9b022f5a38c69b6d1fd3c6224</td>\n",
       "      <td>has_published</td>\n",
       "    </tr>\n",
       "  </tbody>\n",
       "</table>\n",
       "</div>"
      ],
      "text/plain": [
       "                 author_id:START_ID(author)  \\\n",
       "0  799d3471dc131fdc25d248246adaa6efc753fc72   \n",
       "1  5400c3bc7dde46fd671390a648659e4697ca9ec9   \n",
       "2  bf1e7d9e12fa464e41a87b27f4dfbe1847da17e6   \n",
       "3  5bb5106a45d50ff39e7024117a1b87cd60d1fc79   \n",
       "4  75397622a3c9b5a707a7feb367f2afb5b14f6698   \n",
       "\n",
       "                     paper_id:END_ID(paper)          :TYPE  \n",
       "0  1fe645c8d05d960dd85d08eaaa5574100db591c8  has_published  \n",
       "1  1fe645c8d05d960dd85d08eaaa5574100db591c8  has_published  \n",
       "2  579fdd7af308a5a9b022f5a38c69b6d1fd3c6224  has_published  \n",
       "3  579fdd7af308a5a9b022f5a38c69b6d1fd3c6224  has_published  \n",
       "4  579fdd7af308a5a9b022f5a38c69b6d1fd3c6224  has_published  "
      ]
     },
     "execution_count": 21,
     "metadata": {},
     "output_type": "execute_result"
    }
   ],
   "source": [
    "apdata = []\n",
    "for i in range(len(papers)):\n",
    "    a = papers.authors[i]\n",
    "    if not pd.isna(a):\n",
    "        a = papers.authors[i].split(\"; \")\n",
    "        for auth in a:\n",
    "            apdata.append([sha1(auth.encode()).hexdigest(), papers[\"id:ID(paper)\"][i], \"has_published\"])\n",
    "\n",
    "ap = pd.DataFrame(data=apdata, columns=[\"author_id:START_ID(author)\", \"paper_id:END_ID(paper)\", \":TYPE\"])\n",
    "ap.head()"
   ]
  },
  {
   "cell_type": "code",
   "execution_count": 22,
   "id": "f5306ee4",
   "metadata": {
    "ExecuteTime": {
     "end_time": "2022-11-28T23:29:30.156308Z",
     "start_time": "2022-11-28T23:29:30.142900Z"
    }
   },
   "outputs": [
    {
     "data": {
      "text/plain": [
       "(595, 3)"
      ]
     },
     "execution_count": 22,
     "metadata": {},
     "output_type": "execute_result"
    }
   ],
   "source": [
    "ap.shape"
   ]
  },
  {
   "cell_type": "code",
   "execution_count": 23,
   "id": "27eadfb4",
   "metadata": {
    "ExecuteTime": {
     "end_time": "2022-11-28T23:29:33.566758Z",
     "start_time": "2022-11-28T23:29:33.549169Z"
    }
   },
   "outputs": [],
   "source": [
    "ap.to_csv(\"neo4j/author_paper_rel.csv\", index=False)"
   ]
  },
  {
   "cell_type": "code",
   "execution_count": null,
   "id": "3e187e26",
   "metadata": {},
   "outputs": [],
   "source": []
  },
  {
   "cell_type": "code",
   "execution_count": null,
   "id": "df6f5927",
   "metadata": {},
   "outputs": [],
   "source": []
  },
  {
   "cell_type": "code",
   "execution_count": null,
   "id": "484a17a3",
   "metadata": {},
   "outputs": [],
   "source": []
  },
  {
   "cell_type": "code",
   "execution_count": null,
   "id": "84db9852",
   "metadata": {},
   "outputs": [],
   "source": []
  },
  {
   "cell_type": "code",
   "execution_count": null,
   "id": "2f115920",
   "metadata": {},
   "outputs": [],
   "source": []
  },
  {
   "cell_type": "code",
   "execution_count": null,
   "id": "f3847068",
   "metadata": {},
   "outputs": [],
   "source": []
  },
  {
   "cell_type": "code",
   "execution_count": null,
   "id": "a352668b",
   "metadata": {},
   "outputs": [],
   "source": []
  },
  {
   "cell_type": "code",
   "execution_count": null,
   "id": "bfe90e59",
   "metadata": {},
   "outputs": [],
   "source": []
  }
 ],
 "metadata": {
  "kernelspec": {
   "display_name": "Python 3 (ipykernel)",
   "language": "python",
   "name": "python3"
  },
  "language_info": {
   "codemirror_mode": {
    "name": "ipython",
    "version": 3
   },
   "file_extension": ".py",
   "mimetype": "text/x-python",
   "name": "python",
   "nbconvert_exporter": "python",
   "pygments_lexer": "ipython3",
   "version": "3.9.13"
  },
  "varInspector": {
   "cols": {
    "lenName": 16,
    "lenType": 16,
    "lenVar": 40
   },
   "kernels_config": {
    "python": {
     "delete_cmd_postfix": "",
     "delete_cmd_prefix": "del ",
     "library": "var_list.py",
     "varRefreshCmd": "print(var_dic_list())"
    },
    "r": {
     "delete_cmd_postfix": ") ",
     "delete_cmd_prefix": "rm(",
     "library": "var_list.r",
     "varRefreshCmd": "cat(var_dic_list()) "
    }
   },
   "types_to_exclude": [
    "module",
    "function",
    "builtin_function_or_method",
    "instance",
    "_Feature"
   ],
   "window_display": false
  }
 },
 "nbformat": 4,
 "nbformat_minor": 5
}
